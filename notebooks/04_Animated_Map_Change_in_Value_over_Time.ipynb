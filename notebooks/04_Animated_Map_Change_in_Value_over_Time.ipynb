{
 "cells": [
  {
   "cell_type": "markdown",
   "metadata": {},
   "source": [
    "# Map Gifs\n",
    "\n",
    "> In this tutorial, the basics of creating map gifs is introduced"
   ]
  },
  {
   "cell_type": "markdown",
   "metadata": {},
   "source": [
    "This Coding Notebook is the __fourth__ in a series.\n",
    "\n",
    "Interactive examples are provided along the way.\n",
    "\n",
    "This colab and more can be found at https://github.com/BNIA/colabs\n",
    "\n",
    "- Content covered in previous tutorials will be used in later tutorials. \n",
    "\n",
    "- __new code and or  information *should* have explanations and or descriptions__ attached. \n",
    "\n",
    "- Concepts or code covered in previous tutorials will be used without being explaining in entirety.\n",
    "\n",
    "- __If content can not be found in the current tutorial and is not covered in previous tutorials, please let me know.__"
   ]
  },
  {
   "cell_type": "markdown",
   "metadata": {},
   "source": [
    "## Introduction\n",
    "\n",
    "**Description:** This notebook was made to demonstrate how to make a gif map by merging 2 datasets. The first being a dataset containing mappable coordinates onto which the second dataset may mapping its information of interest. \n",
    "\n",
    "This lab is split into two sections. \n",
    "- The first part of this lab provides help you understand the basics operations.\n",
    "- The second part of this notebook provides a single python function that handles everything covered in this lab (and more). \n",
    "\n",
    "**Input(s):** \n",
    "- Dataset (points/ bounds) url\n",
    "- Points/ bounds geometry column(s)\n",
    "- Points/ bounds crs's\n",
    "- Points/ bounds mapping color(s)\n",
    "- New filename\n",
    "\n",
    "**Output:** Files, Gif\n",
    "\n",
    "__*please note__\n",
    "\n",
    "- This lab in particular makes heavy use of data that is not publicly accessible. Later labs use functions created here on public data. \n",
    "- A table of contents is provided in the menu to the left.\n",
    "- And, that this notebook has been optimized for Google Colabs ran on a Chrome Browser. \n",
    "- While still fully usable, non-critical section of code (eg. Python Magics and HTML) may break if used in a different enviornment."
   ]
  },
  {
   "cell_type": "markdown",
   "metadata": {},
   "source": [
    "# Guided Walkthrough"
   ]
  },
  {
   "cell_type": "markdown",
   "metadata": {},
   "source": [
    "## Background"
   ]
  },
  {
   "cell_type": "markdown",
   "metadata": {},
   "source": [
    "#### Coordinate Reference Systems (CRS)\n",
    "\n",
    "Read Make sure the appropriate spatial Coordinate Reference System (CRS) is used when reading in your data!\n",
    "\n",
    "CRS 4326 is th CRS most people are familar with when refering to latiude and longitudes.\n",
    "\n",
    "Baltimore's 4326 CRS should be at (39.2, -76.6)\n",
    "\n",
    "BNIA uses CRS 2248 internally #http://www.spatialreference.org/ref/epsg/2248/\n",
    "\n",
    "Make sure all your dataset coordinates are using the same CRS\n",
    "\n",
    "Perform conversions where needed \n",
    "\n",
    "Additional Information: https://docs.qgis.org/testing/en/docs/gentle_gis_introduction/coordinate_reference_systems.html"
   ]
  },
  {
   "cell_type": "markdown",
   "metadata": {},
   "source": [
    "Census Geographic Data:\n",
    "- **Geographic Coordinate Data** is provided by the census and compliments their census geographies \n",
    "- https://www.census.gov/geographies/mapping-files/time-series/geo/tiger-line-file.2010.html\n",
    "- https://www.census.gov/programs-surveys/acs/geography-acs/geography-boundaries-by-year.html \n",
    "- Bnia created and provides for free geographic boundary data that compliment these CSA's"
   ]
  },
  {
   "cell_type": "markdown",
   "metadata": {},
   "source": [
    "## SETUP"
   ]
  },
  {
   "cell_type": "markdown",
   "metadata": {},
   "source": [
    "### Import Modules"
   ]
  },
  {
   "cell_type": "code",
   "execution_count": null,
   "metadata": {},
   "outputs": [],
   "source": [
    "%%capture #supress_output\n",
    "\n",
    "# Install the Widgets Module. \n",
    "# Colabs does not locally provide this Python Library\n",
    "# The '!' is a special prefix used in colabs when talking to the terminal\n",
    "!pip install geopandas"
   ]
  },
  {
   "cell_type": "code",
   "execution_count": null,
   "metadata": {},
   "outputs": [
    {
     "name": "stdout",
     "output_type": "stream",
     "text": [
      "Enabling notebook extension jupyter-js-widgets/extension...\n",
      "      - Validating: \u001b[32mOK\u001b[0m\n"
     ]
    },
    {
     "name": "stderr",
     "output_type": "stream",
     "text": [
      "/usr/local/lib/python3.6/dist-packages/psycopg2/__init__.py:144: UserWarning: The psycopg2 wheel package will be renamed from release 2.8; in order to keep installing from binary please use \"pip install psycopg2-binary\" instead. For details see: <http://initd.org/psycopg/docs/install.html#binary-install-from-pypi>.\n",
      "  \"\"\")\n"
     ]
    }
   ],
   "source": [
    "#@title Run This Cell: Import Modules\n",
    "\n",
    "# Once installed we need to import and configure the Widgets\n",
    "import ipywidgets as widgets\n",
    "!jupyter nbextension enable --py widgetsnbextension\n",
    "from IPython.core.interactiveshell import InteractiveShell\n",
    "InteractiveShell.ast_node_interactivity = 'all'\n",
    "import ipywidgets as widgets\n",
    "from ipywidgets import interact, interact_manual\n",
    "\n",
    "# Used 4 Importing Data\n",
    "import urllib.request as urllib \n",
    "from urllib.parse import urlencode \n",
    "# This Prevents Timeouts when Importing\n",
    "import socket \n",
    "socket.setdefaulttimeout(10.0)\n",
    "\n",
    "# Pandas Data Manipulation Libraries\n",
    "import pandas as pd\n",
    "# Show entire column widths\n",
    "pd.set_option('display.max_colwidth', -1)\n",
    "# 4 Working with Json Data\n",
    "import json \n",
    "# 4 Data Processing\n",
    "import numpy as np\n",
    "# 4 Reading Json Data into Pandas\n",
    "from pandas.io.json import json_normalize\n",
    "\n",
    "# 4 exporting data as CSV\n",
    "import csv\n",
    "\n",
    "\n",
    "# Geo-Formatting\n",
    "# Postgres-Conversion\n",
    "import geopandas as gpd\n",
    "import psycopg2,pandas,numpy\n",
    "from shapely import wkb\n",
    "import os\n",
    "import sys\n",
    "\n",
    "# In case file is KML\n",
    "import fiona\n",
    "fiona.drvsupport.supported_drivers['kml'] = 'rw' # enable KML support which is disabled by default\n",
    "fiona.drvsupport.supported_drivers['KML'] = 'rw' # enable KML support which is disabled by default\n",
    "\n",
    "# https://www.census.gov/geographies/mapping-files/time-series/geo/tiger-line-file.2010.html\n",
    "# https://www.census.gov/cgi-bin/geo/shapefiles/index.php?year=2010&layergroup=Census+Tracts\n",
    "\n",
    "from geopandas import GeoDataFrame\n",
    "\n",
    "from shapely.wkt import loads\n",
    "from pandas import ExcelWriter\n",
    "from pandas import ExcelFile\n",
    "\n",
    "# load libraries\n",
    "%matplotlib inline\n",
    "import pandas as pd\n",
    "import numpy as np\n",
    "import matplotlib.pyplot as plt\n",
    "import geopandas as gpd\n",
    "import glob\n",
    "\n",
    "# Gif\n",
    "import imageio\n",
    "\n",
    "# Pictures\n",
    "from PIL import Image\n",
    "import requests\n",
    "from io import BytesIO"
   ]
  },
  {
   "cell_type": "markdown",
   "metadata": {},
   "source": [
    "### Configure Enviornment"
   ]
  },
  {
   "cell_type": "code",
   "execution_count": null,
   "metadata": {},
   "outputs": [],
   "source": [
    "# This will just beautify the output\n",
    "\n",
    "pd.set_option('display.expand_frame_repr', False)\n",
    "pd.set_option('display.precision', 2)\n",
    "from IPython.core.interactiveshell import InteractiveShell\n",
    "InteractiveShell.ast_node_interactivity = \"all\"\n",
    "\n",
    "# pd.set_option('display.expand_frame_repr', False)\n",
    "# pd.set_option('display.precision', 2)\n",
    "# pd.reset_option('max_colwidth')\n",
    "pd.set_option('max_colwidth', 20)\n",
    "# pd.reset_option('max_colwidth')"
   ]
  },
  {
   "cell_type": "markdown",
   "metadata": {},
   "source": [
    "### (Optional) Local File Access"
   ]
  },
  {
   "cell_type": "code",
   "execution_count": null,
   "metadata": {},
   "outputs": [
    {
     "name": "stdout",
     "output_type": "stream",
     "text": [
      "Drive already mounted at /content/drive; to attempt to forcibly remount, call drive.mount(\"/content/drive\", force_remount=True).\n"
     ]
    }
   ],
   "source": [
    "# (Optional) Run this cell to gain access to Google Drive (Colabs only) \n",
    "from google.colab import drive\n",
    "\n",
    "# Colabs operates in a virtualized enviornment\n",
    "# Colabs default directory is at ~/content.\n",
    "# We mount Drive into a temporary folder at '~/content/drive' \n",
    "\n",
    "drive.mount('/content/drive')"
   ]
  },
  {
   "cell_type": "markdown",
   "metadata": {},
   "source": [
    "#### File Access Conveince Functions "
   ]
  },
  {
   "cell_type": "code",
   "execution_count": null,
   "metadata": {},
   "outputs": [],
   "source": [
    "# Find Relative Path to Files\n",
    "def findFile(root, file):\n",
    "    for d, subD, f in os.walk(root):\n",
    "        if file in f:\n",
    "            return \"{1}/{0}\".format(file, d)\n",
    "            break \n",
    "\n",
    "# To 'import' a script you wrote, map its filepath into the sys\n",
    "def addPath(root, file): sys.path.append(os.path.abspath( findFile( './', file) ))"
   ]
  },
  {
   "cell_type": "markdown",
   "metadata": {},
   "source": [
    "### Conveince Functions "
   ]
  },
  {
   "cell_type": "code",
   "execution_count": null,
   "metadata": {},
   "outputs": [],
   "source": [
    "def getColName  (df, col): return df.columns[df.columns.str.contains(pat = col)][0] \n",
    "def getColByName (df, col): return df[getColName(df, col)]\n",
    "def addKey(df, fi, col):\n",
    "    key = getColName(df, col)\n",
    "    val = getColByName(df, col)\n",
    "    fi[key] = val\n",
    "    return fi\n",
    "def nullIfEqual(df, c1, c2): \n",
    "    return df.apply(lambda x: \n",
    "        x[getColName(df, c1)]+x[getColName(df, c2)] if x[getColName(df, c1)]+x[getColName(df, c2)] != 0 else 0, axis=1)\n",
    "def sumInts(df): return df.sum(numeric_only=True)"
   ]
  },
  {
   "cell_type": "markdown",
   "metadata": {},
   "source": [
    "This next function was created in previous colabs. We are going to recycle it for use in this lab"
   ]
  },
  {
   "cell_type": "code",
   "execution_count": null,
   "metadata": {},
   "outputs": [],
   "source": [
    "#@title Run This Cell: Create mergeDatasets()\n",
    "\n",
    "def mergeDatasets(df=False, cw=False, left_on=False, right_on=False, how=False, save=False, name=False ): \n",
    "    \n",
    "    \n",
    "  # Check if the columns actually exist\n",
    "  def checkColumns(df, cw, left_on, right_on, how): \n",
    "    dfkeyexist = {left_on}.issubset(df.columns)\n",
    "    cwkeyexist = {right_on}.issubset(cw.columns) \n",
    "    cscolexist = ( {how}.issubset(cw.columns) or \n",
    "                  how in ['left', 'right', 'outer', 'inner'] )\n",
    "\n",
    "    print('df', dfkeyexist, 'cw', cwkeyexist, 'cs', cscolexist)\n",
    "    \n",
    "    return (dfkeyexist and cwkeyexist and cscolexist)\n",
    "\n",
    "  # Ensure data types are the same\n",
    "  def coerceDtypes(df, cw, left_on, right_on):\n",
    "    status = False\n",
    "    foreignDtype = cw[right_on].dtype\n",
    "    localDtype = df[left_on].dtype  \n",
    "    \n",
    "    # Coerce one way or the other if possible\n",
    "    if localDtype == 'int64' and foreignDtype == 'object':\n",
    "      print('Converting Foreign Key from Object to Int' )\n",
    "      cw[right_on] = pd.to_numeric(cw[right_on], errors='coerce')\n",
    "      foreignDtype = cw[right_on].dtype\n",
    "      \n",
    "    if localDtype == 'object' and foreignDtype == 'int64':\n",
    "      print('Converting Foreign Key from Object to Int' )\n",
    "      df[left_on] = pd.to_numeric(df[left_on], errors='coerce')\n",
    "      localDtype = df[left_on].dtype\n",
    "      \n",
    "    # Return the data and the coerce status\n",
    "    if localDtype == foreignDtype: status = True\n",
    "    return df, cw, status\n",
    "\n",
    "\n",
    "  # Decide to perform a merge or commit a pull\n",
    "  def mergeOrPull(df, cw, left_on, right_on, how):  \n",
    "    \n",
    "    def merge(df, cw, left_on, right_on, how):\n",
    "      print('Merging', left_on, right_on, how); \n",
    "      df = pd.merge(df, cw, left_on=left_on, right_on=right_on, how=how)\n",
    "      # df.drop(left_on, axis=1)\n",
    "      df[right_on] = df[right_on].fillna(value='empty')\n",
    "      return df\n",
    "\n",
    "    def pull(df, cw, left_on, right_on, how):\n",
    "      crswlk = dict(zip(cw[right_on], cw[how]  ) )\n",
    "      dtype = df[left_on].dtype\n",
    "      # print('Pulling'); \n",
    "      # print('df.columns', left_on, df[left_on].dtype)\n",
    "      # print('cw.columns', right_on, cw[right_on].dtype)\n",
    "      # print('left_on', left_on, 'right_on', right_on, 'how', how)\n",
    "      if dtype =='object':  df[how] = df.apply(lambda row: crswlk.get(str(row[left_on]), \"empty\"), axis=1)\n",
    "      elif dtype == 'int64': \n",
    "        df[how] = df.apply(lambda row: crswlk.get(int(row[left_on]), \"empty\"), axis=1)\n",
    "      return df\n",
    "    \n",
    "      #crswlk = dict(zip(crosswalk[foreign_tract_name], crosswalk[new_column_name]  ) )\n",
    "      #if foreignDtype == 'object' and foreignDtype == 'object':\n",
    "      #  temp[new_column_name] = temp.apply(lambda row: crswlk.get(str(row[local_tract_name]), \"empty\"), axis=1)\n",
    "      #elif foreignDtype == 'int64' and foreignDtype == 'int64':\n",
    "      #  temp[new_column_name] = temp.apply(lambda row: crswlk.get(int(row[local_tract_name]), \"empty\"), axis=1)\n",
    "      #else: print('THERE BE PROBLEM')\n",
    "    \n",
    "    mergeType = how in ['left', 'right', 'outer', 'inner']\n",
    "    if mergeType: return merge(df, cw, left_on, right_on, how)\n",
    "    else: return pull(df, cw, left_on, right_on, how)\n",
    "    \n",
    "  \n",
    "    \n",
    "  # Filter between matched records and not.\n",
    "  def filterEmpties(df, cw, left_on, right_on, how):\n",
    "    \n",
    "    if how in ['left', 'right', 'outer', 'inner']: how = right_on\n",
    "    nomatch = df.loc[df[how] == 'empty']\n",
    "    nomatch = nomatch.sort_values(by=left_on, ascending=True)\n",
    "    \n",
    "    if nomatch.shape[0] > 0:\n",
    "      # Do the same thing with our foreign tracts\n",
    "      print('Local Column Values Not Matched ')\n",
    "      print(nomatch[left_on].unique() )\n",
    "      print(len(nomatch[left_on]))\n",
    "      print('')\n",
    "      print('Crosswalk Unique Column Values')\n",
    "      print(cw[right_on].unique() )\n",
    "    \n",
    "    # Create a new column with the tracts value mapped to its corresponding value from the crossswalk\n",
    "    df[how].replace('empty', np.nan, inplace=True)\n",
    "    df.dropna(subset=[how], inplace=True)\n",
    "    # cw = cw.sort_values(by=how, ascending=True)\n",
    "    return df\n",
    "\n",
    "  # Save the data (again) as Cleaned for me to use in the next scripts\n",
    "  def saveCrosswalk(save, fileName):\n",
    "    if save: \n",
    "      print('SavingCrosswalk'); \n",
    "      if fileName: print(fileName); df.to_csv(fileName, quoting=csv.QUOTE_ALL)\n",
    "      else: df.to_csv('./crosswalk-matched-'+left_on+'-to-'+right_on+'-pulling-'+how+'.csv', quoting=csv.QUOTE_ALL)\n",
    "\n",
    "  def getMergeParams():\n",
    "\n",
    "    df = pd.read_csv( input(\"Please enter the location of your left dataset: \" ) )\n",
    "    print( 'Left Columns ' + str(df.columns))\n",
    "\n",
    "    crosswalk = pd.read_csv( input(\"Please enter the location of your right dataset: \" ) )\n",
    "    print( 'Right Columns ' + str(crosswalk.columns) + '\\n')\n",
    "\n",
    "    left_on = input(\"Left on: \" )\n",
    "    right_on = input(\"Right on: \" )\n",
    "    how = input(\"How: (‘left’, ‘right’, ‘outer’, ‘inner’, columnName) \" )\n",
    "\n",
    "    # Save the data\n",
    "    saveFile = input(\"Save File ('Y' or 'N'): \")\n",
    "    outFile = False\n",
    "    if saveFile == 'Y' or saveFile == 'y':\n",
    "      outFile = input(\"Saved Filename (Do not include the file extension ): \")\n",
    "\n",
    "    return df, crosswalk, left_on, right_on, how, saveFile, outFile\n",
    "    \n",
    "    \n",
    "  # This function uses all the other functions\n",
    "  def main(df, cw, left_on, right_on, how, save, name):\n",
    "    \n",
    "    if ( (not isinstance(df, pd.DataFrame)) or (not isinstance(cw, pd.DataFrame)) \n",
    "        or not left_on or not right_on or not how): return crosswalkIt( *getMergeParams() );\n",
    "    \n",
    "    # Quit if the Columns dont exist\n",
    "    status = checkColumns(df, cw, left_on, right_on, how)\n",
    "    if status == False: print('A specified column does not exist'); return False;\n",
    "    \n",
    "    # Quit if the foreign key data types wont align nicely\n",
    "    df, cw, status = coerceDtypes(df, cw, left_on, right_on);\n",
    "    if status == False: print('Foreign keys data types do not match'); return False;\n",
    "      \n",
    "    # Perform the merge\n",
    "    df = mergeOrPull(df, cw, left_on, right_on, how)    \n",
    "    \n",
    "    # Filter out columns not matched\n",
    "    df = filterEmpties(df, cw, left_on, right_on, how)\n",
    "    \n",
    "    # Save this final result\n",
    "    saveCrosswalk(save, name)\n",
    "                      \n",
    "    return df\n",
    "  \n",
    "  return main(df, cw, left_on, right_on, how, save, name)\n",
    "# https://docs.google.com/spreadsheets/d/e/2PACX-1vTPKW6YOHPFvkw3FM3m5y67-Aa5ZlrM0Ee1Fb57wlGuldr99sEvVWnkej30FXhSb3j8o9gr8izq2ZRP/pub?output=csv\n",
    "# https://docs.google.com/spreadsheets/d/e/2PACX-1vREwwa_s8Ix39OYGnnS_wA8flOoEkU7reIV4o3ZhlwYhLXhpNEvnOia_uHUDBvnFptkLLHHlaQNvsQE/pub?output=csv"
   ]
  },
  {
   "cell_type": "markdown",
   "metadata": {},
   "source": [
    "## Retrieve GIS Data"
   ]
  },
  {
   "cell_type": "markdown",
   "metadata": {},
   "source": [
    "### Import Boundary Shape/Coordinate Data"
   ]
  },
  {
   "cell_type": "code",
   "execution_count": null,
   "metadata": {},
   "outputs": [
    {
     "name": "stdout",
     "output_type": "stream",
     "text": [
      "/content/drive/My Drive/colabs/DATA\n"
     ]
    }
   ],
   "source": [
    "cd ../../../../../../../../../content/drive/My Drive/colabs/DATA/"
   ]
  },
  {
   "cell_type": "code",
   "execution_count": null,
   "metadata": {},
   "outputs": [],
   "source": [
    "ls"
   ]
  },
  {
   "cell_type": "code",
   "execution_count": null,
   "metadata": {},
   "outputs": [
    {
     "name": "stdout",
     "output_type": "stream",
     "text": [
      "Column headings:\n",
      "Index(['TRACTCE10', 'GEOID10', 'NAME10', 'CSA', 'Tract', 'geometry'], dtype='object')\n"
     ]
    }
   ],
   "source": [
    "geom = pd.read_csv('boundaries-baltimore-tracts-NoWater-2010.csv')\n",
    "print(\"Column headings:\")\n",
    "print(geom.columns)"
   ]
  },
  {
   "cell_type": "markdown",
   "metadata": {},
   "source": [
    "### Import Data of Interest: (Creating the time series dataset)"
   ]
  },
  {
   "cell_type": "markdown",
   "metadata": {},
   "source": [
    "You will not be able to follow along in this section of the lab as I have not made the data publicly accessible.\n",
    "\n",
    "I am using function created in earlier tutorials to perfrom this part.\n",
    "\n",
    "I want to merge a geospatial dataset with 6 years/datasets of longitudinal data"
   ]
  },
  {
   "cell_type": "code",
   "execution_count": null,
   "metadata": {},
   "outputs": [],
   "source": [
    "final = ''"
   ]
  },
  {
   "cell_type": "code",
   "execution_count": null,
   "metadata": {},
   "outputs": [
    {
     "name": "stdout",
     "output_type": "stream",
     "text": [
      "/content/drive/My Drive/colabs/DATA/baltimore-births\n"
     ]
    }
   ],
   "source": [
    "cd ../../../../../content/drive/My Drive/colabs/DATA/baltimore-births"
   ]
  },
  {
   "cell_type": "code",
   "execution_count": null,
   "metadata": {},
   "outputs": [],
   "source": [
    "# I start by accessing the first file I need\n",
    "b17 = pd.read_excel('BirthsbyCensus_2017.XLS', sheetname='Births')\n",
    "\n",
    "# Then I merge the GeoSpatial datset \n",
    "gdf = mergeDatasets( b17, geom, 'ctract', 'TRACTCE10', 'geometry', True, 'attempt2.csv' )\n",
    "\n",
    "# I convert the dataset into a geospatial one after processing the geometry columns text as a coordinate\n",
    "gdf['geometry'] = gdf['geometry'].apply(lambda x: loads(x))\n",
    "final = GeoDataFrame(gdf, geometry='geometry')\n",
    "\n",
    "# I store the count for that year as a unique column\n",
    "final['Total Number of Births By Census Tract 2017'] = final['Count']\n",
    "\n",
    "# .. And repeat 5 more times"
   ]
  },
  {
   "cell_type": "code",
   "execution_count": null,
   "metadata": {},
   "outputs": [],
   "source": [
    "def createFinalDf(filename=False, sheetname=False, left=False, right=False, how=False):\n",
    "  df = pd.read_excel(filename, sheetname=sheetname)\n",
    "  gdf = mergeDatasets( df, geom, left, right, how )   \n",
    "  gdf[how] = gdf[how].apply(lambda x: loads(x))\n",
    "  return GeoDataFrame(gdf, geometry=how) "
   ]
  },
  {
   "cell_type": "code",
   "execution_count": null,
   "metadata": {},
   "outputs": [],
   "source": [
    "filename, sheetname, left, right, how = ['Jones.BirthsbyCensus2016.XLS', 'Births', 'ctract', 'TRACTCE10', 'geometry']\n",
    "final['Total Number of Births By Census Tract 2016'] = createFinalDf(filename, sheetname, left, right, how)['Count'] "
   ]
  },
  {
   "cell_type": "code",
   "execution_count": null,
   "metadata": {},
   "outputs": [],
   "source": [
    "filename, sheetname, left, right, how = ['Jones.BirthsbyCensus2015.XLS', 'Births', 'ctract', 'TRACTCE10', 'geometry']\n",
    "final['Total Number of Births By Census Tract 2015'] = createFinalDf(filename, sheetname, left, right, how)['Count'] "
   ]
  },
  {
   "cell_type": "code",
   "execution_count": null,
   "metadata": {},
   "outputs": [],
   "source": [
    "filename, sheetname, left, right, how = ['Births2014.XLS', 'Births', 'ctract', 'TRACTCE10', 'geometry']\n",
    "final['Total Number of Births By Census Tract 2014'] = createFinalDf(filename, sheetname, left, right, how)['Count'] "
   ]
  },
  {
   "cell_type": "code",
   "execution_count": null,
   "metadata": {},
   "outputs": [],
   "source": [
    "filename, sheetname, left, right, how = ['Births2013.XLS', 'Births', 'ctract', 'TRACTCE10', 'geometry']\n",
    "final['Total Number of Births By Census Tract 2013'] = createFinalDf(filename, sheetname, left, right, how)['Count'] "
   ]
  },
  {
   "cell_type": "code",
   "execution_count": null,
   "metadata": {},
   "outputs": [],
   "source": [
    "filename, sheetname, left, right, how = ['Births_2012.xls', 'Births', 'ctract', 'TRACTCE10', 'geometry']\n",
    "final['Total Number of Births By Census Tract 2012'] = createFinalDf(filename, sheetname, left, right, how)['Count'] "
   ]
  },
  {
   "cell_type": "markdown",
   "metadata": {},
   "source": [
    "## MAPPING"
   ]
  },
  {
   "cell_type": "markdown",
   "metadata": {},
   "source": [
    "Fantastic! \n",
    "\n",
    "Your data is all together in a single dataset.\n",
    "\n",
    "now what?\n",
    "\n",
    "First lets take the centerpoint of each geometry. This will be where we place labeled text on the map geometry.\n"
   ]
  },
  {
   "cell_type": "code",
   "execution_count": null,
   "metadata": {},
   "outputs": [],
   "source": [
    "#final['centroid'] = final['geometry'].centroid\n",
    "final['centroid'] = final['geometry'].representative_point()"
   ]
  },
  {
   "cell_type": "code",
   "execution_count": null,
   "metadata": {},
   "outputs": [
    {
     "data": {
      "text/html": [
       "<div>\n",
       "<style scoped>\n",
       "    .dataframe tbody tr th:only-of-type {\n",
       "        vertical-align: middle;\n",
       "    }\n",
       "\n",
       "    .dataframe tbody tr th {\n",
       "        vertical-align: top;\n",
       "    }\n",
       "\n",
       "    .dataframe thead th {\n",
       "        text-align: right;\n",
       "    }\n",
       "</style>\n",
       "<table border=\"1\" class=\"dataframe\">\n",
       "  <thead>\n",
       "    <tr style=\"text-align: right;\">\n",
       "      <th></th>\n",
       "      <th>ctract</th>\n",
       "      <th>BrthYear</th>\n",
       "      <th>Count</th>\n",
       "      <th>PRETERM</th>\n",
       "      <th>TERM</th>\n",
       "      <th>MLBW</th>\n",
       "      <th>VLBW</th>\n",
       "      <th>RPTBRTH</th>\n",
       "      <th>FRSTTRM</th>\n",
       "      <th>NOCARE</th>\n",
       "      <th>TOBAC</th>\n",
       "      <th>TEENBRTH</th>\n",
       "      <th>geometry</th>\n",
       "      <th>Total Number of Births By Census Tract 2017</th>\n",
       "      <th>Total Number of Births By Census Tract 2016</th>\n",
       "      <th>Total Number of Births By Census Tract 2015</th>\n",
       "      <th>Total Number of Births By Census Tract 2014</th>\n",
       "      <th>Total Number of Births By Census Tract 2013</th>\n",
       "      <th>Total Number of Births By Census Tract 2012</th>\n",
       "      <th>centroid</th>\n",
       "    </tr>\n",
       "  </thead>\n",
       "  <tbody>\n",
       "    <tr>\n",
       "      <th>0</th>\n",
       "      <td>10100</td>\n",
       "      <td>2017</td>\n",
       "      <td>41</td>\n",
       "      <td>1</td>\n",
       "      <td>40</td>\n",
       "      <td>1</td>\n",
       "      <td>0</td>\n",
       "      <td>15</td>\n",
       "      <td>37</td>\n",
       "      <td>0</td>\n",
       "      <td>0</td>\n",
       "      <td>0</td>\n",
       "      <td>POLYGON ((-76.57...</td>\n",
       "      <td>41</td>\n",
       "      <td>59.0</td>\n",
       "      <td>38</td>\n",
       "      <td>60</td>\n",
       "      <td>39</td>\n",
       "      <td>49.0</td>\n",
       "      <td>POINT (-76.57402...</td>\n",
       "    </tr>\n",
       "    <tr>\n",
       "      <th>1</th>\n",
       "      <td>10200</td>\n",
       "      <td>2017</td>\n",
       "      <td>44</td>\n",
       "      <td>3</td>\n",
       "      <td>41</td>\n",
       "      <td>3</td>\n",
       "      <td>0</td>\n",
       "      <td>11</td>\n",
       "      <td>35</td>\n",
       "      <td>0</td>\n",
       "      <td>0</td>\n",
       "      <td>1</td>\n",
       "      <td>POLYGON ((-76.57...</td>\n",
       "      <td>44</td>\n",
       "      <td>62.0</td>\n",
       "      <td>59</td>\n",
       "      <td>49</td>\n",
       "      <td>42</td>\n",
       "      <td>64.0</td>\n",
       "      <td>POINT (-76.57377...</td>\n",
       "    </tr>\n",
       "    <tr>\n",
       "      <th>2</th>\n",
       "      <td>10300</td>\n",
       "      <td>2017</td>\n",
       "      <td>37</td>\n",
       "      <td>2</td>\n",
       "      <td>35</td>\n",
       "      <td>1</td>\n",
       "      <td>0</td>\n",
       "      <td>14</td>\n",
       "      <td>31</td>\n",
       "      <td>0</td>\n",
       "      <td>0</td>\n",
       "      <td>0</td>\n",
       "      <td>POLYGON ((-76.57...</td>\n",
       "      <td>37</td>\n",
       "      <td>32.0</td>\n",
       "      <td>43</td>\n",
       "      <td>37</td>\n",
       "      <td>40</td>\n",
       "      <td>41.0</td>\n",
       "      <td>POINT (-76.58018...</td>\n",
       "    </tr>\n",
       "    <tr>\n",
       "      <th>3</th>\n",
       "      <td>10400</td>\n",
       "      <td>2017</td>\n",
       "      <td>45</td>\n",
       "      <td>3</td>\n",
       "      <td>42</td>\n",
       "      <td>2</td>\n",
       "      <td>0</td>\n",
       "      <td>13</td>\n",
       "      <td>34</td>\n",
       "      <td>0</td>\n",
       "      <td>0</td>\n",
       "      <td>0</td>\n",
       "      <td>POLYGON ((-76.57...</td>\n",
       "      <td>45</td>\n",
       "      <td>34.0</td>\n",
       "      <td>33</td>\n",
       "      <td>53</td>\n",
       "      <td>31</td>\n",
       "      <td>37.0</td>\n",
       "      <td>POINT (-76.57969...</td>\n",
       "    </tr>\n",
       "    <tr>\n",
       "      <th>4</th>\n",
       "      <td>10500</td>\n",
       "      <td>2017</td>\n",
       "      <td>28</td>\n",
       "      <td>1</td>\n",
       "      <td>27</td>\n",
       "      <td>0</td>\n",
       "      <td>0</td>\n",
       "      <td>12</td>\n",
       "      <td>26</td>\n",
       "      <td>0</td>\n",
       "      <td>0</td>\n",
       "      <td>0</td>\n",
       "      <td>POLYGON ((-76.58...</td>\n",
       "      <td>28</td>\n",
       "      <td>28.0</td>\n",
       "      <td>22</td>\n",
       "      <td>28</td>\n",
       "      <td>23</td>\n",
       "      <td>22.0</td>\n",
       "      <td>POINT (-76.58588...</td>\n",
       "    </tr>\n",
       "  </tbody>\n",
       "</table>\n",
       "</div>"
      ],
      "text/plain": [
       "   ctract  BrthYear  Count  PRETERM  TERM  MLBW  VLBW  RPTBRTH  FRSTTRM  NOCARE  TOBAC  TEENBRTH             geometry  Total Number of Births By Census Tract 2017  Total Number of Births By Census Tract 2016  Total Number of Births By Census Tract 2015  Total Number of Births By Census Tract 2014  Total Number of Births By Census Tract 2013  Total Number of Births By Census Tract 2012             centroid\n",
       "0   10100      2017     41        1    40     1     0       15       37       0      0         0  POLYGON ((-76.57...                   41                                         59.0                                           38                                           60                                           39                                         49.0                          POINT (-76.57402...\n",
       "1   10200      2017     44        3    41     3     0       11       35       0      0         1  POLYGON ((-76.57...                   44                                         62.0                                           59                                           49                                           42                                         64.0                          POINT (-76.57377...\n",
       "2   10300      2017     37        2    35     1     0       14       31       0      0         0  POLYGON ((-76.57...                   37                                         32.0                                           43                                           37                                           40                                         41.0                          POINT (-76.58018...\n",
       "3   10400      2017     45        3    42     2     0       13       34       0      0         0  POLYGON ((-76.57...                   45                                         34.0                                           33                                           53                                           31                                         37.0                          POINT (-76.57969...\n",
       "4   10500      2017     28        1    27     0     0       12       26       0      0         0  POLYGON ((-76.58...                   28                                         28.0                                           22                                           28                                           23                                         22.0                          POINT (-76.58588..."
      ]
     },
     "execution_count": null,
     "metadata": {
      "tags": []
     },
     "output_type": "execute_result"
    }
   ],
   "source": [
    "final.head()"
   ]
  },
  {
   "cell_type": "code",
   "execution_count": null,
   "metadata": {},
   "outputs": [
    {
     "data": {
      "text/plain": [
       "<matplotlib.axes._subplots.AxesSubplot at 0x7feb9d22a780>"
      ]
     },
     "execution_count": null,
     "metadata": {
      "tags": []
     },
     "output_type": "execute_result"
    },
    {
     "data": {
      "image/png": "[encoded data removed]",
      "text/plain": [
       "<Figure size 432x288 with 1 Axes>"
      ]
     },
     "metadata": {
      "tags": []
     },
     "output_type": "display_data"
    }
   ],
   "source": [
    "final.plot()"
   ]
  },
  {
   "cell_type": "markdown",
   "metadata": {},
   "source": [
    "## Lets make a GIF"
   ]
  },
  {
   "cell_type": "markdown",
   "metadata": {},
   "source": [
    "Data was successfully merged across all years and geometry.\n",
    "\n",
    "Now we want the tractname, geometry, and the specific column we want to make a gif from."
   ]
  },
  {
   "cell_type": "code",
   "execution_count": null,
   "metadata": {},
   "outputs": [],
   "source": [
    "# Get only the results tab\n",
    "td = final.filter(regex=\"Births|tract|geometry|centroid\")\n",
    "td = td.reindex(sorted(td.columns), axis=1)"
   ]
  },
  {
   "cell_type": "code",
   "execution_count": null,
   "metadata": {},
   "outputs": [
    {
     "data": {
      "text/html": [
       "<div>\n",
       "<style scoped>\n",
       "    .dataframe tbody tr th:only-of-type {\n",
       "        vertical-align: middle;\n",
       "    }\n",
       "\n",
       "    .dataframe tbody tr th {\n",
       "        vertical-align: top;\n",
       "    }\n",
       "\n",
       "    .dataframe thead th {\n",
       "        text-align: right;\n",
       "    }\n",
       "</style>\n",
       "<table border=\"1\" class=\"dataframe\">\n",
       "  <thead>\n",
       "    <tr style=\"text-align: right;\">\n",
       "      <th></th>\n",
       "      <th>Total Number of Births By Census Tract 2012</th>\n",
       "      <th>Total Number of Births By Census Tract 2013</th>\n",
       "      <th>Total Number of Births By Census Tract 2014</th>\n",
       "      <th>Total Number of Births By Census Tract 2015</th>\n",
       "      <th>Total Number of Births By Census Tract 2016</th>\n",
       "      <th>Total Number of Births By Census Tract 2017</th>\n",
       "      <th>centroid</th>\n",
       "      <th>ctract</th>\n",
       "      <th>geometry</th>\n",
       "    </tr>\n",
       "  </thead>\n",
       "  <tbody>\n",
       "    <tr>\n",
       "      <th>0</th>\n",
       "      <td>49</td>\n",
       "      <td>39</td>\n",
       "      <td>60</td>\n",
       "      <td>38</td>\n",
       "      <td>59</td>\n",
       "      <td>41</td>\n",
       "      <td>POINT (-76.57402...</td>\n",
       "      <td>10100</td>\n",
       "      <td>POLYGON ((-76.57...</td>\n",
       "    </tr>\n",
       "    <tr>\n",
       "      <th>1</th>\n",
       "      <td>64</td>\n",
       "      <td>42</td>\n",
       "      <td>49</td>\n",
       "      <td>59</td>\n",
       "      <td>62</td>\n",
       "      <td>44</td>\n",
       "      <td>POINT (-76.57377...</td>\n",
       "      <td>10200</td>\n",
       "      <td>POLYGON ((-76.57...</td>\n",
       "    </tr>\n",
       "    <tr>\n",
       "      <th>2</th>\n",
       "      <td>41</td>\n",
       "      <td>40</td>\n",
       "      <td>37</td>\n",
       "      <td>43</td>\n",
       "      <td>32</td>\n",
       "      <td>37</td>\n",
       "      <td>POINT (-76.58018...</td>\n",
       "      <td>10300</td>\n",
       "      <td>POLYGON ((-76.57...</td>\n",
       "    </tr>\n",
       "    <tr>\n",
       "      <th>3</th>\n",
       "      <td>37</td>\n",
       "      <td>31</td>\n",
       "      <td>53</td>\n",
       "      <td>33</td>\n",
       "      <td>34</td>\n",
       "      <td>45</td>\n",
       "      <td>POINT (-76.57969...</td>\n",
       "      <td>10400</td>\n",
       "      <td>POLYGON ((-76.57...</td>\n",
       "    </tr>\n",
       "    <tr>\n",
       "      <th>4</th>\n",
       "      <td>22</td>\n",
       "      <td>23</td>\n",
       "      <td>28</td>\n",
       "      <td>22</td>\n",
       "      <td>28</td>\n",
       "      <td>28</td>\n",
       "      <td>POINT (-76.58588...</td>\n",
       "      <td>10500</td>\n",
       "      <td>POLYGON ((-76.58...</td>\n",
       "    </tr>\n",
       "  </tbody>\n",
       "</table>\n",
       "</div>"
      ],
      "text/plain": [
       "   Total Number of Births By Census Tract 2012  Total Number of Births By Census Tract 2013  Total Number of Births By Census Tract 2014  Total Number of Births By Census Tract 2015  Total Number of Births By Census Tract 2016  Total Number of Births By Census Tract 2017             centroid  ctract             geometry\n",
       "0                   49                                           39                                           60                                           38                                           59                                           41                          POINT (-76.57402...   10100  POLYGON ((-76.57...\n",
       "1                   64                                           42                                           49                                           59                                           62                                           44                          POINT (-76.57377...   10200  POLYGON ((-76.57...\n",
       "2                   41                                           40                                           37                                           43                                           32                                           37                          POINT (-76.58018...   10300  POLYGON ((-76.57...\n",
       "3                   37                                           31                                           53                                           33                                           34                                           45                          POINT (-76.57969...   10400  POLYGON ((-76.57...\n",
       "4                   22                                           23                                           28                                           22                                           28                                           28                          POINT (-76.58588...   10500  POLYGON ((-76.58..."
      ]
     },
     "execution_count": null,
     "metadata": {
      "tags": []
     },
     "output_type": "execute_result"
    }
   ],
   "source": [
    "# Coerce columns stored as floats into integers. \n",
    "# This will ensure numbers are rounded to whole digits when displaying the reults\n",
    "\n",
    "col1 = 'Total Number of Births By Census Tract 2012'\n",
    "col2 = 'Total Number of Births By Census Tract 2016'\n",
    "td[[col1, col2]] = td[[col1, col2]].fillna(-1)\n",
    "td[[col1, col2]] = td[[col1, col2]].astype('int32')\n",
    "td.head()"
   ]
  },
  {
   "cell_type": "markdown",
   "metadata": {},
   "source": [
    "Data exploration is essential! But not covered in this lab."
   ]
  },
  {
   "cell_type": "code",
   "execution_count": null,
   "metadata": {},
   "outputs": [
    {
     "data": {
      "text/plain": [
       "array([[<matplotlib.axes._subplots.AxesSubplot object at 0x7feb9d9d2470>,\n",
       "        <matplotlib.axes._subplots.AxesSubplot object at 0x7feb9d9e5ba8>],\n",
       "       [<matplotlib.axes._subplots.AxesSubplot object at 0x7feb9d8f06d8>,\n",
       "        <matplotlib.axes._subplots.AxesSubplot object at 0x7feb9e03abe0>],\n",
       "       [<matplotlib.axes._subplots.AxesSubplot object at 0x7feb9def1198>,\n",
       "        <matplotlib.axes._subplots.AxesSubplot object at 0x7feb9daaf710>]],\n",
       "      dtype=object)"
      ]
     },
     "execution_count": null,
     "metadata": {
      "tags": []
     },
     "output_type": "execute_result"
    },
    {
     "data": {
      "image/png": "[encoded data removed]",
      "text/plain": [
       "<Figure size 432x288 with 6 Axes>"
      ]
     },
     "metadata": {
      "tags": []
     },
     "output_type": "display_data"
    }
   ],
   "source": [
    "td.filter(regex=\"Births\").hist()"
   ]
  },
  {
   "cell_type": "markdown",
   "metadata": {},
   "source": [
    "Everything is almost ready to start making our gifmap!\n",
    "\n",
    "Lets just get the minimum and maximum values so that our color ramp will have consistent values on each picture."
   ]
  },
  {
   "cell_type": "code",
   "execution_count": null,
   "metadata": {},
   "outputs": [
    {
     "name": "stdout",
     "output_type": "stream",
     "text": [
      "[-1, 1, 2, 1, -1, 1] [106, 139, 154, 149, 148, 143]\n",
      "Smallest Value:  -1 , Max Value: 154\n"
     ]
    }
   ],
   "source": [
    "# Get Min Max\n",
    "mins = []\n",
    "maxs = []\n",
    "for col in td.columns:\n",
    "  if col in ['NAME', 'state', 'county', 'ctract', 'geometry', 'centroid'] :\n",
    "    pass\n",
    "  else: \n",
    "    mins.append(td[col].min())\n",
    "    maxs.append(td[col].max())\n",
    "print(mins, maxs)\n",
    "\n",
    "# set the min and max range for the choropleth map\n",
    "vmin, vmax = min(mins), max(maxs)\n",
    "print('Smallest Value: ', vmin, ', Max Value:', vmax)"
   ]
  },
  {
   "cell_type": "code",
   "execution_count": null,
   "metadata": {},
   "outputs": [],
   "source": [
    "pd.set_option('precision', 0)\n",
    "\n",
    "merged = td   \n",
    "fileNames = []\n",
    "saveGifAs = './Births_By_Tract_With_Count_Label.gif'\n",
    "labelBounds = True\n",
    "specialLabelCol = False\n",
    "annotation = 'Source: Maryland Vital Statistics; Analysis by: Baltimore Neighborhood Indicators Alliance' \n",
    "fontsize='22'\n",
    "\n",
    "# For each column\n",
    "for indx, col in enumerate(merged.filter(regex=\"Births\").columns):\n",
    "    if col in ['NAME', 'state', 'county', 'tract', 'geometry'] :\n",
    "        pass\n",
    "    else: \n",
    "        print('INDEX', indx)\n",
    "        print('Col: '+str(col) )\n",
    "        image_name = col+'.jpg'\n",
    "        fileNames.append(image_name)\n",
    "\n",
    "        # create map, UDPATE: added plt.Normalize to keep the legend range the same for all maps\n",
    "        fig = merged.plot(column=col, cmap='Blues', figsize=(10,10), \n",
    "           linewidth=0.8, edgecolor='0.8', vmin=vmin, vmax=vmax,\n",
    "           legend=True, norm=plt.Normalize(vmin=vmin, vmax=vmax) \n",
    "        )\n",
    "        \n",
    "        # https://stackoverflow.com/questions/38899190/geopandas-label-polygons\n",
    "        if labelBounds:\n",
    "          labelColumn = col\n",
    "          if specialLabelCol: labelColumn = specialLabelCol\n",
    "          merged.apply(lambda x: fig.annotate(s=x[labelColumn], xy=x.geometry.centroid.coords[0], ha='center'),axis=1);\n",
    "        \n",
    "        # remove axis of chart and set title\n",
    "        fig.axis('off')\n",
    "        fig.set_title(str(col.replace(\"_\", \" \")), fontdict={'fontsize': fontsize, 'fontweight' : '3'})\n",
    "        \n",
    "        # create an annotation for the  data source\n",
    "        fig.annotate(annotation,\n",
    "               xy=(0.1, .08), xycoords='figure fraction',\n",
    "               horizontalalignment='left', verticalalignment='top',\n",
    "               fontsize=10, color='#555555')\n",
    "        \n",
    "        # this will save the figure as a high-res png in the output path. you can also save as svg if you prefer.\n",
    "        # filepath = os.path.join(output_path, image_name)\n",
    "        chart = fig.get_figure()\n",
    "        # fig.savefig(“map_export.png”, dpi=300)\n",
    "        chart.savefig(image_name, dpi=300)\n",
    "        plt.close(chart)\n",
    "        \n",
    "images = []\n",
    "for filename in fileNames:\n",
    "    images.append(imageio.imread(filename))\n",
    "imageio.mimsave(saveGifAs, images, fps=.5)\n",
    "\n",
    "\n",
    "# This will print out a picture of each picture in the gifmap.\n",
    "from PIL import Image\n",
    "import requests\n",
    "from io import BytesIO\n",
    "for filename in fileNames:\n",
    "    img = Image.open(filename) \n",
    "    size = 328, 328\n",
    "    img.thumbnail(size, Image.ANTIALIAS)\n",
    "    img"
   ]
  },
  {
   "cell_type": "markdown",
   "metadata": {},
   "source": [
    "# Final Result"
   ]
  },
  {
   "cell_type": "code",
   "execution_count": null,
   "metadata": {},
   "outputs": [],
   "source": [
    "def getMinMax(df):\n",
    "  # Get Min Max\n",
    "  mins = []\n",
    "  maxs = []\n",
    "  for col in td.columns:\n",
    "    if col in ['NAME', 'state', 'county', 'ctract', 'geometry', 'centroid'] :\n",
    "      pass\n",
    "    else: \n",
    "      mins.append(df[col].min())\n",
    "      maxs.append(df[col].max())\n",
    "  print(mins, maxs)\n",
    "  return [mins, maxs]\n",
    "\n",
    "def getAbsMinMax(df):\n",
    "  # Get Min Max\n",
    "  mins, maxs = getMinMax(df)\n",
    "  return [min(mins), max(maxs)]\n",
    "\n",
    "def createGif(fileNames, saveGifAs):\n",
    "  # This will print out a picture of each picture in the gifmap as well.\n",
    "  images = []\n",
    "  for filename in fileNames:\n",
    "      images.append(imageio.imread(filename))\n",
    "      img = Image.open(filename) \n",
    "      size = 328, 328\n",
    "      img.thumbnail(size, Image.ANTIALIAS)\n",
    "      print(img)\n",
    "  imageio.mimsave(saveGifAs, images, fps=.5)\n",
    "\n",
    "def createPicture(merged, labelBounds, specialLabelCol, annotation, fontsize):\n",
    "  fileNames = []\n",
    "  # For each column\n",
    "  for indx, col in enumerate(merged.filter(regex=\"Births\").columns):\n",
    "      if col in ['NAME', 'state', 'county', 'tract', 'geometry'] :\n",
    "          pass\n",
    "      else: \n",
    "          print('INDEX', indx)\n",
    "          print('Col: '+str(col) )\n",
    "          image_name = col+'.jpg'\n",
    "          fileNames.append(image_name)\n",
    "\n",
    "          # create map, UDPATE: added plt.Normalize to keep the legend range the same for all maps\n",
    "          fig = merged.plot(column=col, cmap='Blues', figsize=(10,10), \n",
    "             linewidth=0.8, edgecolor='0.8', vmin=vmin, vmax=vmax,\n",
    "             legend=True, norm=plt.Normalize(vmin=vmin, vmax=vmax) \n",
    "          )\n",
    "\n",
    "          # https://stackoverflow.com/questions/38899190/geopandas-label-polygons\n",
    "          if labelBounds:\n",
    "            labelColumn = col\n",
    "            if specialLabelCol: labelColumn = specialLabelCol\n",
    "            merged.apply(lambda x: fig.annotate(s=x[labelColumn], xy=x.geometry.centroid.coords[0], ha='center'),axis=1);\n",
    "\n",
    "          # remove axis of chart and set title\n",
    "          fig.axis('off')\n",
    "          fig.set_title(str(col.replace(\"_\", \" \")), fontdict={'fontsize': fontsize, 'fontweight' : '3'})\n",
    "\n",
    "          # create an annotation for the  data source\n",
    "          fig.annotate(annotation,\n",
    "                 xy=(0.1, .08), xycoords='figure fraction',\n",
    "                 horizontalalignment='left', verticalalignment='top',\n",
    "                 fontsize=10, color='#555555')\n",
    "\n",
    "          # this will save the figure as a high-res png in the output path. you can also save as svg if you prefer.\n",
    "          # filepath = os.path.join(output_path, image_name)\n",
    "          chart = fig.get_figure()\n",
    "          # fig.savefig(“map_export.png”, dpi=300)\n",
    "          chart.savefig(image_name, dpi=300)\n",
    "          plt.close(chart)\n",
    "  return fileNames\n",
    "  \n",
    "def createGifMap(df, saveGifAs, labelBounds, specialLabelCol, annotation, fontsize):\n",
    "  # set the min and max range for the choropleth map\n",
    "  vmin, vmax = getAbsMinMax(df)\n",
    "  print('Smallest Value: ', vmin, ', Max Value:', vmax)\n",
    "  \n",
    "  fileNames = createPicture(df, labelBounds, specialLabelCol, annotation, fontsize)\n",
    "  print('Pictures were created')\n",
    "\n",
    "  createGif(fileNames, saveGifAs)"
   ]
  },
  {
   "cell_type": "code",
   "execution_count": null,
   "metadata": {},
   "outputs": [
    {
     "name": "stdout",
     "output_type": "stream",
     "text": [
      "[-1, 1, 2, 1, -1, 1] [106, 139, 154, 149, 148, 143]\n",
      "Smallest Value:  -1 , Max Value: 154\n",
      "INDEX 0\n",
      "Col: Total Number of Births By Census Tract 2012\n",
      "INDEX 1\n",
      "Col: Total Number of Births By Census Tract 2013\n",
      "INDEX 2\n",
      "Col: Total Number of Births By Census Tract 2014\n",
      "INDEX 3\n",
      "Col: Total Number of Births By Census Tract 2015\n",
      "INDEX 4\n",
      "Col: Total Number of Births By Census Tract 2016\n",
      "INDEX 5\n",
      "Col: Total Number of Births By Census Tract 2017\n",
      "Pictures were created\n",
      "<PIL.JpegImagePlugin.JpegImageFile image mode=RGB size=328x328 at 0x7FEB9C70FEF0>\n",
      "<PIL.JpegImagePlugin.JpegImageFile image mode=RGB size=328x328 at 0x7FEB9CB42F98>\n",
      "<PIL.JpegImagePlugin.JpegImageFile image mode=RGB size=328x328 at 0x7FEB9C70FFD0>\n",
      "<PIL.JpegImagePlugin.JpegImageFile image mode=RGB size=328x328 at 0x7FEB9CC8B9B0>\n",
      "<PIL.JpegImagePlugin.JpegImageFile image mode=RGB size=328x328 at 0x7FEB9C7141D0>\n",
      "<PIL.JpegImagePlugin.JpegImageFile image mode=RGB size=328x328 at 0x7FEB9C714470>\n"
     ]
    }
   ],
   "source": [
    "pd.set_option('precision', 0)\n",
    "\n",
    "saveGifAs = './Births_By_Tract_With_Count_Label.gif'\n",
    "labelBounds = True\n",
    "specialLabelCol = False\n",
    "annotation = 'Source: Maryland Vital Statistics; Analysis by: Baltimore Neighborhood Indicators Alliance' \n",
    "fontsize='22'\n",
    "\n",
    "createGifMap(td, saveGifAs, labelBounds, specialLabelCol, annotation, fontsize)"
   ]
  },
  {
   "cell_type": "code",
   "execution_count": null,
   "metadata": {},
   "outputs": [
    {
     "name": "stdout",
     "output_type": "stream",
     "text": [
      " avocado.csv\n",
      " \u001b[0m\u001b[01;34mbaltimore-births\u001b[0m/\n",
      " Births_By_Tract_With_Count_Label.gif\n",
      " boundaries-baltimore-communities-NoWater-2010.csv\n",
      " boundaries-baltimore-communities-NoWater-2010.geojson\n",
      " boundaries-baltimore-neighborhoods.csv\n",
      " boundaries-baltimore-neighborhoods.geojson\n",
      " boundaries-baltimore-neighborhoods.gsheet\n",
      " boundaries-baltimore-tracts-NoWater-2010.csv\n",
      " boundaries-baltimore-tracts-NoWater-2010.geojson\n",
      " boundaries-evanston-tracts-2010.csv\n",
      " boundaries-evanston-tracts-2010.geojson\n",
      " boundaries-evanston-tracts-2010.gsheet\n",
      " boundaries-maryland_census-tracts-2010.csv\n",
      " boundaries-maryland_census-tracts-2010.geojson\n",
      " boundaries-maryland-counties.csv\n",
      " boundaries-maryland-counties.geojson\n",
      " boundaries-moco-census-tracts-2010.csv\n",
      " boundaries-moco-census-tracts-2010.geojson\n",
      " crosswalk-census-communities-2010.gsheet\n",
      " dashboardDataColumnDescriptions.csv\n",
      " dashboardDataColumnDescriptions.gsheet\n",
      " dashboardData.csv\n",
      " dashboardData.gsheet\n",
      " \u001b[01;34mexemptions\u001b[0m/\n",
      "'Grid view.csv'\n",
      " iw.csv\n",
      " symbols.json\n",
      "'Total Number of Births By Census Tract 2012.jpg'\n",
      "'Total Number of Births By Census Tract 2013.jpg'\n",
      "'Total Number of Births By Census Tract 2014.jpg'\n",
      "'Total Number of Births By Census Tract 2015.jpg'\n",
      "'Total Number of Births By Census Tract 2016.jpg'\n",
      "'Total Number of Births By Census Tract 2017.jpg'\n"
     ]
    }
   ],
   "source": [
    "ls"
   ]
  }
 ],
 "metadata": {
  "kernelspec": {
   "display_name": "Python 3",
   "name": "python3"
  }
 },
 "nbformat": 4,
 "nbformat_minor": 0
}
