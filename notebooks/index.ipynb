{
 "cells": [
  {
   "cell_type": "markdown",
   "metadata": {},
   "source": [
    "# Data Handling Guidebook\n",
    "\n",
    "> The one stop shop to learn about data intake, processing, and visualization."
   ]
  },
  {
   "cell_type": "markdown",
   "metadata": {},
   "source": [
    "This homepage will show you just some of the things you can do with data."
   ]
  },
  {
   "cell_type": "markdown",
   "metadata": {},
   "source": [
    "## Install"
   ]
  },
  {
   "cell_type": "markdown",
   "metadata": {},
   "source": [
    "The code is on <a href=\"https://pypi.org/project/test-template/\">PyPI</a> so you can just run:"
   ]
  },
  {
   "cell_type": "code",
   "execution_count": null,
   "metadata": {},
   "outputs": [],
   "source": [
    "pip install test-template geopandas"
   ]
  },
  {
   "cell_type": "markdown",
   "metadata": {},
   "source": [
    "From the terminal to install the code and its dependencies"
   ]
  },
  {
   "cell_type": "markdown",
   "metadata": {},
   "source": [
    "## How to use"
   ]
  },
  {
   "cell_type": "markdown",
   "metadata": {},
   "source": [
    "Import the installed module into your code and use like so:\n",
    "``` \n",
    "from test_template.acsDownload import retrieve_acs_data \n",
    "retrieve_acs_data(state, county, tract, tableId, year, saveAcs)\n",
    "```"
   ]
  },
  {
   "cell_type": "markdown",
   "metadata": {},
   "source": [
    "Heres an example:"
   ]
  },
  {
   "cell_type": "code",
   "execution_count": null,
   "metadata": {},
   "outputs": [],
   "source": [
    "from test_template.acsDownload import retrieve_acs_data"
   ]
  },
  {
   "cell_type": "code",
   "execution_count": null,
   "metadata": {},
   "outputs": [],
   "source": [
    "# Define our download parameters.\n",
    "# more information on these parameters can be found in the tutorials!\n",
    "tract = '*'\n",
    "county = '510'\n",
    "state = '24'\n",
    "tableId = 'B19001'\n",
    "year = '17'\n",
    "saveAcs = False"
   ]
  },
  {
   "cell_type": "code",
   "execution_count": null,
   "metadata": {},
   "outputs": [],
   "source": [
    "#hide\n",
    "# table formatting\n",
    "pd.set_option('display.max_rows', 10)\n",
    "pd.set_option('display.max_columns', 6)\n",
    "pd.set_option('display.width', 10)"
   ]
  },
  {
   "cell_type": "code",
   "execution_count": null,
   "metadata": {},
   "outputs": [
    {
     "name": "stdout",
     "output_type": "stream",
     "text": [
      "Number of Columns 17\n"
     ]
    },
    {
     "data": {
      "text/html": [
       "<div>\n",
       "<style scoped>\n",
       "    .dataframe tbody tr th:only-of-type {\n",
       "        vertical-align: middle;\n",
       "    }\n",
       "\n",
       "    .dataframe tbody tr th {\n",
       "        vertical-align: top;\n",
       "    }\n",
       "\n",
       "    .dataframe thead th {\n",
       "        text-align: right;\n",
       "    }\n",
       "</style>\n",
       "<table border=\"1\" class=\"dataframe\">\n",
       "  <thead>\n",
       "    <tr style=\"text-align: right;\">\n",
       "      <th></th>\n",
       "      <th>B19001_001E_Total</th>\n",
       "      <th>B19001_002E_Total_Less_than_$10_000</th>\n",
       "      <th>B19001_003E_Total_$10_000_to_$14_999</th>\n",
       "      <th>...</th>\n",
       "      <th>state</th>\n",
       "      <th>county</th>\n",
       "      <th>tract</th>\n",
       "    </tr>\n",
       "    <tr>\n",
       "      <th>NAME</th>\n",
       "      <th></th>\n",
       "      <th></th>\n",
       "      <th></th>\n",
       "      <th></th>\n",
       "      <th></th>\n",
       "      <th></th>\n",
       "      <th></th>\n",
       "    </tr>\n",
       "  </thead>\n",
       "  <tbody>\n",
       "    <tr>\n",
       "      <th>Census Tract 1901</th>\n",
       "      <td>796</td>\n",
       "      <td>237</td>\n",
       "      <td>76</td>\n",
       "      <td>...</td>\n",
       "      <td>24</td>\n",
       "      <td>510</td>\n",
       "      <td>190100</td>\n",
       "    </tr>\n",
       "    <tr>\n",
       "      <th>Census Tract 1902</th>\n",
       "      <td>695</td>\n",
       "      <td>63</td>\n",
       "      <td>87</td>\n",
       "      <td>...</td>\n",
       "      <td>24</td>\n",
       "      <td>510</td>\n",
       "      <td>190200</td>\n",
       "    </tr>\n",
       "    <tr>\n",
       "      <th>Census Tract 2201</th>\n",
       "      <td>2208</td>\n",
       "      <td>137</td>\n",
       "      <td>229</td>\n",
       "      <td>...</td>\n",
       "      <td>24</td>\n",
       "      <td>510</td>\n",
       "      <td>220100</td>\n",
       "    </tr>\n",
       "    <tr>\n",
       "      <th>Census Tract 2303</th>\n",
       "      <td>632</td>\n",
       "      <td>3</td>\n",
       "      <td>20</td>\n",
       "      <td>...</td>\n",
       "      <td>24</td>\n",
       "      <td>510</td>\n",
       "      <td>230300</td>\n",
       "    </tr>\n",
       "    <tr>\n",
       "      <th>Census Tract 2502.07</th>\n",
       "      <td>836</td>\n",
       "      <td>102</td>\n",
       "      <td>28</td>\n",
       "      <td>...</td>\n",
       "      <td>24</td>\n",
       "      <td>510</td>\n",
       "      <td>250207</td>\n",
       "    </tr>\n",
       "  </tbody>\n",
       "</table>\n",
       "<p>5 rows × 20 columns</p>\n",
       "</div>"
      ],
      "text/plain": [
       "                      B19001_001E_Total  \\\n",
       "NAME                                      \n",
       "Census Tract 1901     796                 \n",
       "Census Tract 1902     695                 \n",
       "Census Tract 2201     2208                \n",
       "Census Tract 2303     632                 \n",
       "Census Tract 2502.07  836                 \n",
       "\n",
       "                      B19001_002E_Total_Less_than_$10_000  \\\n",
       "NAME                                                        \n",
       "Census Tract 1901     237                                   \n",
       "Census Tract 1902     63                                    \n",
       "Census Tract 2201     137                                   \n",
       "Census Tract 2303     3                                     \n",
       "Census Tract 2502.07  102                                   \n",
       "\n",
       "                      B19001_003E_Total_$10_000_to_$14_999  \\\n",
       "NAME                                                         \n",
       "Census Tract 1901     76                                     \n",
       "Census Tract 1902     87                                     \n",
       "Census Tract 2201     229                                    \n",
       "Census Tract 2303     20                                     \n",
       "Census Tract 2502.07  28                                     \n",
       "\n",
       "                      ...  \\\n",
       "NAME                  ...   \n",
       "Census Tract 1901     ...   \n",
       "Census Tract 1902     ...   \n",
       "Census Tract 2201     ...   \n",
       "Census Tract 2303     ...   \n",
       "Census Tract 2502.07  ...   \n",
       "\n",
       "                      state  \\\n",
       "NAME                          \n",
       "Census Tract 1901     24      \n",
       "Census Tract 1902     24      \n",
       "Census Tract 2201     24      \n",
       "Census Tract 2303     24      \n",
       "Census Tract 2502.07  24      \n",
       "\n",
       "                      county  \\\n",
       "NAME                           \n",
       "Census Tract 1901     510      \n",
       "Census Tract 1902     510      \n",
       "Census Tract 2201     510      \n",
       "Census Tract 2303     510      \n",
       "Census Tract 2502.07  510      \n",
       "\n",
       "                       tract  \n",
       "NAME                          \n",
       "Census Tract 1901     190100  \n",
       "Census Tract 1902     190200  \n",
       "Census Tract 2201     220100  \n",
       "Census Tract 2303     230300  \n",
       "Census Tract 2502.07  250207  \n",
       "\n",
       "[5 rows x 20 columns]"
      ]
     },
     "execution_count": null,
     "metadata": {
      "tags": []
     },
     "output_type": "execute_result"
    }
   ],
   "source": [
    "df = retrieve_acs_data(state, county, tract, tableId, year, saveAcs)\n",
    "df.head()"
   ]
  },
  {
   "cell_type": "markdown",
   "metadata": {},
   "source": [
    "#### Legal"
   ]
  },
  {
   "cell_type": "markdown",
   "metadata": {},
   "source": [
    "__Disclaimer__\n",
    "\n",
    "**Views Expressed**:\n",
    "All views expressed in this tutorial are the authors own and do not represent the opinions of any entity whatsover with which they have been, are now, or will be affiliated.\n",
    "\n",
    "**Responsibility, Errors and Ommissions**: \n",
    "The author makes no assurance about the reliability of the information. The author makes takes no responsibility for updating the tutorial nor maintaining it porformant status. Under no circumstances shall the Author or its affiliates be liable for any indirect incedental, consequential, or special and or exemplary damages arising out of or in connection with this tutorial. Information is provided 'as is' with distinct plausability of errors and ommitions. Information found within the contents is attached with an **MIT license**. Please refer to the License for more information. \n",
    "\n",
    "**Use at Risk**:\n",
    "Any action you take upon the information on this Tutorial is strictly at your own risk, and the author will not be liable for any losses and damages in connection with the use of this tutorial and subsequent products.\n",
    "\n",
    "**Fair Use**\n",
    "this site contains copyrighted material the use of which has not always been specifically authorized by the copyright owner. While no intention is made to unlawfully use copyrighted work, circumstanes may arise in which such material is made available in effort to advance scientific literacy. We believe this constitutes a 'fair use' of any such copyrighted material as provided for in section 107 of the US Copyright Law. In accordance with Titile 17 U.S.C. Section 108, the material on this tutorial is distributed without profit to those who have expressed a prior interest in receiving the included information for research and education purposes. \n",
    "\n",
    "for more information go to: http://www.law.cornell.edu/uscode/17/107.shtml. If you wish to use copyrighted material from this site for purposes of your own that go beyond 'fair use', you must obtain permission from the copyright owner.\n",
    "\n",
    "__License__\n",
    "\n",
    "Copyright © 2019 BNIA-JFI\n",
    "\n",
    "Permission is hereby granted, free of charge, to any person obtaining a copy of this software and associated documentation files (the \"Software\"), to deal in the Software without restriction, including without limitation the rights to use, copy, modify, merge, publish, distribute, sublicense, and/or sell copies of the Software, and to permit persons to whom the Software is furnished to do so, subject to the following conditions:\n",
    "\n",
    "The above copyright notice and this permission notice shall be included in all copies or substantial portions of the Software.\n",
    "\n",
    "THE SOFTWARE IS PROVIDED \"AS IS\", WITHOUT WARRANTY OF ANY KIND, EXPRESS OR IMPLIED, INCLUDING BUT NOT LIMITED TO THE WARRANTIES OF MERCHANTABILITY, FITNESS FOR A PARTICULAR PURPOSE AND NONINFRINGEMENT. IN NO EVENT SHALL THE AUTHORS OR COPYRIGHT HOLDERS BE LIABLE FOR ANY CLAIM, DAMAGES OR OTHER LIABILITY, WHETHER IN AN ACTION OF CONTRACT, TORT OR OTHERWISE, ARISING FROM, OUT OF OR IN CONNECTION WITH THE SOFTWARE OR THE USE OR OTHER DEALINGS IN THE SOFTWARE.\n"
   ]
  }
 ],
 "metadata": {
  "kernelspec": {
   "display_name": "Python 3",
   "language": "python",
   "name": "python3"
  }
 },
 "nbformat": 4,
 "nbformat_minor": 0
}
