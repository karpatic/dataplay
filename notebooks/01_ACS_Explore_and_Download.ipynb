{
 "cells": [
  {
   "cell_type": "code",
   "execution_count": null,
   "metadata": {},
   "outputs": [],
   "source": [
    "# default_exp acsDownload"
   ]
  },
  {
   "cell_type": "markdown",
   "metadata": {},
   "source": [
    "# Explore and Download\n",
    "\n",
    "> In this tutorial, the basics of Colabs are introduced and an American Community Survey (ACS) dataset is downloaded."
   ]
  },
  {
   "cell_type": "markdown",
   "metadata": {},
   "source": [
    "This Coding Notebook is the __first__ in a series.\n",
    "\n",
    "An Interactive version can be found here <a href=\"https://colab.research.google.com/github/BNIA/colabs/blob/master/01_ACS_Explore_and_Download.ipynb\" target=\"_parent\"><img src=\"https://colab.research.google.com/assets/colab-badge.svg\" alt=\"Open In Colab\"/></a>.\n",
    "\n",
    "This colab and more can be found at https://github.com/BNIA/colabs\n",
    "\n",
    "- Content covered in previous tutorials will be used in later tutorials. \n",
    "\n",
    "- __New code and or  information *should* have explanations and or descriptions__ attached. \n",
    "\n",
    "- Concepts or code covered in previous tutorials will be used without being explaining in entirety.\n",
    "\n",
    "- __If content can not be found in the current tutorial and is not covered in previous tutorials, please let me know.__\n",
    "\n",
    "- This notebook has been optimized for Google Colabs ran on a Chrome Browser. \n",
    "\n",
    "- Statements found in the index page on view expressed, responsibility, errors and ommissions, use at risk, and licensing  extend throughout the tutorial."
   ]
  },
  {
   "cell_type": "markdown",
   "metadata": {},
   "source": [
    "## About this Tutorial: "
   ]
  },
  {
   "cell_type": "markdown",
   "metadata": {},
   "source": [
    "### Whats inside?"
   ]
  },
  {
   "cell_type": "markdown",
   "metadata": {},
   "source": [
    "#### __The Tutorial__\n",
    "\n",
    "In this notebook, the basics of Colabs are introduced.\n",
    "\n",
    "- We will explore ACS data catalogs to locate data we like\n",
    "- We will programmatically download data from the American Community Survey (ACS)\n",
    "- - Examples will use ACS table B19001, Baltimore City 2017 estimates\n",
    "- We will rework the datasets to be human friendly"
   ]
  },
  {
   "cell_type": "markdown",
   "metadata": {},
   "source": [
    "#### __Objectives__\n",
    "\n",
    "By the end of this tutorial users should have an understanding of:\n",
    "- Google Colabs\n",
    "- Census Data\n",
    "- Exploring, Retrieveing, and cleaning ACS Data programmatically\n",
    "- the 'retrieve_acs_data()' function, and how to use it in the future"
   ]
  },
  {
   "cell_type": "markdown",
   "metadata": {},
   "source": [
    "## Using Colabs:\n"
   ]
  },
  {
   "cell_type": "markdown",
   "metadata": {},
   "source": [
    "**Instructions:** Read all text and execute all code in order.  \n",
    "\n",
    "**How to execute code:**\n",
    "\n",
    "- Locate labels taking the form: '*Run: (A Short Description)*'\n",
    "- Left of this text you will see an open bracket [ ], possibly with a number inside it.\n",
    "- - Hovering over the brackets will reveal a play button. \n",
    "- - Click the button to execute code.\n",
    "- Alternately: Click on a box with code and hit 'Shift' + 'Enter' \n",
    "\n",
    "If you would like to see the code you are executing, double click the label 'Run: '. Code is accompanied with brief descriptions inlined. "
   ]
  },
  {
   "cell_type": "markdown",
   "metadata": {},
   "source": [
    "__Try It!__ Go ahead and try running the cell below. What you will be shown as a result is a flow chart of how this current tutorial may be used."
   ]
  },
  {
   "cell_type": "code",
   "execution_count": null,
   "metadata": {},
   "outputs": [
    {
     "data": {
      "text/html": [
       "<img src=\"https://charleskarpati.com/images/viewuserpath_short.png\">"
      ],
      "text/plain": [
       "<IPython.core.display.HTML object>"
      ]
     },
     "metadata": {
      "tags": []
     },
     "output_type": "display_data"
    }
   ],
   "source": [
    "#@title Run: View User Path\n",
    "\n",
    "%%html\n",
    "<img src=\"https://charleskarpati.com/images/viewuserpath_short.png\">"
   ]
  },
  {
   "cell_type": "markdown",
   "metadata": {},
   "source": [
    "# Background"
   ]
  },
  {
   "cell_type": "markdown",
   "metadata": {},
   "source": [
    "## About The Census Data"
   ]
  },
  {
   "cell_type": "markdown",
   "metadata": {},
   "source": [
    "### Census or ACS Data?\n",
    "\n"
   ]
  },
  {
   "cell_type": "markdown",
   "metadata": {},
   "source": [
    "__Census data comes in 2 flavors:__ \n",
    "\n",
    "------------------------------------------------------\n",
    "1) American Community Survey (ACS)\n",
    "- First released to the public in 2006  \n",
    "- Derived using 5 Year Estimates (Past 5 years of data)\n",
    "- Delievered Annually\n",
    "- Delievered at Tract Level. (READ -> 'Geographic Granularity')\n",
    "- Margin of error generally prohibit a more granular view \n",
    "- ACS Data is accessible programmatically  (READ -> 'ACS Programmatic Retrieval')(READ -> 'Geographic Reference Code')\n",
    "\n",
    "2) Decienial Census \n",
    "- Estimates usings 10 years of ACS data\n",
    "- Decenial Census data are created, in part, by ACS data.\n",
    "- Delievered once every 10 years.\n",
    "- Delivered at Block Level. Most Accurate\n",
    "------------------------------------------------------"
   ]
  },
  {
   "cell_type": "markdown",
   "metadata": {},
   "source": [
    "### Geographic Granularity"
   ]
  },
  {
   "cell_type": "markdown",
   "metadata": {},
   "source": [
    "Census data can come in a variety of levels. \n",
    "\n",
    "These levels define the specificity of the data. \n",
    "\n",
    "**Ie.** Weather a data is reporing on individual communities, or entire cities is contingent on the data granularity. \n",
    "\n",
    "The data we will be downloading in this tutorial, ACS Data, can be found at the Tract level and no closer. \n",
    "\n",
    "Aggregating Tracts is the way BNIA calculates some of their yearly community indicators!"
   ]
  },
  {
   "cell_type": "markdown",
   "metadata": {},
   "source": [
    "Each of the bolded words in the content below are levels that are identifiable through a  (READ -> 'Geographic Reference Code') . \n",
    " \n",
    "- A census block is the smallest unit of measurement used by the Census\n",
    "- Information by census **block** is only available decenially (i.e. not ACS data)\n",
    "- **Block groups** are the next smallest unit of measurement used by the census and are composed of aggregate census blocks\n",
    "- Census **tracts** are composed of block groups and are the next largest unit of measurement used by the ACS\n",
    "- **County**, **city** and census **designated places** are composed of Tracts\n",
    "\n",
    "For more information on Geographic Reference Codes, refer to the table of contents for the section on that matter."
   ]
  },
  {
   "cell_type": "markdown",
   "metadata": {},
   "source": [
    "Run the following code to see how these different levels nest into eachother!"
   ]
  },
  {
   "cell_type": "code",
   "execution_count": null,
   "metadata": {},
   "outputs": [
    {
     "data": {
      "text/html": [
       "<img src=\"https://charleskarpati.com/images/census_granularities.png\">"
      ],
      "text/plain": [
       "<IPython.core.display.HTML object>"
      ]
     },
     "metadata": {
      "tags": []
     },
     "output_type": "display_data"
    }
   ],
   "source": [
    "#@title Run: Census Granularities\n",
    "\n",
    "%%html\n",
    "<img src=\"https://charleskarpati.com/images/census_granularities.png\">"
   ]
  },
  {
   "cell_type": "markdown",
   "metadata": {},
   "source": [
    "### Geographic Reference Codes"
   ]
  },
  {
   "cell_type": "markdown",
   "metadata": {},
   "source": [
    "State, County, and Tract ID's are called Geographic Reference Codes. \n",
    "\n",
    "This information is crucial to know when accessing data."
   ]
  },
  {
   "cell_type": "markdown",
   "metadata": {},
   "source": [
    "In order to successfully pull data, Census State and County Codes must be provided.\n",
    "\n",
    "The code herin is configured by default to pull data on Baltimore City, MD and its constituent Tracts.\n",
    "\n",
    "**In order to find your State and County code:**\n",
    "\n",
    "------------------------------------------------------\n",
    "Either \n",
    "\n",
    "A)  Click the link: https://geocoding.geo.census.gov/geocoder/geographies/address where upon entering a unique address you can locate state and county codes under the associated values 'Counties' and 'State' \n",
    "\n",
    "OR\n",
    "\n",
    "B) Conversly, click https://www.census.gov/geographies/reference-files/time-series/geo/tallies.html\n",
    "- The Geographies mainpage contains a lot of data assets.\n",
    "- The link to these tallies was located by accessing the geographical references subdirectory of the geographies mainpage and then filtered for publications made on the year 2010 (We are using the 2010 census boundaries)\n",
    "- Once clicked, simply scroll down to where you find the header 'Tallies of Geographic Entities By State'\n",
    "- Enter your state and press enter.\n",
    "- You will be redirected to a plain text file that will contain all the information on your state and its counties. \n",
    "------------------------------------------------------"
   ]
  },
  {
   "cell_type": "markdown",
   "metadata": {},
   "source": [
    "## Working with the ACS Data"
   ]
  },
  {
   "cell_type": "markdown",
   "metadata": {},
   "source": [
    "Searching for a dataset is the first step in the data processing pipeline. "
   ]
  },
  {
   "cell_type": "markdown",
   "metadata": {},
   "source": [
    "In this tutorial we plan on processing ACS data in a programmatic fashion. "
   ]
  },
  {
   "cell_type": "markdown",
   "metadata": {},
   "source": [
    "This tutorial will not just allow you to search/ explore ACS tables and inspect their contents (attributes), but also to download, format, and clean it! "
   ]
  },
  {
   "cell_type": "markdown",
   "metadata": {},
   "source": [
    "### Search Advice"
   ]
  },
  {
   "cell_type": "markdown",
   "metadata": {},
   "source": [
    "Despite a table explorer section being provided, it is not suggested you use this approach, but rather, explore available data tables and retrieve their ID's using the dedicated websites provided below:"
   ]
  },
  {
   "cell_type": "markdown",
   "metadata": {},
   "source": [
    "American Fact Finder may assist you in your data locating and download needs:\n",
    "https://factfinder.census.gov/faces/nav/jsf/pages/index.xhtml\n",
    "Fact Finder provides a nice interface to explore available datasets. From Fact Finder you can grab a Table's ID and continue the tutorial. Alternately, from Fact Finder, You can download the data for your community directly via an interface. From there, you may continue the tutorial by loading the downloaded dataset as an external resource, instructions on how to do this are provided further below in this tutorial."
   ]
  },
  {
   "cell_type": "markdown",
   "metadata": {},
   "source": [
    "__Update : 12/18/2019__\n",
    "\" American FactFinder (AFF) will remain as an \"archive\" system for accessing historical data until spring 2020. \" - American Fact Finder Website\n",
    "\n",
    "*The New American Fact Finder* : https://data.census.gov/cedsci/\n",
    "\n",
    "This new website is provided by the Census Org.  Within its 'Advanced Search' feature exist all the filtering abilities of the older, depricated, (soon discontinued) American Fact Finder Website. It is still a bit buggy to date and may not apply all filters. Filters include years(can only pick on year at a time), geography(state county tract), topic, surveys and Table ID. The filters you apply are shown at the bottom of the query and submitting the search will yield data tables ready for download as well as table ID's that you may snag for use in this tutorial."
   ]
  },
  {
   "cell_type": "markdown",
   "metadata": {},
   "source": [
    "### ACS Programmatic Retrieval"
   ]
  },
  {
   "cell_type": "markdown",
   "metadata": {},
   "source": [
    "#### Developer Resources"
   ]
  },
  {
   "cell_type": "markdown",
   "metadata": {},
   "source": [
    "- Developers Resource: https://www.census.gov/developers/\n",
    "- ACS API: https://www.census.gov/data/developers/data-sets.html\n",
    "- Census ACS Developer Guide: https://www.census.gov/data/developers/data-sets/acs-5year.html"
   ]
  },
  {
   "cell_type": "markdown",
   "metadata": {},
   "source": [
    "#### Notes on the Census API"
   ]
  },
  {
   "cell_type": "markdown",
   "metadata": {},
   "source": [
    "Tutorial Notes:\n",
    "\n",
    "- Details and Subject tables are derived using the 5 year ACS data.\n",
    "- - As a reminder, estimates using (ACS) 5-year estimates arrive at the tract level\n",
    "\n",
    "- These tables are created by the census and are pre-compiled views of the data. \n",
    "- The Detail Tables contain all possible ACS Data. \n",
    "- The Subjects Table contains ACS data in convenient groups \n",
    "- BNIA create their data mostly using Details table, but sometimes pulling the data from a Subject Table is more convenient (the data would otherwise be found along multiple details tables).\n",
    "\n",
    "ACS Website Notes:\n",
    "\n",
    "- Detailed Tables contain the most detailed cross-tabulations, many of which are published down to block groups. The data are population counts. There are over 20,000 variables in this dataset.\n",
    "\n",
    "- Subject Tables provide an overview of the estimates available in a particular topic.  The data are presented as population counts and percentages.  There are over 18,000 variables in this dataset. \n",
    "\n",
    "For more Information (via API) Please Visit \n",
    "- https://www.census.gov/data/developers/data-sets/acs-5year.html\n"
   ]
  },
  {
   "cell_type": "markdown",
   "metadata": {},
   "source": [
    "# Guided Walkthrough"
   ]
  },
  {
   "cell_type": "markdown",
   "metadata": {},
   "source": [
    "## SETUP"
   ]
  },
  {
   "cell_type": "markdown",
   "metadata": {},
   "source": [
    "You will need to this all installed and imported in order for anything following it to work\n",
    "\n",
    "```\n",
    "pip install ipywidgets geopandas\n",
    "```"
   ]
  },
  {
   "cell_type": "code",
   "execution_count": null,
   "metadata": {},
   "outputs": [],
   "source": [
    "# hide\n",
    "# @title Run: Install Modules\n",
    "\n",
    "%%capture \n",
    "\n",
    "# Install the Widgets Module. \n",
    "# Colabs does not locally provide this Python Library\n",
    "# The '!' is a special prefix used in colabs when talking to the terminal\n",
    "! pip install -U -q ipywidgets\n",
    "! pip install geopandas"
   ]
  },
  {
   "cell_type": "markdown",
   "metadata": {},
   "source": [
    "```\n",
    "import ipywidgets as widgets\n",
    "from IPython.core.interactiveshell import InteractiveShell\n",
    "import ipywidgets as widgets\n",
    "from ipywidgets import interact, interact_manual\n",
    "import urllib.request as urllib \n",
    "from urllib.parse import urlencode \n",
    "import socket \n",
    "import pandas as pd\n",
    "import json \n",
    "import numpy as np\n",
    "from pandas.io.json import json_normalize\n",
    "import csv\n",
    "import geopandas as gpd\n",
    "import psycopg2,pandas,numpy\n",
    "from shapely import wkb\n",
    "from shapely.wkt import loads\n",
    "import os\n",
    "import sys\n",
    "import fiona\n",
    "import matplotlib.pyplot as plt\n",
    "import glob\n",
    "import imageio\n",
    "```"
   ]
  },
  {
   "cell_type": "code",
   "execution_count": null,
   "metadata": {},
   "outputs": [],
   "source": [
    "# export\n",
    "# hide\n",
    "# @title Run: Import Modules\n",
    "\n",
    "%%capture \n",
    "\n",
    "# Once installed we need to import and configure the Widgets\n",
    "import ipywidgets as widgets\n",
    "from IPython.core.interactiveshell import InteractiveShell\n",
    "InteractiveShell.ast_node_interactivity = 'all'\n",
    "import ipywidgets as widgets\n",
    "from ipywidgets import interact, interact_manual\n",
    "\n",
    "# Used 4 Importing Data\n",
    "import urllib.request as urllib \n",
    "from urllib.parse import urlencode \n",
    "# This Prevents Timeouts when Importing\n",
    "import socket \n",
    "socket.setdefaulttimeout(10.0)\n",
    "\n",
    "# Pandas Data Manipulation Libraries\n",
    "import pandas as pd\n",
    "# Show entire column widths\n",
    "pd.set_option('display.max_colwidth', -1)\n",
    "# 4 Working with Json Data\n",
    "import json \n",
    "# 4 Data Processing\n",
    "import numpy as np\n",
    "# 4 Reading Json Data into Pandas\n",
    "from pandas.io.json import json_normalize\n",
    "\n",
    "# 4 exporting data as CSV\n",
    "import csv\n",
    "\n",
    "\n",
    "# Geo-Formatting\n",
    "# Postgres-Conversion\n",
    "import geopandas as gpd\n",
    "from geopandas import GeoDataFrame\n",
    "import psycopg2,pandas,numpy\n",
    "from shapely import wkb\n",
    "from shapely.wkt import loads\n",
    "import os\n",
    "import sys\n",
    "\n",
    "# In case file is KML\n",
    "import fiona\n",
    "fiona.drvsupport.supported_drivers['kml'] = 'rw' # enable KML support which is disabled by default\n",
    "fiona.drvsupport.supported_drivers['KML'] = 'rw' # enable KML support which is disabled by default\n",
    "\n",
    "# https://www.census.gov/geographies/mapping-files/time-series/geo/tiger-line-file.2010.html\n",
    "# https://www.census.gov/cgi-bin/geo/shapefiles/index.php?year=2010&layergroup=Census+Tracts\n",
    "\n",
    "# load libraries\n",
    "# from shapely.wkt import loads\n",
    "# from pandas import ExcelWriter\n",
    "# from pandas import ExcelFile\n",
    "import matplotlib.pyplot as plt\n",
    "import glob\n",
    "import imageio"
   ]
  },
  {
   "cell_type": "code",
   "execution_count": null,
   "metadata": {},
   "outputs": [],
   "source": [
    "# hide\n",
    "%%capture \n",
    "%matplotlib inline\n",
    "!jupyter nbextension enable --py widgetsnbextension"
   ]
  },
  {
   "cell_type": "markdown",
   "metadata": {},
   "source": [
    "### (Optional) Local File Access"
   ]
  },
  {
   "cell_type": "markdown",
   "metadata": {},
   "source": [
    "You can access Google Drive directories:"
   ]
  },
  {
   "cell_type": "code",
   "execution_count": null,
   "metadata": {},
   "outputs": [],
   "source": [
    "# hide\n",
    "# https://colab.research.google.com/github/jakevdp/PythonDataScienceHandbook/blob/master/notebooks/01.05-IPython-And-Shell-Commands.ipynb\n",
    "\n",
    "from google.colab import drive\n",
    "drive.mount(\"/content/drive\")"
   ]
  },
  {
   "cell_type": "markdown",
   "metadata": {},
   "source": [
    "You can also import file directly into a temporary folder in the virutal colab enviornment"
   ]
  },
  {
   "cell_type": "code",
   "execution_count": null,
   "metadata": {},
   "outputs": [],
   "source": [
    "# hide\n",
    "# Import Data (data.csv file)\n",
    "from google.colab import files\n",
    "\n",
    "# Just uncommment this line and run the cell\n",
    "uploaded = files.upload()"
   ]
  },
  {
   "cell_type": "markdown",
   "metadata": {},
   "source": [
    "By default you are positioned in the ./content/ folder."
   ]
  },
  {
   "cell_type": "code",
   "execution_count": null,
   "metadata": {},
   "outputs": [
    {
     "name": "stdout",
     "output_type": "stream",
     "text": [
      "/content/drive/My Drive/colabs/DATA\n"
     ]
    }
   ],
   "source": [
    "# hide\n",
    "# From the /content folder, I navigate to my Drive Data Folder \n",
    "cd ./drive/My Drive/colabs/DATA"
   ]
  },
  {
   "cell_type": "markdown",
   "metadata": {},
   "source": [
    "## Explore Table Directories"
   ]
  },
  {
   "cell_type": "markdown",
   "metadata": {},
   "source": [
    "**Please Note:** The following section details a programmatic way to access and explore the census data catalogs. It is advised that rather than use this portion of the section of the tutorial, you read the section '*Searching For Data*' --> '*Search Advice*' above and which provide links to dedicated websites hosted by the census bureaue explicitly  for your data exploration needs!"
   ]
  },
  {
   "cell_type": "markdown",
   "metadata": {},
   "source": [
    "### Explore the Detailed Table Directory"
   ]
  },
  {
   "cell_type": "markdown",
   "metadata": {},
   "source": [
    "Retrieve and search available ACS datasets through the ACS's table directory. \n",
    "\n",
    "The table directory contains TableId's and Descriptions for each datatable the ACS provides.\n",
    "\n",
    "By running the next cell, an interactive searchbox will filter the directory for keywords within the description.\n",
    "\n",
    "Be sure to grab the TableId once you find a table with a description of interest."
   ]
  },
  {
   "cell_type": "markdown",
   "metadata": {},
   "source": [
    "```\n",
    "response = urllib.urlopen('https://api.census.gov/data/2017/acs/acs5/groups/')\n",
    "metaDataTable = json_normalize( json.loads(response.read())['groups'] )\n",
    "metaDataTable.set_index('name', drop=True, inplace=True)\n",
    "description = input(\"Search ACS Table Directory by Keyword: \")\n",
    "metaDataTable[ metaDataTable['description'].str.contains(description.upper()) ]\n",
    "```"
   ]
  },
  {
   "cell_type": "code",
   "execution_count": null,
   "metadata": {},
   "outputs": [
    {
     "name": "stdout",
     "output_type": "stream",
     "text": [
      "Search ACS Table Directory by Keyword: child\n"
     ]
    },
    {
     "data": {
      "text/html": [
       "<div>\n",
       "<style scoped>\n",
       "    .dataframe tbody tr th:only-of-type {\n",
       "        vertical-align: middle;\n",
       "    }\n",
       "\n",
       "    .dataframe tbody tr th {\n",
       "        vertical-align: top;\n",
       "    }\n",
       "\n",
       "    .dataframe thead th {\n",
       "        text-align: right;\n",
       "    }\n",
       "</style>\n",
       "<table border=\"1\" class=\"dataframe\">\n",
       "  <thead>\n",
       "    <tr style=\"text-align: right;\">\n",
       "      <th></th>\n",
       "      <th>description</th>\n",
       "      <th>variables</th>\n",
       "    </tr>\n",
       "    <tr>\n",
       "      <th>name</th>\n",
       "      <th></th>\n",
       "      <th></th>\n",
       "    </tr>\n",
       "  </thead>\n",
       "  <tbody>\n",
       "    <tr>\n",
       "      <th>B17012</th>\n",
       "      <td>POVERTY STATUS IN THE PAST 12 MONTHS OF FAMILIES BY HOUSEHOLD TYPE BY NUMBER OF RELATED CHILDREN UNDER 18 YEARS</td>\n",
       "      <td>https://api.census.gov/data/2017/acs/acs5/groups/B17012.json</td>\n",
       "    </tr>\n",
       "    <tr>\n",
       "      <th>B17010</th>\n",
       "      <td>POVERTY STATUS IN THE PAST 12 MONTHS OF FAMILIES BY FAMILY TYPE BY PRESENCE OF RELATED CHILDREN UNDER 18 YEARS BY AGE OF RELATED CHILDREN</td>\n",
       "      <td>https://api.census.gov/data/2017/acs/acs5/groups/B17010.json</td>\n",
       "    </tr>\n",
       "    <tr>\n",
       "      <th>B99102</th>\n",
       "      <td>ALLOCATION OF GRANDPARENTS LIVING WITH GRANDCHILDREN UNDER 18 YEARS</td>\n",
       "      <td>https://api.census.gov/data/2017/acs/acs5/groups/B99102.json</td>\n",
       "    </tr>\n",
       "    <tr>\n",
       "      <th>B99104</th>\n",
       "      <td>ALLOCATION OF LENGTH OF TIME GRANDPARENT RESPONSIBLE FOR OWN GRANDCHILDREN UNDER 18 YEARS FOR THE POPULATION 30 YEARS AND OVER</td>\n",
       "      <td>https://api.census.gov/data/2017/acs/acs5/groups/B99104.json</td>\n",
       "    </tr>\n",
       "    <tr>\n",
       "      <th>B99103</th>\n",
       "      <td>ALLOCATION OF GRANDPARENTS RESPONSIBLE FOR GRANDCHILDREN UNDER 18 YEARS</td>\n",
       "      <td>https://api.census.gov/data/2017/acs/acs5/groups/B99103.json</td>\n",
       "    </tr>\n",
       "    <tr>\n",
       "      <th>...</th>\n",
       "      <td>...</td>\n",
       "      <td>...</td>\n",
       "    </tr>\n",
       "    <tr>\n",
       "      <th>B10001</th>\n",
       "      <td>GRANDCHILDREN UNDER 18 YEARS LIVING WITH A GRANDPARENT HOUSEHOLDER BY AGE OF GRANDCHILD</td>\n",
       "      <td>https://api.census.gov/data/2017/acs/acs5/groups/B10001.json</td>\n",
       "    </tr>\n",
       "    <tr>\n",
       "      <th>B09002</th>\n",
       "      <td>OWN CHILDREN UNDER 18 YEARS BY FAMILY TYPE AND AGE</td>\n",
       "      <td>https://api.census.gov/data/2017/acs/acs5/groups/B09002.json</td>\n",
       "    </tr>\n",
       "    <tr>\n",
       "      <th>B10002</th>\n",
       "      <td>GRANDCHILDREN UNDER 18 YEARS LIVING WITH A GRANDPARENT HOUSEHOLDER BY GRANDPARENT RESPONSIBILITY AND PRESENCE OF PARENT</td>\n",
       "      <td>https://api.census.gov/data/2017/acs/acs5/groups/B10002.json</td>\n",
       "    </tr>\n",
       "    <tr>\n",
       "      <th>B09018</th>\n",
       "      <td>RELATIONSHIP TO HOUSEHOLDER FOR CHILDREN UNDER 18 YEARS IN HOUSEHOLDS</td>\n",
       "      <td>https://api.census.gov/data/2017/acs/acs5/groups/B09018.json</td>\n",
       "    </tr>\n",
       "    <tr>\n",
       "      <th>B09010</th>\n",
       "      <td>RECEIPT OF SUPPLEMENTAL SECURITY INCOME (SSI), CASH PUBLIC ASSISTANCE INCOME, OR FOOD STAMPS/SNAP IN THE PAST 12 MONTHS BY HOUSEHOLD TYPE FOR CHILDREN UNDER 18 YEARS IN HOUSEHOLDS</td>\n",
       "      <td>https://api.census.gov/data/2017/acs/acs5/groups/B09010.json</td>\n",
       "    </tr>\n",
       "  </tbody>\n",
       "</table>\n",
       "<p>61 rows × 2 columns</p>\n",
       "</div>"
      ],
      "text/plain": [
       "                                                                                                                                                                                description  \\\n",
       "name                                                                                                                                                                                          \n",
       "B17012  POVERTY STATUS IN THE PAST 12 MONTHS OF FAMILIES BY HOUSEHOLD TYPE BY NUMBER OF RELATED CHILDREN UNDER 18 YEARS                                                                       \n",
       "B17010  POVERTY STATUS IN THE PAST 12 MONTHS OF FAMILIES BY FAMILY TYPE BY PRESENCE OF RELATED CHILDREN UNDER 18 YEARS BY AGE OF RELATED CHILDREN                                             \n",
       "B99102  ALLOCATION OF GRANDPARENTS LIVING WITH GRANDCHILDREN UNDER 18 YEARS                                                                                                                   \n",
       "B99104  ALLOCATION OF LENGTH OF TIME GRANDPARENT RESPONSIBLE FOR OWN GRANDCHILDREN UNDER 18 YEARS FOR THE POPULATION 30 YEARS AND OVER                                                        \n",
       "B99103  ALLOCATION OF GRANDPARENTS RESPONSIBLE FOR GRANDCHILDREN UNDER 18 YEARS                                                                                                               \n",
       "...                                                                                                                                ...                                                        \n",
       "B10001  GRANDCHILDREN UNDER 18 YEARS LIVING WITH A GRANDPARENT HOUSEHOLDER BY AGE OF GRANDCHILD                                                                                               \n",
       "B09002  OWN CHILDREN UNDER 18 YEARS BY FAMILY TYPE AND AGE                                                                                                                                    \n",
       "B10002  GRANDCHILDREN UNDER 18 YEARS LIVING WITH A GRANDPARENT HOUSEHOLDER BY GRANDPARENT RESPONSIBILITY AND PRESENCE OF PARENT                                                               \n",
       "B09018  RELATIONSHIP TO HOUSEHOLDER FOR CHILDREN UNDER 18 YEARS IN HOUSEHOLDS                                                                                                                 \n",
       "B09010  RECEIPT OF SUPPLEMENTAL SECURITY INCOME (SSI), CASH PUBLIC ASSISTANCE INCOME, OR FOOD STAMPS/SNAP IN THE PAST 12 MONTHS BY HOUSEHOLD TYPE FOR CHILDREN UNDER 18 YEARS IN HOUSEHOLDS   \n",
       "\n",
       "                                                           variables  \n",
       "name                                                                  \n",
       "B17012  https://api.census.gov/data/2017/acs/acs5/groups/B17012.json  \n",
       "B17010  https://api.census.gov/data/2017/acs/acs5/groups/B17010.json  \n",
       "B99102  https://api.census.gov/data/2017/acs/acs5/groups/B99102.json  \n",
       "B99104  https://api.census.gov/data/2017/acs/acs5/groups/B99104.json  \n",
       "B99103  https://api.census.gov/data/2017/acs/acs5/groups/B99103.json  \n",
       "...                                                              ...  \n",
       "B10001  https://api.census.gov/data/2017/acs/acs5/groups/B10001.json  \n",
       "B09002  https://api.census.gov/data/2017/acs/acs5/groups/B09002.json  \n",
       "B10002  https://api.census.gov/data/2017/acs/acs5/groups/B10002.json  \n",
       "B09018  https://api.census.gov/data/2017/acs/acs5/groups/B09018.json  \n",
       "B09010  https://api.census.gov/data/2017/acs/acs5/groups/B09010.json  \n",
       "\n",
       "[61 rows x 2 columns]"
      ]
     },
     "execution_count": null,
     "metadata": {
      "tags": []
     },
     "output_type": "execute_result"
    }
   ],
   "source": [
    "#hide\n",
    "#@title Run: Import Dataset Directory\n",
    "\n",
    "pd.set_option('display.max_columns', None)\n",
    "\n",
    "url = 'https://api.census.gov/data/2017/acs/acs5/groups/'\n",
    "response = urllib.urlopen(url)\n",
    "data = json.loads(response.read())\n",
    "data = data['groups']\n",
    "metaDataTable = json_normalize(data)\n",
    "metaDataTable.set_index('name', drop=True, inplace=True)\n",
    "\n",
    "\n",
    "#--------------------\n",
    "# SEARCH BOX 1: This reliably produces a searhbox. \n",
    "# The ell must be reran for every query.\n",
    "#--------------------\n",
    "description = input(\"Search ACS Table Directory by Keyword: \")\n",
    "metaDataTable[ metaDataTable['description'].str.contains(description.upper()) ]\n",
    "\n",
    "#--------------------\n",
    "# SEARCH BOX 2: FOR CHROME USERS: \n",
    "# Commenting out the code above and running the code \n",
    "# below will update the searchbox in real time.\n",
    "#--------------------\n",
    "# @interact\n",
    "# def tableExplorer(description='family'): \n",
    "#  return metaDataTable[ metaDataTable['description'].str.contains(description.upper()) ]"
   ]
  },
  {
   "cell_type": "markdown",
   "metadata": {},
   "source": [
    "Once you a table from the explorer has been picked, you can inspect its column names in the next part. \n",
    "\n",
    "This will help ensure it has the data you need!"
   ]
  },
  {
   "cell_type": "markdown",
   "metadata": {},
   "source": [
    "```\n",
    "tableId = input(\"Please enter a Table ID to inspect: \")\n",
    "url = f'https://api.census.gov/data/2017/acs/acs5/groups/{tableId}.json'\n",
    "metaDataTable = pd.read_json(url).reset_index(inplace = True, drop=False) \n",
    "metaDataTable = pd.merge(\n",
    "    json_normalize(data=metaDataTable['variables']), \n",
    "    metaDataTable['index'] , left_index=True, right_index=True )\n",
    "metaDataTable = metaDataTable[['index', 'concept']].dropna(subset=['concept'])\n",
    "```"
   ]
  },
  {
   "cell_type": "code",
   "execution_count": null,
   "metadata": {},
   "outputs": [
    {
     "name": "stdout",
     "output_type": "stream",
     "text": [
      "Please enter a Table ID to inspect: B09010\n"
     ]
    },
    {
     "data": {
      "text/html": [
       "<div>\n",
       "<style scoped>\n",
       "    .dataframe tbody tr th:only-of-type {\n",
       "        vertical-align: middle;\n",
       "    }\n",
       "\n",
       "    .dataframe tbody tr th {\n",
       "        vertical-align: top;\n",
       "    }\n",
       "\n",
       "    .dataframe thead th {\n",
       "        text-align: right;\n",
       "    }\n",
       "</style>\n",
       "<table border=\"1\" class=\"dataframe\">\n",
       "  <thead>\n",
       "    <tr style=\"text-align: right;\">\n",
       "      <th></th>\n",
       "      <th>index</th>\n",
       "      <th>concept</th>\n",
       "    </tr>\n",
       "  </thead>\n",
       "  <tbody>\n",
       "    <tr>\n",
       "      <th>0</th>\n",
       "      <td>B09010_001E</td>\n",
       "      <td>RECEIPT OF SUPPLEMENTAL SECURITY INCOME (SSI), CASH PUBLIC ASSISTANCE INCOME, OR FOOD STAMPS/SNAP IN THE PAST 12 MONTHS BY HOUSEHOLD TYPE FOR CHILDREN UNDER 18 YEARS IN HOUSEHOLDS</td>\n",
       "    </tr>\n",
       "    <tr>\n",
       "      <th>2</th>\n",
       "      <td>B09010_001M</td>\n",
       "      <td>RECEIPT OF SUPPLEMENTAL SECURITY INCOME (SSI), CASH PUBLIC ASSISTANCE INCOME, OR FOOD STAMPS/SNAP IN THE PAST 12 MONTHS BY HOUSEHOLD TYPE FOR CHILDREN UNDER 18 YEARS IN HOUSEHOLDS</td>\n",
       "    </tr>\n",
       "    <tr>\n",
       "      <th>4</th>\n",
       "      <td>B09010_002E</td>\n",
       "      <td>RECEIPT OF SUPPLEMENTAL SECURITY INCOME (SSI), CASH PUBLIC ASSISTANCE INCOME, OR FOOD STAMPS/SNAP IN THE PAST 12 MONTHS BY HOUSEHOLD TYPE FOR CHILDREN UNDER 18 YEARS IN HOUSEHOLDS</td>\n",
       "    </tr>\n",
       "    <tr>\n",
       "      <th>6</th>\n",
       "      <td>B09010_002M</td>\n",
       "      <td>RECEIPT OF SUPPLEMENTAL SECURITY INCOME (SSI), CASH PUBLIC ASSISTANCE INCOME, OR FOOD STAMPS/SNAP IN THE PAST 12 MONTHS BY HOUSEHOLD TYPE FOR CHILDREN UNDER 18 YEARS IN HOUSEHOLDS</td>\n",
       "    </tr>\n",
       "    <tr>\n",
       "      <th>8</th>\n",
       "      <td>B09010_003E</td>\n",
       "      <td>RECEIPT OF SUPPLEMENTAL SECURITY INCOME (SSI), CASH PUBLIC ASSISTANCE INCOME, OR FOOD STAMPS/SNAP IN THE PAST 12 MONTHS BY HOUSEHOLD TYPE FOR CHILDREN UNDER 18 YEARS IN HOUSEHOLDS</td>\n",
       "    </tr>\n",
       "  </tbody>\n",
       "</table>\n",
       "</div>"
      ],
      "text/plain": [
       "         index  \\\n",
       "0  B09010_001E   \n",
       "2  B09010_001M   \n",
       "4  B09010_002E   \n",
       "6  B09010_002M   \n",
       "8  B09010_003E   \n",
       "\n",
       "                                                                                                                                                                               concept  \n",
       "0  RECEIPT OF SUPPLEMENTAL SECURITY INCOME (SSI), CASH PUBLIC ASSISTANCE INCOME, OR FOOD STAMPS/SNAP IN THE PAST 12 MONTHS BY HOUSEHOLD TYPE FOR CHILDREN UNDER 18 YEARS IN HOUSEHOLDS  \n",
       "2  RECEIPT OF SUPPLEMENTAL SECURITY INCOME (SSI), CASH PUBLIC ASSISTANCE INCOME, OR FOOD STAMPS/SNAP IN THE PAST 12 MONTHS BY HOUSEHOLD TYPE FOR CHILDREN UNDER 18 YEARS IN HOUSEHOLDS  \n",
       "4  RECEIPT OF SUPPLEMENTAL SECURITY INCOME (SSI), CASH PUBLIC ASSISTANCE INCOME, OR FOOD STAMPS/SNAP IN THE PAST 12 MONTHS BY HOUSEHOLD TYPE FOR CHILDREN UNDER 18 YEARS IN HOUSEHOLDS  \n",
       "6  RECEIPT OF SUPPLEMENTAL SECURITY INCOME (SSI), CASH PUBLIC ASSISTANCE INCOME, OR FOOD STAMPS/SNAP IN THE PAST 12 MONTHS BY HOUSEHOLD TYPE FOR CHILDREN UNDER 18 YEARS IN HOUSEHOLDS  \n",
       "8  RECEIPT OF SUPPLEMENTAL SECURITY INCOME (SSI), CASH PUBLIC ASSISTANCE INCOME, OR FOOD STAMPS/SNAP IN THE PAST 12 MONTHS BY HOUSEHOLD TYPE FOR CHILDREN UNDER 18 YEARS IN HOUSEHOLDS  "
      ]
     },
     "execution_count": null,
     "metadata": {
      "tags": []
     },
     "output_type": "execute_result"
    }
   ],
   "source": [
    "#hide\n",
    "#@title Run: Interactive Table Lookup\n",
    "\n",
    "import json \n",
    "import pandas as pd \n",
    "from pandas.io.json import json_normalize\n",
    "\n",
    "pd.set_option('display.max_columns', None)\n",
    "#--------------------\n",
    "# SEARCH BOX 1: This reliably produces a searchbox. \n",
    "# The ell must be reran for every query.\n",
    "#--------------------\n",
    "tableId = input(\"Please enter a Table ID to inspect: \")\n",
    "\n",
    "url = f'https://api.census.gov/data/2017/acs/acs5/groups/{tableId}.json'\n",
    "metaDataTable = pd.read_json(url)\n",
    "\n",
    "metaDataTable.reset_index(inplace = True, drop=False) \n",
    "metaDataTable = pd.merge(json_normalize(data=metaDataTable['variables']), metaDataTable['index'] , left_index=True, right_index=True)\n",
    "metaDataTable = metaDataTable[['index', 'concept']]\n",
    "metaDataTable = metaDataTable.dropna(subset=['concept'])\n",
    "metaDataTable.head()"
   ]
  },
  {
   "cell_type": "markdown",
   "metadata": {},
   "source": [
    "### Explore the Subject Table Directory"
   ]
  },
  {
   "cell_type": "markdown",
   "metadata": {},
   "source": [
    "The Data Structure we recieve is different than the prior table. \n",
    "\n",
    "Intake and processing is different as a result.\n",
    "\n",
    "Now lets explore what we got, just like before. \n",
    "\n",
    "Only difference is that the column names are automatically included in this query."
   ]
  },
  {
   "cell_type": "markdown",
   "metadata": {},
   "source": [
    "```\n",
    "url = 'https://api.census.gov/data/2017/acs/acs5/subject/variables.json'\n",
    "data = json.loads(urllib.urlopen(url).read())['variables']\n",
    "objArr = []\n",
    "for key, value in data.items():\n",
    "  value['name'] = key\n",
    "  objArr.append(value)\n",
    "metaDataTable = json_normalize(objArr).set_index('name', drop=True, inplace=True)\n",
    "metaDataTable = metaDataTable[ ['attributes', 'concept', 'group', 'label', 'limit', 'predicateType' ] ]\n",
    "concept = input(\"Search ACS Subject Table Directory by Keyword\")\n",
    "metaDataTable[ metaDataTable['concept'].str.contains(concept.upper(), na=False) ]\n",
    "```"
   ]
  },
  {
   "cell_type": "code",
   "execution_count": null,
   "metadata": {},
   "outputs": [],
   "source": [
    "#hide\n",
    "#@title Run: Interactive Dataset Directory\n",
    "\n",
    "\n",
    "# Note the json representation\n",
    "url = 'https://api.census.gov/data/2017/acs/acs5/subject/variables.json'\n",
    "response = urllib.urlopen(url)\n",
    "# Decode the url response as json\n",
    "# https://docs.python.org/3/library/json.html\n",
    "data = json.loads(response.read())\n",
    "# the json object contains all its information within attribute 'variables' \n",
    "data = data['variables']\n",
    "\n",
    "# Process  by flattening the raw json data\n",
    "objArr = []\n",
    "for key, value in data.items():\n",
    "  value['name'] = key\n",
    "  objArr.append(value)\n",
    "\n",
    "# Normalize semi-structured JSON data into a flat table.\n",
    "metaDataTable = json_normalize(objArr)\n",
    "# Set the column 'name' as an index.\n",
    "metaDataTable.set_index('name', drop=True, inplace=True)\n",
    "# Reduce the directory to only contain these attributes\n",
    "metaDataTable = metaDataTable[ ['attributes', 'concept', 'group', 'label', 'limit', 'predicateType' ] ]\n",
    "\n",
    "\n",
    "\n",
    "#--------------------\n",
    "# SEARCH BOX 1: This reliably produces a searhbox. \n",
    "# The ell must be reran for every query.\n",
    "#--------------------\n",
    "concept = input(\"Search ACS Subject Table Directory by Keyword\")\n",
    "metaDataTable[ metaDataTable['concept'].str.contains(concept.upper(), na=False) ]\n",
    "\n",
    "#--------------------\n",
    "# SEARCH BOX 2: FOR CHROME USERS: \n",
    "# Commenting out the code above and running the code \n",
    "# below will update the searchbox in real time.\n",
    "#--------------------\n",
    "#@interact\n",
    "#def subjectExplorer(concept='transport'): \n",
    "#  return metaDataTable[ metaDataTable['concept'].str.contains(concept.upper(), na=False) ]"
   ]
  },
  {
   "cell_type": "markdown",
   "metadata": {},
   "source": [
    "## Get Table Data"
   ]
  },
  {
   "cell_type": "markdown",
   "metadata": {},
   "source": [
    "__Intro__\n",
    "\n",
    "Hopefully, by now you know which datatable you would like to download!\n",
    "\n",
    "The following Python function will do that for you.\n",
    "\n",
    "- It can be imported and used in future projects or stand alone."
   ]
  },
  {
   "cell_type": "code",
   "execution_count": null,
   "metadata": {},
   "outputs": [],
   "source": [
    "#export\n",
    "# @title Run: Create retrieve_acs_data()\n",
    "\n",
    "#File: retrieveAcsData.py\n",
    "#Author: Charles Karpati\n",
    "#Date: 1/9/19\n",
    "#Section: Bnia\n",
    "#Email: karpati1@umbc.edu\n",
    "#Description:\n",
    "#This file returns ACS data given an ID and Year\n",
    "# The county total is given a tract of '010000'\n",
    "\n",
    "#def retrieve_acs_data():\n",
    "#purpose: Retrieves ACS data from the web\n",
    "#input: \n",
    "# state (required) \n",
    "# county (required) \n",
    "# tract (required) \n",
    "# tableId (required)\n",
    "# year (required)\n",
    "# includeCountyAgg (required)(todo) \n",
    "# saveAcs (required) \n",
    "#output: \n",
    "# Acs Data. \n",
    "# Prints to ../../data/2_cleaned/acs/\n",
    "\n",
    "def retrieve_acs_data(state, county, tract, tableId, year, saveOriginal, save):\n",
    "    dictionary = ''\n",
    "    keys = []\n",
    "    vals = []\n",
    "    header = []\n",
    "    keys1=keys2=keys3=keys4=keys5=keys6=keys7=keys8=''\n",
    "    keyCount = 0\n",
    "\n",
    "    # Called in addKeys(), Will create the final URL for readIn()\n",
    "    # These are parameters used in the API URL Query\n",
    "    # This query will retrieve the census tracts\n",
    "    def getParams(keys): return {\n",
    "        'get': 'NAME'+keys,\n",
    "        'for': 'tract:'+tract,\n",
    "        'in': 'state:'+state+' county:'+county,\n",
    "        'key': '829bf6f2e037372acbba32ba5731647c5127fdb0'\n",
    "      }\n",
    "    # Aggregate City data is best retrieved seperatly rather than as an aggregate of its constituent tracts\n",
    "    def getCityParams(keys): return {\n",
    "        'get': 'NAME'+keys,\n",
    "        'for': 'county:'+county,\n",
    "        'in': 'state:'+state,\n",
    "        'key': '829bf6f2e037372acbba32ba5731647c5127fdb0'\n",
    "      }\n",
    "    # Called in AddKeys(). Requests data by url and preformats it.\n",
    "    def readIn( url ):\n",
    "        tbl = pd.read_json(url, orient='records')\n",
    "        tbl.columns = tbl.iloc[0]\n",
    "        return tbl \n",
    "\n",
    "    # Called by retrieveAcsData. \n",
    "    # Creates a url and retrieve the data\n",
    "    # Then appends the city values as tract '010000'\n",
    "    # Finaly it merges and returns the tract and city totals.\n",
    "    def addKeys( table, params):\n",
    "        # Get Tract and City Records For Specific Columns\n",
    "        table2 = readIn( base+urlencode(getParams(params)) )\n",
    "        table3 = readIn( base+urlencode(getCityParams(params)) )\n",
    "        table3['tract'] = '010000'\n",
    "        # Concatenate the Records\n",
    "        table2.append([table2, table3], sort=False)\n",
    "        table2 = pd.concat([table2, table3], ignore_index=True)\n",
    "        # Merge to Master Table\n",
    "        table = pd.merge(table, table2,  how='left', \n",
    "                         left_on=[\"NAME\",\"state\",\"county\",\"tract\"], \n",
    "                         right_on = [\"NAME\",\"state\",\"county\",\"tract\"])\n",
    "        return table\n",
    "    \n",
    "    #~~~~~~~~~~~~~~~\n",
    "    # Step 1)\n",
    "    # Retrieve a Meta Data Table Describing the Content of the Table\n",
    "    #~~~~~~~~~~~~~~~\n",
    "    url = 'https://api.census.gov/data/20'+year+'/acs/acs5/groups/'+tableId+'.json'\n",
    "    metaDataTable = pd.read_json(url, orient='records')\n",
    "    \n",
    "    #~~~~~~~~~~~~~~~\n",
    "    # Step 2)\n",
    "    # Createa a Dictionary using the Meta Data Table\n",
    "    #~~~~~~~~~~~~~~~\n",
    "    # Multiple Queries may be Required.\n",
    "    # Max columns returned from any given query is 50.\n",
    "    # For that reasons bin the Columns into Groups of 50.\n",
    "    for key in metaDataTable['variables'].keys():\n",
    "      if key[-1:] == 'E':\n",
    "        keyCount = keyCount + 1\n",
    "        if keyCount < 40 : keys1 = keys1+','+key\n",
    "        elif keyCount < 80 : keys2 = keys2+','+key\n",
    "        elif keyCount < 120 : keys3 = keys3+','+key\n",
    "        elif keyCount < 160 : keys4 = keys4+','+key\n",
    "        elif keyCount < 200 : keys5 = keys5+','+key\n",
    "        elif keyCount < 240 : keys6 = keys6+','+key\n",
    "        elif keyCount < 280 : keys7 = keys7+','+key\n",
    "        elif keyCount < 320 : keys8 = keys8+','+key\n",
    "        keys.append(key)\n",
    "        val = metaDataTable['variables'][key]['label']\n",
    "        # Column name formatting\n",
    "        val = key+'_'+val.replace('Estimate!!', '').replace('!!', '_').replace(' ', '_')\n",
    "        vals.append(val)\n",
    "    dictionary = dict(zip(keys, vals))\n",
    "  \n",
    "    #~~~~~~~~~~~~~~~\n",
    "    # Step 2)\n",
    "    # Get the actual Table with the data we want using \n",
    "    #~~~~~~~~~~~~~~~    \n",
    "    \n",
    "    # The URL we call is contingent on if the Table we want is a Detailed or Subject table\n",
    "    url1 = 'https://api.census.gov/data/20'+year+'/acs/acs5?'\n",
    "    url2 = 'https://api.census.gov/data/20'+year+'/acs/acs5/subject?'\n",
    "    base = ''\n",
    "    if tableId[:1] == 'B': base = url1 \n",
    "    if tableId[:1] == 'S': base = url2\n",
    "      \n",
    "    # The addKey function only works after the first set of columns has been downloaded\n",
    "    # Download First set of Tract columns\n",
    "    url = base+urlencode(getParams(keys1) )\n",
    "    table = pd.read_json(url, orient='records')\n",
    "    table.columns = table.iloc[0]\n",
    "    table = table.iloc[1:]\n",
    "    # Download First set of Aggregate City data \n",
    "    url = base+urlencode(getCityParams(keys1))\n",
    "    table2 = pd.read_json(url, orient='records')\n",
    "    table2.columns = table2.iloc[0]\n",
    "    table2 = table2[1:]\n",
    "    table2['tract'] = '010000'\n",
    "    \n",
    "    # Merge EM\n",
    "    #table = pd.concat([table, table2], keys=[\"NAME\",\"state\",\"county\",], axis=0)\n",
    "    table.append([table, table2], sort=False)\n",
    "    table = pd.concat([table, table2], ignore_index=True)\n",
    "\n",
    "    # Now we can repetedly use this function to add as many columns as there are keys listed from the meta data table\n",
    "    if keys2 != '' : table = addKeys(table, keys2)\n",
    "    if keys3 != '' : table = addKeys(table, keys3)\n",
    "    if keys4 != '' : table = addKeys(table, keys4)\n",
    "    if keys5 != '' : table = addKeys(table, keys5)\n",
    "    if keys6 != '' : table = addKeys(table, keys6)\n",
    "    if keys7 != '' : table = addKeys(table, keys7)\n",
    "    if keys8 != '' : table = addKeys(table, keys8)\n",
    "\n",
    "    #~~~~~~~~~~~~~~~\n",
    "    # Step 3)\n",
    "    # Prepare Column Names using the meta data table. The raw data has columnsNames in the first row, as well.\n",
    "    # Replace column ID's with labels from the dictionary where applicable (should be always)\n",
    "    #~~~~~~~~~~~~~~~\n",
    "    print('Number of Columns', len(dictionary) )\n",
    "\n",
    "    header = []\n",
    "    for column in table.columns:\n",
    "        if column in keys: header.append(dictionary[column])\n",
    "        else: header.append(column)\n",
    "    table.columns = header\n",
    "\n",
    "    # Prettify Names. Only happens with Baltimore...\n",
    "    table['NAME'] = table['NAME'].str.replace(', Baltimore city, Maryland', '')\n",
    "    table['NAME'][table['NAME'] == 'Baltimore city, Maryland'] = 'Baltimore City' \n",
    "\n",
    "    # Convert to Integers Columns from Strings where Applicable\n",
    "    table = table.apply(pd.to_numeric, errors='ignore')\n",
    "\n",
    "    # Set the 'NAME' Column as the index dropping the default increment\n",
    "    table.set_index(\"NAME\", inplace = True)\n",
    "\n",
    "    if saveAcs:\n",
    "      # Save the raw data as 'TABLEID_5yYEAR.csv'\n",
    "      table.to_csv('./'+state+county+'_'+tableId+'_5y'+year+'_est_Original.csv', quoting=csv.QUOTE_ALL)\n",
    "      # Remove the id in the column names & Save the data as 'TABLEID_5yYEAR_est.csv'\n",
    "      saveThis = table.rename( columns = lambda x : ( str(x)[:] if str(x) in [\n",
    "        \"NAME\",\"state\",\"county\",\"tract\"] else str(x)[12:] )  )\n",
    "      saveThis.to_csv('./'+state+county+'_'+tableId+'_5y'+year+'_est.csv', quoting=csv.QUOTE_ALL)\n",
    "\n",
    "    return table"
   ]
  },
  {
   "cell_type": "markdown",
   "metadata": {},
   "source": [
    "### Function Explanation"
   ]
  },
  {
   "cell_type": "markdown",
   "metadata": {},
   "source": [
    "**Description:** This function returns ACS data given appropriate params.\n",
    "\n",
    "**Purpose:** Retrieves ACS data from the web\n",
    "\n",
    "__Services__\n",
    "\n",
    "- Download an ACS dataset from an Subject (S) table\n",
    "- Download an ACS dataset from a Details (B) table\n",
    "\n",
    "**Input:** \n",
    "- state\n",
    "- county\n",
    "- tract\n",
    "- tableId\n",
    "- year\n",
    "- saveAcs\n",
    "\n",
    "**Output:** \n",
    "- Acs Data. \n",
    "- Prints to ../../data/2_cleaned/acs/\n",
    "\n",
    "__How it works__\n",
    "- Before our program retrieve the actual data, it will want the table's metadata. \n",
    "\n",
    "- - This metadata will be used as a crosswalk to replace the awkward column names\n",
    "\n",
    "- - If this is not done, only a column ID would denote each column. not human readable.\n",
    "\n",
    "- The Function changes the URL it requests data from depending on if it is an S or B type table the user has requested \n",
    "\n",
    "- Multiple calls for data must be made as a single table may have several hundred columns in them.\n",
    "\n",
    "- - Constructing a table requires merging the data from multiple responces \n",
    "\n",
    "- Our program not just pulls tract level data but the aggregate for the county.\n",
    "\n",
    "- - County totals are included automatically as 'tract 010000'. \n",
    "\n",
    "- - - The County total is not the sum of all other tracts but a seperate, indendent and unique query.\n",
    "\n",
    "- - Tract and County Datatables must be merged to form a single dataset \n",
    "\n",
    "- Finally, we will download the data in two different formats if desired.\n",
    "\n",
    "- If we choose to save the data, we save it with the Table IDs + ColumnNames, and once without the TableIDs."
   ]
  },
  {
   "cell_type": "markdown",
   "metadata": {},
   "source": [
    "### Function Diagrams"
   ]
  },
  {
   "cell_type": "code",
   "execution_count": null,
   "metadata": {},
   "outputs": [
    {
     "data": {
      "text/html": [
       "<img src=\"https://charleskarpati.com/images/class_diagram_retrieve_acs_data.png\">"
      ],
      "text/plain": [
       "<IPython.core.display.HTML object>"
      ]
     },
     "metadata": {
      "tags": []
     },
     "output_type": "display_data"
    }
   ],
   "source": [
    "#@title Run: Class Diagram retrieve_acs_data()\n",
    "\n",
    "%%html\n",
    "<img src=\"https://charleskarpati.com/images/class_diagram_retrieve_acs_data.png\">"
   ]
  },
  {
   "cell_type": "code",
   "execution_count": null,
   "metadata": {},
   "outputs": [
    {
     "data": {
      "text/html": [
       "<img src=\"https://charleskarpati.com/images/flow_chart_retrieve_acs_data.png\">"
      ],
      "text/plain": [
       "<IPython.core.display.HTML object>"
      ]
     },
     "metadata": {
      "tags": []
     },
     "output_type": "display_data"
    }
   ],
   "source": [
    "#@title Run: retrieve_acs_data Flow Chart\n",
    "\n",
    "%%html\n",
    "<img src=\"https://charleskarpati.com/images/flow_chart_retrieve_acs_data.png\">"
   ]
  },
  {
   "cell_type": "code",
   "execution_count": null,
   "metadata": {},
   "outputs": [
    {
     "data": {
      "text/html": [
       "<img src=\"https://charleskarpati.com/images/gannt_chart_retrieve_acs_data.png\">"
      ],
      "text/plain": [
       "<IPython.core.display.HTML object>"
      ]
     },
     "metadata": {
      "tags": []
     },
     "output_type": "display_data"
    }
   ],
   "source": [
    "#@title Run: Gannt Chart  retrieve_acs_data()\n",
    "\n",
    "%%html\n",
    "<img src=\"https://charleskarpati.com/images/gannt_chart_retrieve_acs_data.png\">"
   ]
  },
  {
   "cell_type": "code",
   "execution_count": null,
   "metadata": {},
   "outputs": [
    {
     "data": {
      "text/html": [
       "<img src=\"https://charleskarpati.com/images/sequence_diagram_retrieve_acs_data.png\">"
      ],
      "text/plain": [
       "<IPython.core.display.HTML object>"
      ]
     },
     "metadata": {
      "tags": []
     },
     "output_type": "display_data"
    }
   ],
   "source": [
    "#@title Run: Sequence Diagram  retrieve_acs_data()\n",
    "\n",
    "%%html\n",
    "<img src=\"https://charleskarpati.com/images/sequence_diagram_retrieve_acs_data.png\">"
   ]
  },
  {
   "cell_type": "markdown",
   "metadata": {},
   "source": [
    "### Function Examples"
   ]
  },
  {
   "cell_type": "markdown",
   "metadata": {},
   "source": [
    "Now use this function to Download the Data!"
   ]
  },
  {
   "cell_type": "code",
   "execution_count": null,
   "metadata": {},
   "outputs": [],
   "source": [
    "# Our download function will use Baltimore City's tract, county and state as internal paramters\n",
    "# Change these values in the cell below using different geographic reference codes will change those parameters\n",
    "tract = '*'\n",
    "county = '510'\n",
    "state = '24'\n",
    "\n",
    "# Specify the download parameters the function will receieve here\n",
    "tableId = 'B19001'\n",
    "year = '17'\n",
    "saveAcs = True"
   ]
  },
  {
   "cell_type": "code",
   "execution_count": null,
   "metadata": {},
   "outputs": [
    {
     "name": "stdout",
     "output_type": "stream",
     "text": [
      "Number of Columns 17\n"
     ]
    },
    {
     "data": {
      "text/html": [
       "<div>\n",
       "<style scoped>\n",
       "    .dataframe tbody tr th:only-of-type {\n",
       "        vertical-align: middle;\n",
       "    }\n",
       "\n",
       "    .dataframe tbody tr th {\n",
       "        vertical-align: top;\n",
       "    }\n",
       "\n",
       "    .dataframe thead th {\n",
       "        text-align: right;\n",
       "    }\n",
       "</style>\n",
       "<table border=\"1\" class=\"dataframe\">\n",
       "  <thead>\n",
       "    <tr style=\"text-align: right;\">\n",
       "      <th></th>\n",
       "      <th>B19001_001E_Total</th>\n",
       "      <th>B19001_002E_Total_Less_than_$10_000</th>\n",
       "      <th>B19001_003E_Total_$10_000_to_$14_999</th>\n",
       "      <th>B19001_004E_Total_$15_000_to_$19_999</th>\n",
       "      <th>B19001_005E_Total_$20_000_to_$24_999</th>\n",
       "      <th>B19001_006E_Total_$25_000_to_$29_999</th>\n",
       "      <th>B19001_007E_Total_$30_000_to_$34_999</th>\n",
       "      <th>B19001_008E_Total_$35_000_to_$39_999</th>\n",
       "      <th>B19001_009E_Total_$40_000_to_$44_999</th>\n",
       "      <th>B19001_010E_Total_$45_000_to_$49_999</th>\n",
       "      <th>B19001_011E_Total_$50_000_to_$59_999</th>\n",
       "      <th>B19001_012E_Total_$60_000_to_$74_999</th>\n",
       "      <th>B19001_013E_Total_$75_000_to_$99_999</th>\n",
       "      <th>B19001_014E_Total_$100_000_to_$124_999</th>\n",
       "      <th>B19001_015E_Total_$125_000_to_$149_999</th>\n",
       "      <th>B19001_016E_Total_$150_000_to_$199_999</th>\n",
       "      <th>B19001_017E_Total_$200_000_or_more</th>\n",
       "      <th>state</th>\n",
       "      <th>county</th>\n",
       "      <th>tract</th>\n",
       "    </tr>\n",
       "    <tr>\n",
       "      <th>NAME</th>\n",
       "      <th></th>\n",
       "      <th></th>\n",
       "      <th></th>\n",
       "      <th></th>\n",
       "      <th></th>\n",
       "      <th></th>\n",
       "      <th></th>\n",
       "      <th></th>\n",
       "      <th></th>\n",
       "      <th></th>\n",
       "      <th></th>\n",
       "      <th></th>\n",
       "      <th></th>\n",
       "      <th></th>\n",
       "      <th></th>\n",
       "      <th></th>\n",
       "      <th></th>\n",
       "      <th></th>\n",
       "      <th></th>\n",
       "      <th></th>\n",
       "    </tr>\n",
       "  </thead>\n",
       "  <tbody>\n",
       "    <tr>\n",
       "      <th>Census Tract 1901</th>\n",
       "      <td>796</td>\n",
       "      <td>237</td>\n",
       "      <td>76</td>\n",
       "      <td>85</td>\n",
       "      <td>38</td>\n",
       "      <td>79</td>\n",
       "      <td>43</td>\n",
       "      <td>36</td>\n",
       "      <td>35</td>\n",
       "      <td>15</td>\n",
       "      <td>43</td>\n",
       "      <td>45</td>\n",
       "      <td>39</td>\n",
       "      <td>5</td>\n",
       "      <td>0</td>\n",
       "      <td>6</td>\n",
       "      <td>14</td>\n",
       "      <td>24</td>\n",
       "      <td>510</td>\n",
       "      <td>190100</td>\n",
       "    </tr>\n",
       "    <tr>\n",
       "      <th>Census Tract 1902</th>\n",
       "      <td>695</td>\n",
       "      <td>63</td>\n",
       "      <td>87</td>\n",
       "      <td>93</td>\n",
       "      <td>6</td>\n",
       "      <td>58</td>\n",
       "      <td>30</td>\n",
       "      <td>14</td>\n",
       "      <td>29</td>\n",
       "      <td>23</td>\n",
       "      <td>38</td>\n",
       "      <td>113</td>\n",
       "      <td>70</td>\n",
       "      <td>6</td>\n",
       "      <td>32</td>\n",
       "      <td>11</td>\n",
       "      <td>22</td>\n",
       "      <td>24</td>\n",
       "      <td>510</td>\n",
       "      <td>190200</td>\n",
       "    </tr>\n",
       "    <tr>\n",
       "      <th>Census Tract 2201</th>\n",
       "      <td>2208</td>\n",
       "      <td>137</td>\n",
       "      <td>229</td>\n",
       "      <td>124</td>\n",
       "      <td>52</td>\n",
       "      <td>78</td>\n",
       "      <td>87</td>\n",
       "      <td>50</td>\n",
       "      <td>80</td>\n",
       "      <td>13</td>\n",
       "      <td>217</td>\n",
       "      <td>66</td>\n",
       "      <td>159</td>\n",
       "      <td>205</td>\n",
       "      <td>167</td>\n",
       "      <td>146</td>\n",
       "      <td>398</td>\n",
       "      <td>24</td>\n",
       "      <td>510</td>\n",
       "      <td>220100</td>\n",
       "    </tr>\n",
       "    <tr>\n",
       "      <th>Census Tract 2303</th>\n",
       "      <td>632</td>\n",
       "      <td>3</td>\n",
       "      <td>20</td>\n",
       "      <td>0</td>\n",
       "      <td>39</td>\n",
       "      <td>7</td>\n",
       "      <td>0</td>\n",
       "      <td>29</td>\n",
       "      <td>8</td>\n",
       "      <td>9</td>\n",
       "      <td>44</td>\n",
       "      <td>29</td>\n",
       "      <td>98</td>\n",
       "      <td>111</td>\n",
       "      <td>63</td>\n",
       "      <td>94</td>\n",
       "      <td>78</td>\n",
       "      <td>24</td>\n",
       "      <td>510</td>\n",
       "      <td>230300</td>\n",
       "    </tr>\n",
       "    <tr>\n",
       "      <th>Census Tract 2502.07</th>\n",
       "      <td>836</td>\n",
       "      <td>102</td>\n",
       "      <td>28</td>\n",
       "      <td>101</td>\n",
       "      <td>64</td>\n",
       "      <td>104</td>\n",
       "      <td>76</td>\n",
       "      <td>41</td>\n",
       "      <td>40</td>\n",
       "      <td>47</td>\n",
       "      <td>72</td>\n",
       "      <td>28</td>\n",
       "      <td>60</td>\n",
       "      <td>19</td>\n",
       "      <td>27</td>\n",
       "      <td>15</td>\n",
       "      <td>12</td>\n",
       "      <td>24</td>\n",
       "      <td>510</td>\n",
       "      <td>250207</td>\n",
       "    </tr>\n",
       "  </tbody>\n",
       "</table>\n",
       "</div>"
      ],
      "text/plain": [
       "                      B19001_001E_Total  ...   tract\n",
       "NAME                                     ...        \n",
       "Census Tract 1901     796                ...  190100\n",
       "Census Tract 1902     695                ...  190200\n",
       "Census Tract 2201     2208               ...  220100\n",
       "Census Tract 2303     632                ...  230300\n",
       "Census Tract 2502.07  836                ...  250207\n",
       "\n",
       "[5 rows x 20 columns]"
      ]
     },
     "execution_count": null,
     "metadata": {
      "tags": []
     },
     "output_type": "execute_result"
    }
   ],
   "source": [
    "df = retrieve_acs_data(state, county, tract, tableId, year, saveAcs)\n",
    "df.head()"
   ]
  }
 ],
 "metadata": {
  "kernelspec": {
   "display_name": "Python 3",
   "name": "python3"
  }
 },
 "nbformat": 4,
 "nbformat_minor": 0
}
