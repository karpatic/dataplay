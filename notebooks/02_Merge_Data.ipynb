{
 "cells": [
  {
   "cell_type": "code",
   "execution_count": null,
   "metadata": {},
   "outputs": [],
   "source": [
    "# default_exp mergeData"
   ]
  },
  {
   "cell_type": "markdown",
   "metadata": {},
   "source": [
    "# Merge Data\n",
    "\n",
    "> This notebook was made to demonstrate how to merge datasets by matching a single columns values from two datasets. We add columns of data from a foreign dataset into the ACS data we downloaded in our last tutorial."
   ]
  },
  {
   "cell_type": "markdown",
   "metadata": {},
   "source": [
    "This Coding Notebook is the __second__ in a series.\n",
    "\n",
    "An Interactive version can be found here <a href=\"https://colab.research.google.com/github/BNIA/colabs/blob/master/02_Merge_Data.ipynb\" target=\"_parent\"><img src=\"https://colab.research.google.com/assets/colab-badge.svg\" alt=\"Open In Colab\"/></a>.\n",
    "\n",
    "\n",
    "This colab and more can be found at https://github.com/BNIA/colabs\n",
    "\n",
    "- Content covered in previous tutorials will be used in later tutorials. \n",
    "\n",
    "- __New code and or  information *should* have explanations and or descriptions__ attached. \n",
    "\n",
    "- Concepts or code covered in previous tutorials will be used without being explaining in entirety.\n",
    "\n",
    "- __If content can not be found in the current tutorial and is not covered in previous tutorials, please let me know.__\n",
    "\n",
    "- This notebook has been optimized for Google Colabs ran on a Chrome Browser. \n",
    "\n",
    "- Statements found in the index page on view expressed, responsibility, errors and ommissions, use at risk, and licensing  extend throughout the tutorial."
   ]
  },
  {
   "cell_type": "markdown",
   "metadata": {},
   "source": [
    "## About this Tutorial: "
   ]
  },
  {
   "cell_type": "markdown",
   "metadata": {},
   "source": [
    "### Whats Inside?"
   ]
  },
  {
   "cell_type": "markdown",
   "metadata": {},
   "source": [
    "#### __The Tutorial__\n",
    "\n",
    "In this notebook, the basics of how to perform a merge is introduced\n",
    "\n",
    "- We will merge two datasets\n",
    "- We will merge two datasets using a crosswalk\n"
   ]
  },
  {
   "cell_type": "markdown",
   "metadata": {},
   "source": [
    "#### __Objectives__\n",
    "\n",
    "By the end of this tutorial users should have an understanding of:\n",
    "- How dataset merges are performed\n",
    "- The types different union approaches a merge can take\n",
    "- the 'mergeData' function, and how to use it in the future"
   ]
  },
  {
   "cell_type": "markdown",
   "metadata": {},
   "source": [
    "# Guided Walkthrough"
   ]
  },
  {
   "cell_type": "markdown",
   "metadata": {},
   "source": [
    "## SETUP"
   ]
  },
  {
   "cell_type": "code",
   "execution_count": null,
   "metadata": {},
   "outputs": [],
   "source": [
    "#hide\n",
    "#@title Run: Install Modules\n",
    "\n",
    "%%capture \n",
    "\n",
    "!pip install dataplay\n",
    "!pip install geopandas"
   ]
  },
  {
   "cell_type": "code",
   "execution_count": null,
   "metadata": {},
   "outputs": [],
   "source": [
    "#export\n",
    "#@title Run: Import Modules\n",
    "\n",
    "%%capture \n",
    "\n",
    "# These imports will handle everything\n",
    "import os\n",
    "import sys\n",
    "import csv\n",
    "import numpy as np\n",
    "import pandas as pd\n",
    "pd.set_option('max_colwidth', 20)\n",
    "pd.set_option('display.expand_frame_repr', False)\n",
    "pd.set_option('display.precision', 2)\n",
    "\n",
    "from dataplay.acsDownload import retrieve_acs_data"
   ]
  },
  {
   "cell_type": "markdown",
   "metadata": {},
   "source": [
    "### (Optional) Local File Access"
   ]
  },
  {
   "cell_type": "code",
   "execution_count": null,
   "metadata": {},
   "outputs": [
    {
     "name": "stdout",
     "output_type": "stream",
     "text": [
      "Drive already mounted at /content/drive; to attempt to forcibly remount, call drive.mount(\"/content/drive\", force_remount=True).\n"
     ]
    }
   ],
   "source": [
    "# (Optional) Run this cell to gain access to Google Drive (Colabs only) \n",
    "from google.colab import drive\n",
    "\n",
    "# Colabs operates in a virtualized enviornment\n",
    "# Colabs default directory is at ~/content.\n",
    "# We mount Drive into a temporary folder at '~/content/drive' \n",
    "\n",
    "drive.mount('/content/drive')"
   ]
  },
  {
   "cell_type": "code",
   "execution_count": null,
   "metadata": {},
   "outputs": [],
   "source": [
    "# Once connected, I navigate to where the data lives in my drive folder.\n",
    "\n",
    "!cd ./drive/'My Drive'/colabs/DATA"
   ]
  },
  {
   "cell_type": "markdown",
   "metadata": {},
   "source": [
    "## Retrieve Datasets"
   ]
  },
  {
   "cell_type": "markdown",
   "metadata": {},
   "source": [
    "Our example will merge two simple datasets; pulling CSA names using tract ID's.\n",
    "\n",
    "The __First__ dataset will be obtained from the Census' ACS 5-year serveys. \n",
    "\n",
    "Functions used to obtain this data were obtained from Tutorial 0) ACS: Explore and Download. \n",
    "\n",
    "The __Second__ dataset will be obtained using using a CSV from a publicly accessible link"
   ]
  },
  {
   "cell_type": "markdown",
   "metadata": {},
   "source": [
    "### Get the Principal dataset."
   ]
  },
  {
   "cell_type": "markdown",
   "metadata": {},
   "source": [
    "We will use the function we created in our last tutorial to download the data!"
   ]
  },
  {
   "cell_type": "code",
   "execution_count": null,
   "metadata": {},
   "outputs": [],
   "source": [
    "# Our download function will use Baltimore City's tract, county and state as internal paramters\n",
    "# Change these values in the cell below using different geographic reference codes will change those parameters\n",
    "tract = '*'\n",
    "county = '510'\n",
    "state = '24'\n",
    "\n",
    "# Specify the download parameters the function will receieve here\n",
    "tableId = 'B19001'\n",
    "year = '17'\n",
    "saveAcs = False"
   ]
  },
  {
   "cell_type": "code",
   "execution_count": null,
   "metadata": {},
   "outputs": [
    {
     "name": "stdout",
     "output_type": "stream",
     "text": [
      "Number of Columns 17\n"
     ]
    },
    {
     "data": {
      "text/html": [
       "<div>\n",
       "<style scoped>\n",
       "    .dataframe tbody tr th:only-of-type {\n",
       "        vertical-align: middle;\n",
       "    }\n",
       "\n",
       "    .dataframe tbody tr th {\n",
       "        vertical-align: top;\n",
       "    }\n",
       "\n",
       "    .dataframe thead th {\n",
       "        text-align: right;\n",
       "    }\n",
       "</style>\n",
       "<table border=\"1\" class=\"dataframe\">\n",
       "  <thead>\n",
       "    <tr style=\"text-align: right;\">\n",
       "      <th></th>\n",
       "      <th>B19001_001E_Total</th>\n",
       "      <th>B19001_002E_Total_Less_than_$10_000</th>\n",
       "      <th>B19001_003E_Total_$10_000_to_$14_999</th>\n",
       "      <th>B19001_004E_Total_$15_000_to_$19_999</th>\n",
       "      <th>B19001_005E_Total_$20_000_to_$24_999</th>\n",
       "      <th>B19001_006E_Total_$25_000_to_$29_999</th>\n",
       "      <th>B19001_007E_Total_$30_000_to_$34_999</th>\n",
       "      <th>B19001_008E_Total_$35_000_to_$39_999</th>\n",
       "      <th>B19001_009E_Total_$40_000_to_$44_999</th>\n",
       "      <th>B19001_010E_Total_$45_000_to_$49_999</th>\n",
       "      <th>B19001_011E_Total_$50_000_to_$59_999</th>\n",
       "      <th>B19001_012E_Total_$60_000_to_$74_999</th>\n",
       "      <th>B19001_013E_Total_$75_000_to_$99_999</th>\n",
       "      <th>B19001_014E_Total_$100_000_to_$124_999</th>\n",
       "      <th>B19001_015E_Total_$125_000_to_$149_999</th>\n",
       "      <th>B19001_016E_Total_$150_000_to_$199_999</th>\n",
       "      <th>B19001_017E_Total_$200_000_or_more</th>\n",
       "      <th>state</th>\n",
       "      <th>county</th>\n",
       "      <th>tract</th>\n",
       "    </tr>\n",
       "    <tr>\n",
       "      <th>NAME</th>\n",
       "      <th></th>\n",
       "      <th></th>\n",
       "      <th></th>\n",
       "      <th></th>\n",
       "      <th></th>\n",
       "      <th></th>\n",
       "      <th></th>\n",
       "      <th></th>\n",
       "      <th></th>\n",
       "      <th></th>\n",
       "      <th></th>\n",
       "      <th></th>\n",
       "      <th></th>\n",
       "      <th></th>\n",
       "      <th></th>\n",
       "      <th></th>\n",
       "      <th></th>\n",
       "      <th></th>\n",
       "      <th></th>\n",
       "      <th></th>\n",
       "    </tr>\n",
       "  </thead>\n",
       "  <tbody>\n",
       "    <tr>\n",
       "      <th>Census Tract 1901</th>\n",
       "      <td>796</td>\n",
       "      <td>237</td>\n",
       "      <td>76</td>\n",
       "      <td>85</td>\n",
       "      <td>38</td>\n",
       "      <td>79</td>\n",
       "      <td>43</td>\n",
       "      <td>36</td>\n",
       "      <td>35</td>\n",
       "      <td>15</td>\n",
       "      <td>43</td>\n",
       "      <td>45</td>\n",
       "      <td>39</td>\n",
       "      <td>5</td>\n",
       "      <td>0</td>\n",
       "      <td>6</td>\n",
       "      <td>14</td>\n",
       "      <td>24</td>\n",
       "      <td>510</td>\n",
       "      <td>190100</td>\n",
       "    </tr>\n",
       "    <tr>\n",
       "      <th>Census Tract 1902</th>\n",
       "      <td>695</td>\n",
       "      <td>63</td>\n",
       "      <td>87</td>\n",
       "      <td>93</td>\n",
       "      <td>6</td>\n",
       "      <td>58</td>\n",
       "      <td>30</td>\n",
       "      <td>14</td>\n",
       "      <td>29</td>\n",
       "      <td>23</td>\n",
       "      <td>38</td>\n",
       "      <td>113</td>\n",
       "      <td>70</td>\n",
       "      <td>6</td>\n",
       "      <td>32</td>\n",
       "      <td>11</td>\n",
       "      <td>22</td>\n",
       "      <td>24</td>\n",
       "      <td>510</td>\n",
       "      <td>190200</td>\n",
       "    </tr>\n",
       "    <tr>\n",
       "      <th>Census Tract 2201</th>\n",
       "      <td>2208</td>\n",
       "      <td>137</td>\n",
       "      <td>229</td>\n",
       "      <td>124</td>\n",
       "      <td>52</td>\n",
       "      <td>78</td>\n",
       "      <td>87</td>\n",
       "      <td>50</td>\n",
       "      <td>80</td>\n",
       "      <td>13</td>\n",
       "      <td>217</td>\n",
       "      <td>66</td>\n",
       "      <td>159</td>\n",
       "      <td>205</td>\n",
       "      <td>167</td>\n",
       "      <td>146</td>\n",
       "      <td>398</td>\n",
       "      <td>24</td>\n",
       "      <td>510</td>\n",
       "      <td>220100</td>\n",
       "    </tr>\n",
       "    <tr>\n",
       "      <th>Census Tract 2303</th>\n",
       "      <td>632</td>\n",
       "      <td>3</td>\n",
       "      <td>20</td>\n",
       "      <td>0</td>\n",
       "      <td>39</td>\n",
       "      <td>7</td>\n",
       "      <td>0</td>\n",
       "      <td>29</td>\n",
       "      <td>8</td>\n",
       "      <td>9</td>\n",
       "      <td>44</td>\n",
       "      <td>29</td>\n",
       "      <td>98</td>\n",
       "      <td>111</td>\n",
       "      <td>63</td>\n",
       "      <td>94</td>\n",
       "      <td>78</td>\n",
       "      <td>24</td>\n",
       "      <td>510</td>\n",
       "      <td>230300</td>\n",
       "    </tr>\n",
       "    <tr>\n",
       "      <th>Census Tract 2502.07</th>\n",
       "      <td>836</td>\n",
       "      <td>102</td>\n",
       "      <td>28</td>\n",
       "      <td>101</td>\n",
       "      <td>64</td>\n",
       "      <td>104</td>\n",
       "      <td>76</td>\n",
       "      <td>41</td>\n",
       "      <td>40</td>\n",
       "      <td>47</td>\n",
       "      <td>72</td>\n",
       "      <td>28</td>\n",
       "      <td>60</td>\n",
       "      <td>19</td>\n",
       "      <td>27</td>\n",
       "      <td>15</td>\n",
       "      <td>12</td>\n",
       "      <td>24</td>\n",
       "      <td>510</td>\n",
       "      <td>250207</td>\n",
       "    </tr>\n",
       "  </tbody>\n",
       "</table>\n",
       "</div>"
      ],
      "text/plain": [
       "                      B19001_001E_Total  B19001_002E_Total_Less_than_$10_000  B19001_003E_Total_$10_000_to_$14_999  B19001_004E_Total_$15_000_to_$19_999  B19001_005E_Total_$20_000_to_$24_999  B19001_006E_Total_$25_000_to_$29_999  B19001_007E_Total_$30_000_to_$34_999  B19001_008E_Total_$35_000_to_$39_999  B19001_009E_Total_$40_000_to_$44_999  B19001_010E_Total_$45_000_to_$49_999  B19001_011E_Total_$50_000_to_$59_999  B19001_012E_Total_$60_000_to_$74_999  B19001_013E_Total_$75_000_to_$99_999  B19001_014E_Total_$100_000_to_$124_999  B19001_015E_Total_$125_000_to_$149_999  B19001_016E_Total_$150_000_to_$199_999  B19001_017E_Total_$200_000_or_more  state  county   tract\n",
       "NAME                                                                                                                                                                                                                                                                                                                                                                                                                                                                                                                                                                                                                                                                                             \n",
       "Census Tract 1901                   796                  237                                   76                                    85                                    38                                    79                                    43                                    36                                    35                                    15                                    43                                    45                                    39                                     5                                       0                                       6                                      14                    24     510  190100\n",
       "Census Tract 1902                   695                   63                                   87                                    93                                     6                                    58                                    30                                    14                                    29                                    23                                    38                                   113                                    70                                     6                                      32                                      11                                      22                    24     510  190200\n",
       "Census Tract 2201                  2208                  137                                  229                                   124                                    52                                    78                                    87                                    50                                    80                                    13                                   217                                    66                                   159                                   205                                     167                                     146                                     398                    24     510  220100\n",
       "Census Tract 2303                   632                    3                                   20                                     0                                    39                                     7                                     0                                    29                                     8                                     9                                    44                                    29                                    98                                   111                                      63                                      94                                      78                    24     510  230300\n",
       "Census Tract 2502.07                836                  102                                   28                                   101                                    64                                   104                                    76                                    41                                    40                                    47                                    72                                    28                                    60                                    19                                      27                                      15                                      12                    24     510  250207"
      ]
     },
     "execution_count": null,
     "metadata": {
      "tags": []
     },
     "output_type": "execute_result"
    }
   ],
   "source": [
    "df = retrieve_acs_data(state, county, tract, tableId, year, saveAcs)\n",
    "df.head()"
   ]
  },
  {
   "cell_type": "markdown",
   "metadata": {},
   "source": [
    "### Get the Secondary Dataset"
   ]
  },
  {
   "cell_type": "code",
   "execution_count": null,
   "metadata": {},
   "outputs": [
    {
     "name": "stdout",
     "output_type": "stream",
     "text": [
      "Crosswalk Example: https://docs.google.com/spreadsheets/d/e/2PACX-1vREwwa_s8Ix39OYGnnS_wA8flOoEkU7reIV4o3ZhlwYhLXhpNEvnOia_uHUDBvnFptkLLHHlaQNvsQE/pub?output=csv\n",
      "Boundaries Example: https://docs.google.com/spreadsheets/d/e/2PACX-1vTPKW6YOHPFvkw3FM3m5y67-Aa5ZlrM0Ee1Fb57wlGuldr99sEvVWnkej30FXhSb3j8o9gr8izq2ZRP/pub?output=csv\n",
      "\n",
      " Please enter the location of your file : \n",
      "https://docs.google.com/spreadsheets/d/e/2PACX-1vTPKW6YOHPFvkw3FM3m5y67-Aa5ZlrM0Ee1Fb57wlGuldr99sEvVWnkej30FXhSb3j8o9gr8izq2ZRP/pub?output=csv\n"
     ]
    },
    {
     "ename": "HTTPError",
     "evalue": "ignored",
     "output_type": "error",
     "traceback": [
      "\u001b[0;31m---------------------------------------------------------------------------\u001b[0m",
      "\u001b[0;31mHTTPError\u001b[0m                                 Traceback (most recent call last)",
      "\u001b[0;32m<ipython-input-9-a2840c5251f2>\u001b[0m in \u001b[0;36m<module>\u001b[0;34m()\u001b[0m\n\u001b[1;32m      5\u001b[0m \u001b[0minFile\u001b[0m \u001b[0;34m=\u001b[0m \u001b[0minput\u001b[0m\u001b[0;34m(\u001b[0m\u001b[0;34m\"\\n Please enter the location of your file : \\n\"\u001b[0m \u001b[0;34m)\u001b[0m\u001b[0;34m\u001b[0m\u001b[0;34m\u001b[0m\u001b[0m\n\u001b[1;32m      6\u001b[0m \u001b[0;34m\u001b[0m\u001b[0m\n\u001b[0;32m----> 7\u001b[0;31m \u001b[0mcrosswalk\u001b[0m \u001b[0;34m=\u001b[0m \u001b[0mpd\u001b[0m\u001b[0;34m.\u001b[0m\u001b[0mread_csv\u001b[0m\u001b[0;34m(\u001b[0m \u001b[0minFile\u001b[0m \u001b[0;34m)\u001b[0m\u001b[0;34m\u001b[0m\u001b[0;34m\u001b[0m\u001b[0m\n\u001b[0m\u001b[1;32m      8\u001b[0m \u001b[0mcrosswalk\u001b[0m\u001b[0;34m.\u001b[0m\u001b[0mhead\u001b[0m\u001b[0;34m(\u001b[0m\u001b[0;34m)\u001b[0m\u001b[0;34m\u001b[0m\u001b[0;34m\u001b[0m\u001b[0m\n",
      "\u001b[0;32m/usr/local/lib/python3.6/dist-packages/pandas/io/parsers.py\u001b[0m in \u001b[0;36mparser_f\u001b[0;34m(filepath_or_buffer, sep, delimiter, header, names, index_col, usecols, squeeze, prefix, mangle_dupe_cols, dtype, engine, converters, true_values, false_values, skipinitialspace, skiprows, skipfooter, nrows, na_values, keep_default_na, na_filter, verbose, skip_blank_lines, parse_dates, infer_datetime_format, keep_date_col, date_parser, dayfirst, cache_dates, iterator, chunksize, compression, thousands, decimal, lineterminator, quotechar, quoting, doublequote, escapechar, comment, encoding, dialect, error_bad_lines, warn_bad_lines, delim_whitespace, low_memory, memory_map, float_precision)\u001b[0m\n\u001b[1;32m    683\u001b[0m         )\n\u001b[1;32m    684\u001b[0m \u001b[0;34m\u001b[0m\u001b[0m\n\u001b[0;32m--> 685\u001b[0;31m         \u001b[0;32mreturn\u001b[0m \u001b[0m_read\u001b[0m\u001b[0;34m(\u001b[0m\u001b[0mfilepath_or_buffer\u001b[0m\u001b[0;34m,\u001b[0m \u001b[0mkwds\u001b[0m\u001b[0;34m)\u001b[0m\u001b[0;34m\u001b[0m\u001b[0;34m\u001b[0m\u001b[0m\n\u001b[0m\u001b[1;32m    686\u001b[0m \u001b[0;34m\u001b[0m\u001b[0m\n\u001b[1;32m    687\u001b[0m     \u001b[0mparser_f\u001b[0m\u001b[0;34m.\u001b[0m\u001b[0m__name__\u001b[0m \u001b[0;34m=\u001b[0m \u001b[0mname\u001b[0m\u001b[0;34m\u001b[0m\u001b[0;34m\u001b[0m\u001b[0m\n",
      "\u001b[0;32m/usr/local/lib/python3.6/dist-packages/pandas/io/parsers.py\u001b[0m in \u001b[0;36m_read\u001b[0;34m(filepath_or_buffer, kwds)\u001b[0m\n\u001b[1;32m    438\u001b[0m     \u001b[0;31m# See https://github.com/python/mypy/issues/1297\u001b[0m\u001b[0;34m\u001b[0m\u001b[0;34m\u001b[0m\u001b[0;34m\u001b[0m\u001b[0m\n\u001b[1;32m    439\u001b[0m     fp_or_buf, _, compression, should_close = get_filepath_or_buffer(\n\u001b[0;32m--> 440\u001b[0;31m         \u001b[0mfilepath_or_buffer\u001b[0m\u001b[0;34m,\u001b[0m \u001b[0mencoding\u001b[0m\u001b[0;34m,\u001b[0m \u001b[0mcompression\u001b[0m\u001b[0;34m\u001b[0m\u001b[0;34m\u001b[0m\u001b[0m\n\u001b[0m\u001b[1;32m    441\u001b[0m     )\n\u001b[1;32m    442\u001b[0m     \u001b[0mkwds\u001b[0m\u001b[0;34m[\u001b[0m\u001b[0;34m\"compression\"\u001b[0m\u001b[0;34m]\u001b[0m \u001b[0;34m=\u001b[0m \u001b[0mcompression\u001b[0m\u001b[0;34m\u001b[0m\u001b[0;34m\u001b[0m\u001b[0m\n",
      "\u001b[0;32m/usr/local/lib/python3.6/dist-packages/pandas/io/common.py\u001b[0m in \u001b[0;36mget_filepath_or_buffer\u001b[0;34m(filepath_or_buffer, encoding, compression, mode)\u001b[0m\n\u001b[1;32m    194\u001b[0m \u001b[0;34m\u001b[0m\u001b[0m\n\u001b[1;32m    195\u001b[0m     \u001b[0;32mif\u001b[0m \u001b[0m_is_url\u001b[0m\u001b[0;34m(\u001b[0m\u001b[0mfilepath_or_buffer\u001b[0m\u001b[0;34m)\u001b[0m\u001b[0;34m:\u001b[0m\u001b[0;34m\u001b[0m\u001b[0;34m\u001b[0m\u001b[0m\n\u001b[0;32m--> 196\u001b[0;31m         \u001b[0mreq\u001b[0m \u001b[0;34m=\u001b[0m \u001b[0murlopen\u001b[0m\u001b[0;34m(\u001b[0m\u001b[0mfilepath_or_buffer\u001b[0m\u001b[0;34m)\u001b[0m\u001b[0;34m\u001b[0m\u001b[0;34m\u001b[0m\u001b[0m\n\u001b[0m\u001b[1;32m    197\u001b[0m         \u001b[0mcontent_encoding\u001b[0m \u001b[0;34m=\u001b[0m \u001b[0mreq\u001b[0m\u001b[0;34m.\u001b[0m\u001b[0mheaders\u001b[0m\u001b[0;34m.\u001b[0m\u001b[0mget\u001b[0m\u001b[0;34m(\u001b[0m\u001b[0;34m\"Content-Encoding\"\u001b[0m\u001b[0;34m,\u001b[0m \u001b[0;32mNone\u001b[0m\u001b[0;34m)\u001b[0m\u001b[0;34m\u001b[0m\u001b[0;34m\u001b[0m\u001b[0m\n\u001b[1;32m    198\u001b[0m         \u001b[0;32mif\u001b[0m \u001b[0mcontent_encoding\u001b[0m \u001b[0;34m==\u001b[0m \u001b[0;34m\"gzip\"\u001b[0m\u001b[0;34m:\u001b[0m\u001b[0;34m\u001b[0m\u001b[0;34m\u001b[0m\u001b[0m\n",
      "\u001b[0;32m/usr/lib/python3.6/urllib/request.py\u001b[0m in \u001b[0;36murlopen\u001b[0;34m(url, data, timeout, cafile, capath, cadefault, context)\u001b[0m\n\u001b[1;32m    221\u001b[0m     \u001b[0;32melse\u001b[0m\u001b[0;34m:\u001b[0m\u001b[0;34m\u001b[0m\u001b[0;34m\u001b[0m\u001b[0m\n\u001b[1;32m    222\u001b[0m         \u001b[0mopener\u001b[0m \u001b[0;34m=\u001b[0m \u001b[0m_opener\u001b[0m\u001b[0;34m\u001b[0m\u001b[0;34m\u001b[0m\u001b[0m\n\u001b[0;32m--> 223\u001b[0;31m     \u001b[0;32mreturn\u001b[0m \u001b[0mopener\u001b[0m\u001b[0;34m.\u001b[0m\u001b[0mopen\u001b[0m\u001b[0;34m(\u001b[0m\u001b[0murl\u001b[0m\u001b[0;34m,\u001b[0m \u001b[0mdata\u001b[0m\u001b[0;34m,\u001b[0m \u001b[0mtimeout\u001b[0m\u001b[0;34m)\u001b[0m\u001b[0;34m\u001b[0m\u001b[0;34m\u001b[0m\u001b[0m\n\u001b[0m\u001b[1;32m    224\u001b[0m \u001b[0;34m\u001b[0m\u001b[0m\n\u001b[1;32m    225\u001b[0m \u001b[0;32mdef\u001b[0m \u001b[0minstall_opener\u001b[0m\u001b[0;34m(\u001b[0m\u001b[0mopener\u001b[0m\u001b[0;34m)\u001b[0m\u001b[0;34m:\u001b[0m\u001b[0;34m\u001b[0m\u001b[0;34m\u001b[0m\u001b[0m\n",
      "\u001b[0;32m/usr/lib/python3.6/urllib/request.py\u001b[0m in \u001b[0;36mopen\u001b[0;34m(self, fullurl, data, timeout)\u001b[0m\n\u001b[1;32m    530\u001b[0m         \u001b[0;32mfor\u001b[0m \u001b[0mprocessor\u001b[0m \u001b[0;32min\u001b[0m \u001b[0mself\u001b[0m\u001b[0;34m.\u001b[0m\u001b[0mprocess_response\u001b[0m\u001b[0;34m.\u001b[0m\u001b[0mget\u001b[0m\u001b[0;34m(\u001b[0m\u001b[0mprotocol\u001b[0m\u001b[0;34m,\u001b[0m \u001b[0;34m[\u001b[0m\u001b[0;34m]\u001b[0m\u001b[0;34m)\u001b[0m\u001b[0;34m:\u001b[0m\u001b[0;34m\u001b[0m\u001b[0;34m\u001b[0m\u001b[0m\n\u001b[1;32m    531\u001b[0m             \u001b[0mmeth\u001b[0m \u001b[0;34m=\u001b[0m \u001b[0mgetattr\u001b[0m\u001b[0;34m(\u001b[0m\u001b[0mprocessor\u001b[0m\u001b[0;34m,\u001b[0m \u001b[0mmeth_name\u001b[0m\u001b[0;34m)\u001b[0m\u001b[0;34m\u001b[0m\u001b[0;34m\u001b[0m\u001b[0m\n\u001b[0;32m--> 532\u001b[0;31m             \u001b[0mresponse\u001b[0m \u001b[0;34m=\u001b[0m \u001b[0mmeth\u001b[0m\u001b[0;34m(\u001b[0m\u001b[0mreq\u001b[0m\u001b[0;34m,\u001b[0m \u001b[0mresponse\u001b[0m\u001b[0;34m)\u001b[0m\u001b[0;34m\u001b[0m\u001b[0;34m\u001b[0m\u001b[0m\n\u001b[0m\u001b[1;32m    533\u001b[0m \u001b[0;34m\u001b[0m\u001b[0m\n\u001b[1;32m    534\u001b[0m         \u001b[0;32mreturn\u001b[0m \u001b[0mresponse\u001b[0m\u001b[0;34m\u001b[0m\u001b[0;34m\u001b[0m\u001b[0m\n",
      "\u001b[0;32m/usr/lib/python3.6/urllib/request.py\u001b[0m in \u001b[0;36mhttp_response\u001b[0;34m(self, request, response)\u001b[0m\n\u001b[1;32m    640\u001b[0m         \u001b[0;32mif\u001b[0m \u001b[0;32mnot\u001b[0m \u001b[0;34m(\u001b[0m\u001b[0;36m200\u001b[0m \u001b[0;34m<=\u001b[0m \u001b[0mcode\u001b[0m \u001b[0;34m<\u001b[0m \u001b[0;36m300\u001b[0m\u001b[0;34m)\u001b[0m\u001b[0;34m:\u001b[0m\u001b[0;34m\u001b[0m\u001b[0;34m\u001b[0m\u001b[0m\n\u001b[1;32m    641\u001b[0m             response = self.parent.error(\n\u001b[0;32m--> 642\u001b[0;31m                 'http', request, response, code, msg, hdrs)\n\u001b[0m\u001b[1;32m    643\u001b[0m \u001b[0;34m\u001b[0m\u001b[0m\n\u001b[1;32m    644\u001b[0m         \u001b[0;32mreturn\u001b[0m \u001b[0mresponse\u001b[0m\u001b[0;34m\u001b[0m\u001b[0;34m\u001b[0m\u001b[0m\n",
      "\u001b[0;32m/usr/lib/python3.6/urllib/request.py\u001b[0m in \u001b[0;36merror\u001b[0;34m(self, proto, *args)\u001b[0m\n\u001b[1;32m    568\u001b[0m         \u001b[0;32mif\u001b[0m \u001b[0mhttp_err\u001b[0m\u001b[0;34m:\u001b[0m\u001b[0;34m\u001b[0m\u001b[0;34m\u001b[0m\u001b[0m\n\u001b[1;32m    569\u001b[0m             \u001b[0margs\u001b[0m \u001b[0;34m=\u001b[0m \u001b[0;34m(\u001b[0m\u001b[0mdict\u001b[0m\u001b[0;34m,\u001b[0m \u001b[0;34m'default'\u001b[0m\u001b[0;34m,\u001b[0m \u001b[0;34m'http_error_default'\u001b[0m\u001b[0;34m)\u001b[0m \u001b[0;34m+\u001b[0m \u001b[0morig_args\u001b[0m\u001b[0;34m\u001b[0m\u001b[0;34m\u001b[0m\u001b[0m\n\u001b[0;32m--> 570\u001b[0;31m             \u001b[0;32mreturn\u001b[0m \u001b[0mself\u001b[0m\u001b[0;34m.\u001b[0m\u001b[0m_call_chain\u001b[0m\u001b[0;34m(\u001b[0m\u001b[0;34m*\u001b[0m\u001b[0margs\u001b[0m\u001b[0;34m)\u001b[0m\u001b[0;34m\u001b[0m\u001b[0;34m\u001b[0m\u001b[0m\n\u001b[0m\u001b[1;32m    571\u001b[0m \u001b[0;34m\u001b[0m\u001b[0m\n\u001b[1;32m    572\u001b[0m \u001b[0;31m# XXX probably also want an abstract factory that knows when it makes\u001b[0m\u001b[0;34m\u001b[0m\u001b[0;34m\u001b[0m\u001b[0;34m\u001b[0m\u001b[0m\n",
      "\u001b[0;32m/usr/lib/python3.6/urllib/request.py\u001b[0m in \u001b[0;36m_call_chain\u001b[0;34m(self, chain, kind, meth_name, *args)\u001b[0m\n\u001b[1;32m    502\u001b[0m         \u001b[0;32mfor\u001b[0m \u001b[0mhandler\u001b[0m \u001b[0;32min\u001b[0m \u001b[0mhandlers\u001b[0m\u001b[0;34m:\u001b[0m\u001b[0;34m\u001b[0m\u001b[0;34m\u001b[0m\u001b[0m\n\u001b[1;32m    503\u001b[0m             \u001b[0mfunc\u001b[0m \u001b[0;34m=\u001b[0m \u001b[0mgetattr\u001b[0m\u001b[0;34m(\u001b[0m\u001b[0mhandler\u001b[0m\u001b[0;34m,\u001b[0m \u001b[0mmeth_name\u001b[0m\u001b[0;34m)\u001b[0m\u001b[0;34m\u001b[0m\u001b[0;34m\u001b[0m\u001b[0m\n\u001b[0;32m--> 504\u001b[0;31m             \u001b[0mresult\u001b[0m \u001b[0;34m=\u001b[0m \u001b[0mfunc\u001b[0m\u001b[0;34m(\u001b[0m\u001b[0;34m*\u001b[0m\u001b[0margs\u001b[0m\u001b[0;34m)\u001b[0m\u001b[0;34m\u001b[0m\u001b[0;34m\u001b[0m\u001b[0m\n\u001b[0m\u001b[1;32m    505\u001b[0m             \u001b[0;32mif\u001b[0m \u001b[0mresult\u001b[0m \u001b[0;32mis\u001b[0m \u001b[0;32mnot\u001b[0m \u001b[0;32mNone\u001b[0m\u001b[0;34m:\u001b[0m\u001b[0;34m\u001b[0m\u001b[0;34m\u001b[0m\u001b[0m\n\u001b[1;32m    506\u001b[0m                 \u001b[0;32mreturn\u001b[0m \u001b[0mresult\u001b[0m\u001b[0;34m\u001b[0m\u001b[0;34m\u001b[0m\u001b[0m\n",
      "\u001b[0;32m/usr/lib/python3.6/urllib/request.py\u001b[0m in \u001b[0;36mhttp_error_default\u001b[0;34m(self, req, fp, code, msg, hdrs)\u001b[0m\n\u001b[1;32m    648\u001b[0m \u001b[0;32mclass\u001b[0m \u001b[0mHTTPDefaultErrorHandler\u001b[0m\u001b[0;34m(\u001b[0m\u001b[0mBaseHandler\u001b[0m\u001b[0;34m)\u001b[0m\u001b[0;34m:\u001b[0m\u001b[0;34m\u001b[0m\u001b[0;34m\u001b[0m\u001b[0m\n\u001b[1;32m    649\u001b[0m     \u001b[0;32mdef\u001b[0m \u001b[0mhttp_error_default\u001b[0m\u001b[0;34m(\u001b[0m\u001b[0mself\u001b[0m\u001b[0;34m,\u001b[0m \u001b[0mreq\u001b[0m\u001b[0;34m,\u001b[0m \u001b[0mfp\u001b[0m\u001b[0;34m,\u001b[0m \u001b[0mcode\u001b[0m\u001b[0;34m,\u001b[0m \u001b[0mmsg\u001b[0m\u001b[0;34m,\u001b[0m \u001b[0mhdrs\u001b[0m\u001b[0;34m)\u001b[0m\u001b[0;34m:\u001b[0m\u001b[0;34m\u001b[0m\u001b[0;34m\u001b[0m\u001b[0m\n\u001b[0;32m--> 650\u001b[0;31m         \u001b[0;32mraise\u001b[0m \u001b[0mHTTPError\u001b[0m\u001b[0;34m(\u001b[0m\u001b[0mreq\u001b[0m\u001b[0;34m.\u001b[0m\u001b[0mfull_url\u001b[0m\u001b[0;34m,\u001b[0m \u001b[0mcode\u001b[0m\u001b[0;34m,\u001b[0m \u001b[0mmsg\u001b[0m\u001b[0;34m,\u001b[0m \u001b[0mhdrs\u001b[0m\u001b[0;34m,\u001b[0m \u001b[0mfp\u001b[0m\u001b[0;34m)\u001b[0m\u001b[0;34m\u001b[0m\u001b[0;34m\u001b[0m\u001b[0m\n\u001b[0m\u001b[1;32m    651\u001b[0m \u001b[0;34m\u001b[0m\u001b[0m\n\u001b[1;32m    652\u001b[0m \u001b[0;32mclass\u001b[0m \u001b[0mHTTPRedirectHandler\u001b[0m\u001b[0;34m(\u001b[0m\u001b[0mBaseHandler\u001b[0m\u001b[0;34m)\u001b[0m\u001b[0;34m:\u001b[0m\u001b[0;34m\u001b[0m\u001b[0;34m\u001b[0m\u001b[0m\n",
      "\u001b[0;31mHTTPError\u001b[0m: HTTP Error 410: Gone"
     ]
    }
   ],
   "source": [
    "# Get the Second dataset. \n",
    "# Our Example dataset contains Polygon Geometry information. \n",
    "# We want to merge this over to our principle dataset. we will grab it by matching on either CSA or Tract\n",
    "\n",
    "# The url listed below is public.\n",
    "\n",
    "print('Crosswalk Example: https://docs.google.com/spreadsheets/d/e/2PACX-1vREwwa_s8Ix39OYGnnS_wA8flOoEkU7reIV4o3ZhlwYhLXhpNEvnOia_uHUDBvnFptkLLHHlaQNvsQE/pub?output=csv')\n",
    "print('Boundaries Example: https://docs.google.com/spreadsheets/d/e/2PACX-1vTPKW6YOHPFvkw3FM3m5y67-Aa5ZlrM0Ee1Fb57wlGuldr99sEvVWnkej30FXhSb3j8o9gr8izq2ZRP/pub?output=csv')\n",
    "\n",
    "inFile = input(\"\\n Please enter the location of your file : \\n\" )\n",
    "\n",
    "crosswalk = pd.read_csv( inFile )\n",
    "crosswalk.head()"
   ]
  },
  {
   "cell_type": "markdown",
   "metadata": {},
   "source": [
    "## Perform Merge & Save"
   ]
  },
  {
   "cell_type": "code",
   "execution_count": null,
   "metadata": {},
   "outputs": [
    {
     "data": {
      "image/png": "[encoded data removed]",
      "text/plain": [
       "<PIL.PngImagePlugin.PngImageFile image mode=RGBA size=328x237 at 0x7FEF2898F358>"
      ]
     },
     "execution_count": null,
     "metadata": {
      "tags": []
     },
     "output_type": "execute_result"
    }
   ],
   "source": [
    "# This little piece of code does nothing important but serves as a \n",
    "# friendly reminder of the 4 basic join types.\n",
    "\n",
    "# Left - returns all left records, only includes the right record if it has a match\n",
    "# Right - Returns all right records, only includes the left record if it has a match \n",
    "# Full - Returns all records regardless of keys matching\n",
    "# Inner - Returns only records where a key match\n",
    "\n",
    "from PIL import Image\n",
    "import requests\n",
    "from io import BytesIO\n",
    "url = \"https://docs.trifacta.com/download/attachments/123830435/JoinVennDiagram.png\"\n",
    "response = requests.get(url)\n",
    "img = Image.open(BytesIO(response.content))\n",
    "size = 328, 328\n",
    "img.thumbnail(size, Image.ANTIALIAS)\n",
    "img"
   ]
  },
  {
   "cell_type": "code",
   "execution_count": null,
   "metadata": {},
   "outputs": [
    {
     "name": "stdout",
     "output_type": "stream",
     "text": [
      "Princpal Columns Index(['B19001_001E_Total', 'B19001_002E_Total_Less_than_$10_000',\n",
      "       'B19001_003E_Total_$10_000_to_$14_999',\n",
      "       'B19001_004E_Total_$15_000_to_$19_999',\n",
      "       'B19001_005E_Total_$20_000_to_$24_999',\n",
      "       'B19001_006E_Total_$25_000_to_$29_999',\n",
      "       'B19001_007E_Total_$30_000_to_$34_999',\n",
      "       'B19001_008E_Total_$35_000_to_$39_999',\n",
      "       'B19001_009E_Total_$40_000_to_$44_999',\n",
      "       'B19001_010E_Total_$45_000_to_$49_999',\n",
      "       'B19001_011E_Total_$50_000_to_$59_999',\n",
      "       'B19001_012E_Total_$60_000_to_$74_999',\n",
      "       'B19001_013E_Total_$75_000_to_$99_999',\n",
      "       'B19001_014E_Total_$100_000_to_$124_999',\n",
      "       'B19001_015E_Total_$125_000_to_$149_999',\n",
      "       'B19001_016E_Total_$150_000_to_$199_999',\n",
      "       'B19001_017E_Total_$200_000_or_more', 'state', 'county', 'tract'],\n",
      "      dtype='object')\n",
      "Left on principal column: ('tract') \n",
      "tract\n",
      "Crosswalk Columns Index(['TRACT2010', 'GEOID2010', 'CSA2010'], dtype='object')\n",
      "Right on crosswalk column: ('TRACT2010', or, 'TRACTCE10') \n",
      "tract2010\n"
     ]
    }
   ],
   "source": [
    "# Get Columns from both datasets to match on\n",
    "# You can get these values from the column values above.\n",
    "\n",
    "# Our Examples will work with the prompted values\n",
    "\n",
    "print( 'Princpal Columns ' + str(df.columns) + '')\n",
    "left_on = input(\"Left on principal column: ('tract') \\n\" )\n",
    "\n",
    "print( 'Crosswalk Columns ' + str(crosswalk.columns) + '')\n",
    "right_on = input(\"Right on crosswalk column: ('TRACT2010', or, 'TRACTCE10') \\n\" )\n",
    "\n",
    "# Specify how the merge will be performed"
   ]
  },
  {
   "cell_type": "code",
   "execution_count": null,
   "metadata": {},
   "outputs": [
    {
     "name": "stdout",
     "output_type": "stream",
     "text": [
      "How: (‘left’, ‘right’, ‘outer’, ‘inner’) inner\n"
     ]
    }
   ],
   "source": [
    "# We will perform a left merge in this example.\n",
    "# It will return our Principal dataset with columns from the second dataset appended to records where their specified columns match.\n",
    "\n",
    "how = input(\"How: (‘left’, ‘right’, ‘outer’, ‘inner’) \" )"
   ]
  },
  {
   "cell_type": "code",
   "execution_count": null,
   "metadata": {},
   "outputs": [
    {
     "ename": "KeyError",
     "evalue": "ignored",
     "output_type": "error",
     "traceback": [
      "\u001b[0;31m---------------------------------------------------------------------------\u001b[0m",
      "\u001b[0;31mKeyError\u001b[0m                                  Traceback (most recent call last)",
      "\u001b[0;32m<ipython-input-12-a5b9403f6d9c>\u001b[0m in \u001b[0;36m<module>\u001b[0;34m()\u001b[0m\n\u001b[1;32m      1\u001b[0m \u001b[0;34m\u001b[0m\u001b[0m\n\u001b[0;32m----> 2\u001b[0;31m \u001b[0mmerged_df\u001b[0m \u001b[0;34m=\u001b[0m \u001b[0mpd\u001b[0m\u001b[0;34m.\u001b[0m\u001b[0mmerge\u001b[0m\u001b[0;34m(\u001b[0m\u001b[0mdf\u001b[0m\u001b[0;34m,\u001b[0m \u001b[0mcrosswalk\u001b[0m\u001b[0;34m,\u001b[0m \u001b[0mleft_on\u001b[0m\u001b[0;34m=\u001b[0m\u001b[0mleft_on\u001b[0m\u001b[0;34m,\u001b[0m \u001b[0mright_on\u001b[0m\u001b[0;34m=\u001b[0m\u001b[0mright_on\u001b[0m\u001b[0;34m,\u001b[0m \u001b[0mhow\u001b[0m\u001b[0;34m=\u001b[0m\u001b[0mhow\u001b[0m\u001b[0;34m)\u001b[0m\u001b[0;34m\u001b[0m\u001b[0;34m\u001b[0m\u001b[0m\n\u001b[0m\u001b[1;32m      3\u001b[0m \u001b[0mmerged_df\u001b[0m \u001b[0;34m=\u001b[0m \u001b[0mmerged_df\u001b[0m\u001b[0;34m.\u001b[0m\u001b[0mdrop\u001b[0m\u001b[0;34m(\u001b[0m\u001b[0mleft_on\u001b[0m\u001b[0;34m,\u001b[0m \u001b[0maxis\u001b[0m\u001b[0;34m=\u001b[0m\u001b[0;36m1\u001b[0m\u001b[0;34m)\u001b[0m\u001b[0;34m\u001b[0m\u001b[0;34m\u001b[0m\u001b[0m\n\u001b[1;32m      4\u001b[0m \u001b[0mmerged_df\u001b[0m\u001b[0;34m\u001b[0m\u001b[0;34m\u001b[0m\u001b[0m\n",
      "\u001b[0;32m/usr/local/lib/python3.6/dist-packages/pandas/core/reshape/merge.py\u001b[0m in \u001b[0;36mmerge\u001b[0;34m(left, right, how, on, left_on, right_on, left_index, right_index, sort, suffixes, copy, indicator, validate)\u001b[0m\n\u001b[1;32m     79\u001b[0m         \u001b[0mcopy\u001b[0m\u001b[0;34m=\u001b[0m\u001b[0mcopy\u001b[0m\u001b[0;34m,\u001b[0m\u001b[0;34m\u001b[0m\u001b[0;34m\u001b[0m\u001b[0m\n\u001b[1;32m     80\u001b[0m         \u001b[0mindicator\u001b[0m\u001b[0;34m=\u001b[0m\u001b[0mindicator\u001b[0m\u001b[0;34m,\u001b[0m\u001b[0;34m\u001b[0m\u001b[0;34m\u001b[0m\u001b[0m\n\u001b[0;32m---> 81\u001b[0;31m         \u001b[0mvalidate\u001b[0m\u001b[0;34m=\u001b[0m\u001b[0mvalidate\u001b[0m\u001b[0;34m,\u001b[0m\u001b[0;34m\u001b[0m\u001b[0;34m\u001b[0m\u001b[0m\n\u001b[0m\u001b[1;32m     82\u001b[0m     )\n\u001b[1;32m     83\u001b[0m     \u001b[0;32mreturn\u001b[0m \u001b[0mop\u001b[0m\u001b[0;34m.\u001b[0m\u001b[0mget_result\u001b[0m\u001b[0;34m(\u001b[0m\u001b[0;34m)\u001b[0m\u001b[0;34m\u001b[0m\u001b[0;34m\u001b[0m\u001b[0m\n",
      "\u001b[0;32m/usr/local/lib/python3.6/dist-packages/pandas/core/reshape/merge.py\u001b[0m in \u001b[0;36m__init__\u001b[0;34m(self, left, right, how, on, left_on, right_on, axis, left_index, right_index, sort, suffixes, copy, indicator, validate)\u001b[0m\n\u001b[1;32m    624\u001b[0m             \u001b[0mself\u001b[0m\u001b[0;34m.\u001b[0m\u001b[0mright_join_keys\u001b[0m\u001b[0;34m,\u001b[0m\u001b[0;34m\u001b[0m\u001b[0;34m\u001b[0m\u001b[0m\n\u001b[1;32m    625\u001b[0m             \u001b[0mself\u001b[0m\u001b[0;34m.\u001b[0m\u001b[0mjoin_names\u001b[0m\u001b[0;34m,\u001b[0m\u001b[0;34m\u001b[0m\u001b[0;34m\u001b[0m\u001b[0m\n\u001b[0;32m--> 626\u001b[0;31m         ) = self._get_merge_keys()\n\u001b[0m\u001b[1;32m    627\u001b[0m \u001b[0;34m\u001b[0m\u001b[0m\n\u001b[1;32m    628\u001b[0m         \u001b[0;31m# validate the merge keys dtypes. We may need to coerce\u001b[0m\u001b[0;34m\u001b[0m\u001b[0;34m\u001b[0m\u001b[0;34m\u001b[0m\u001b[0m\n",
      "\u001b[0;32m/usr/local/lib/python3.6/dist-packages/pandas/core/reshape/merge.py\u001b[0m in \u001b[0;36m_get_merge_keys\u001b[0;34m(self)\u001b[0m\n\u001b[1;32m    973\u001b[0m                     \u001b[0;32mif\u001b[0m \u001b[0;32mnot\u001b[0m \u001b[0mis_rkey\u001b[0m\u001b[0;34m(\u001b[0m\u001b[0mrk\u001b[0m\u001b[0;34m)\u001b[0m\u001b[0;34m:\u001b[0m\u001b[0;34m\u001b[0m\u001b[0;34m\u001b[0m\u001b[0m\n\u001b[1;32m    974\u001b[0m                         \u001b[0;32mif\u001b[0m \u001b[0mrk\u001b[0m \u001b[0;32mis\u001b[0m \u001b[0;32mnot\u001b[0m \u001b[0;32mNone\u001b[0m\u001b[0;34m:\u001b[0m\u001b[0;34m\u001b[0m\u001b[0;34m\u001b[0m\u001b[0m\n\u001b[0;32m--> 975\u001b[0;31m                             \u001b[0mright_keys\u001b[0m\u001b[0;34m.\u001b[0m\u001b[0mappend\u001b[0m\u001b[0;34m(\u001b[0m\u001b[0mright\u001b[0m\u001b[0;34m.\u001b[0m\u001b[0m_get_label_or_level_values\u001b[0m\u001b[0;34m(\u001b[0m\u001b[0mrk\u001b[0m\u001b[0;34m)\u001b[0m\u001b[0;34m)\u001b[0m\u001b[0;34m\u001b[0m\u001b[0;34m\u001b[0m\u001b[0m\n\u001b[0m\u001b[1;32m    976\u001b[0m                         \u001b[0;32melse\u001b[0m\u001b[0;34m:\u001b[0m\u001b[0;34m\u001b[0m\u001b[0;34m\u001b[0m\u001b[0m\n\u001b[1;32m    977\u001b[0m                             \u001b[0;31m# work-around for merge_asof(right_index=True)\u001b[0m\u001b[0;34m\u001b[0m\u001b[0;34m\u001b[0m\u001b[0;34m\u001b[0m\u001b[0m\n",
      "\u001b[0;32m/usr/local/lib/python3.6/dist-packages/pandas/core/generic.py\u001b[0m in \u001b[0;36m_get_label_or_level_values\u001b[0;34m(self, key, axis)\u001b[0m\n\u001b[1;32m   1772\u001b[0m             \u001b[0mvalues\u001b[0m \u001b[0;34m=\u001b[0m \u001b[0mself\u001b[0m\u001b[0;34m.\u001b[0m\u001b[0maxes\u001b[0m\u001b[0;34m[\u001b[0m\u001b[0maxis\u001b[0m\u001b[0;34m]\u001b[0m\u001b[0;34m.\u001b[0m\u001b[0mget_level_values\u001b[0m\u001b[0;34m(\u001b[0m\u001b[0mkey\u001b[0m\u001b[0;34m)\u001b[0m\u001b[0;34m.\u001b[0m\u001b[0m_values\u001b[0m\u001b[0;34m\u001b[0m\u001b[0;34m\u001b[0m\u001b[0m\n\u001b[1;32m   1773\u001b[0m         \u001b[0;32melse\u001b[0m\u001b[0;34m:\u001b[0m\u001b[0;34m\u001b[0m\u001b[0;34m\u001b[0m\u001b[0m\n\u001b[0;32m-> 1774\u001b[0;31m             \u001b[0;32mraise\u001b[0m \u001b[0mKeyError\u001b[0m\u001b[0;34m(\u001b[0m\u001b[0mkey\u001b[0m\u001b[0;34m)\u001b[0m\u001b[0;34m\u001b[0m\u001b[0;34m\u001b[0m\u001b[0m\n\u001b[0m\u001b[1;32m   1775\u001b[0m \u001b[0;34m\u001b[0m\u001b[0m\n\u001b[1;32m   1776\u001b[0m         \u001b[0;31m# Check for duplicates\u001b[0m\u001b[0;34m\u001b[0m\u001b[0;34m\u001b[0m\u001b[0;34m\u001b[0m\u001b[0m\n",
      "\u001b[0;31mKeyError\u001b[0m: 'tract2010'"
     ]
    }
   ],
   "source": [
    "# Actually perfrom the merge\n",
    "\n",
    "merged_df = pd.merge(df, crosswalk, left_on=left_on, right_on=right_on, how=how)\n",
    "merged_df = merged_df.drop(left_on, axis=1)\n",
    "merged_df"
   ]
  },
  {
   "cell_type": "markdown",
   "metadata": {},
   "source": [
    "As you can see, our Census data will now have a CSA appended to it."
   ]
  },
  {
   "cell_type": "code",
   "execution_count": null,
   "metadata": {},
   "outputs": [
    {
     "name": "stdout",
     "output_type": "stream",
     "text": [
      "Please enter the new Filename to save the data to ('acs_csa_merge_test': aqualaba\n"
     ]
    }
   ],
   "source": [
    "# Save Data to User Specified File\n",
    "\n",
    "import csv\n",
    "\n",
    "outFile = input(\"Please enter the new Filename to save the data to ('acs_csa_merge_test': \" )\n",
    "merged_df.to_csv(outFile+'.csv', quoting=csv.QUOTE_ALL) "
   ]
  },
  {
   "cell_type": "markdown",
   "metadata": {},
   "source": [
    "## Final Result"
   ]
  },
  {
   "cell_type": "code",
   "execution_count": null,
   "metadata": {},
   "outputs": [],
   "source": [
    "# Import needed modules\n",
    "import os, sys, csv, pandas as pd\n",
    "\n",
    "df = pd.read_csv( input(\"Please enter the location of your Principal file: \" ) )\n",
    "print( 'Principal Columns ' + str(df.columns))\n",
    "\n",
    "print('Crosswalk Example: https://docs.google.com/spreadsheets/d/e/2PACX-1vREwwa_s8Ix39OYGnnS_wA8flOoEkU7reIV4o3ZhlwYhLXhpNEvnOia_uHUDBvnFptkLLHHlaQNvsQE/pub?output=csv')\n",
    "print('Boundaries Example: https://docs.google.com/spreadsheets/d/e/2PACX-1vTPKW6YOHPFvkw3FM3m5y67-Aa5ZlrM0Ee1Fb57wlGuldr99sEvVWnkej30FXhSb3j8o9gr8izq2ZRP/pub?output=csv')\n",
    "\n",
    "crosswalk = pd.read_csv( input(\"Please enter the location of your crosswalk file: \" ) )\n",
    "print( 'Crosswalk Columns ' + str(crosswalk.columns) + '\\n')\n",
    "\n",
    "left_on = input(\"Left on: \" )\n",
    "right_on = input(\"Right on: \" )\n",
    "how = input(\"How: (‘left’, ‘right’, ‘outer’, ‘inner’) \" )\n",
    "\n",
    "merged_df = pd.merge(df, crosswalk, left_on=left_on, right_on=right_on, how=how)\n",
    "merged_df = merged_df.drop(left_on, axis=1)\n",
    "\n",
    "# Save the data\n",
    "# Save the data\n",
    "saveFile = input(\"Save File ('Y' or 'N'): \")\n",
    "if saveFile == 'Y' or saveFile == 'y':\n",
    "  outFile = input(\"Saved Filename (Do not include the file extension ): \")\n",
    "  merged_df.to_csv(outFile+'.csv', quoting=csv.QUOTE_ALL);"
   ]
  },
  {
   "cell_type": "markdown",
   "metadata": {},
   "source": [
    "# Advanced"
   ]
  },
  {
   "cell_type": "markdown",
   "metadata": {},
   "source": [
    "__Intro__\n",
    "\n",
    "The following Python function is a bulked out version of the previous notes. \n",
    "- It contains everything from the tutorial plus more.\n",
    "- It can be imported and used in future projects or stand alone.\n",
    "\n",
    "**Description:** add columns of data from a foreign dataset into a primary dataset along set parameters. \n",
    "\n",
    "**Purpose:** Makes Merging datasets simple\n",
    "\n",
    "__Services__\n",
    "\n",
    "- Merge two datasets without a crosswalk\n",
    "- Merge two datasets with a crosswalk\n"
   ]
  },
  {
   "cell_type": "code",
   "execution_count": null,
   "metadata": {},
   "outputs": [],
   "source": [
    "#export\n",
    "#@title Run: Create mergeDatasets()\n",
    "\n",
    "# Geometry_DS = https://docs.google.com/spreadsheets/d/e/2PACX-1vTPKW6YOHPFvkw3FM3m5y67-Aa5ZlrM0Ee1Fb57wlGuldr99sEvVWnkej30FXhSb3j8o9gr8izq2ZRP/pub?output=csv\n",
    "# Data_DS = https://docs.google.com/spreadsheets/d/e/2PACX-1vREwwa_s8Ix39OYGnnS_wA8flOoEkU7reIV4o3ZhlwYhLXhpNEvnOia_uHUDBvnFptkLLHHlaQNvsQE/pub?output=csv\n",
    "\n",
    "# Import needed modules\n",
    "import os, sys, csv, pandas as pd, numpy as np \n",
    "\n",
    "def mergeDatasets(left_ds=False, \n",
    "                  right_ds=False, \n",
    "                  crosswalk_ds=False, \n",
    "                  use_crosswalk = True,\n",
    "                  left_col=False, \n",
    "                  right_col=False, \n",
    "                  crosswalk_left_col = False, \n",
    "                  crosswalk_right_col = False, \n",
    "                  merge_how=False,\n",
    "                  interactive=True): \n",
    "    \n",
    "  # Decide to perform a merge or commit a pull\n",
    "  def mergeOrPull(df, cw, left_on, right_on, how):  \n",
    "    \n",
    "    def merge(df, cw, left_on, right_on, how):\n",
    "      df = pd.merge(df, cw, left_on=left_on, right_on=right_on, how=how)\n",
    "      # df.drop(left_on, axis=1)\n",
    "      df[right_on] = df[right_on].fillna(value='empty')\n",
    "      return df\n",
    "\n",
    "    def pull(df, cw, left_on, right_on, how):\n",
    "      crswlk = dict(zip(cw[right_on], cw[how]  ) )\n",
    "      dtype = df[left_on].dtype\n",
    "      if dtype =='object':  df[how] = df.apply(lambda row: crswlk.get(str(row[left_on]), \"empty\"), axis=1)\n",
    "      elif dtype == 'int64': \n",
    "        df[how] = df.apply(lambda row: crswlk.get(int(row[left_on]), \"empty\"), axis=1)\n",
    "      return df\n",
    "    \n",
    "    mergeType = how in ['left', 'right', 'outer', 'inner']\n",
    "    if mergeType: return merge(df, cw, left_on, right_on, how)\n",
    "    else: return pull(df, cw, left_on, right_on, how)\n",
    "    \n",
    "  \n",
    "    \n",
    "  # Filter between matched records and not.\n",
    "  def filterEmpties(df, cw, left_on, right_on, how, interactive):\n",
    "    \n",
    "    if how in ['left', 'right', 'outer', 'inner']: how = right_on\n",
    "    nomatch = df.loc[df[how] == 'empty']\n",
    "    nomatch = nomatch.sort_values(by=left_on, ascending=True)\n",
    "    \n",
    "    if nomatch.shape[0] > 0:\n",
    "      # Do the same thing with our foreign tracts\n",
    "      if(interactive): print('\\n Local Column Values Not Matched ')\n",
    "      if(interactive): print(nomatch[left_on].unique() )\n",
    "      if(interactive): print(len(nomatch[left_on]))\n",
    "      if(interactive): print('\\n Crosswalk Unique Column Values')\n",
    "      if(interactive): print(cw[right_on].unique() )\n",
    "    \n",
    "    # Create a new column with the tracts value mapped to its corresponding value from the crossswalk\n",
    "    df[how].replace('empty', np.nan, inplace=True)\n",
    "    df.dropna(subset=[how], inplace=True)\n",
    "    # cw = cw.sort_values(by=how, ascending=True)\n",
    "    return df\n",
    "\n",
    "  # Check Crosswalk Params\n",
    "  def handleCrosswalkDataset(crosswalk_ds, crosswalk_left_col, crosswalk_right_col, interactive):\n",
    "    noDataset = (not isinstance(crosswalk_ds, pd.DataFrame))\n",
    "    noColumns = (not crosswalk_left_col or not crosswalk_right_col)\n",
    "    columnDne = checkColumns(crosswalk_ds, crosswalk_left_col)\n",
    "    columnDne = checkColumns(crosswalk_ds, crosswalk_right_col)\n",
    "    if ( noDataset or noColumns ): return mergeDatasets( *getMergeParams() );\n",
    "\n",
    "\n",
    "\n",
    "  def handleMergeHow(right_ds, merge_how, interactive):\n",
    "    howList = ['left', 'right', 'outer', 'inner'] \n",
    "    mergeHowInHowList = merge_how in howList\n",
    "    mergeHowInRightDf = checkColumns(right_ds, merge_how)\n",
    "    mergeHowExists = (mergeHowInRightDf or mergeHowInHowList)\n",
    "    if ( mergeHowExists ): return merge_how\n",
    "    elif ( not interactive): return False\n",
    "    else: \n",
    "      try: \n",
    "        print('Valid Column Not Given');\n",
    "        print(\"\\n 1) Pull A single Column from the Right Dataset: \", right_ds.columns)\n",
    "        print(\"OR\");\n",
    "        print(\"2) Join Operation: (‘left’, ‘right’, ‘outer’, ‘inner’, columnName) \" )\n",
    "        print(\"\\n Please select a value from either list\");\n",
    "        merge_how = input(\"Column Name: \" )\n",
    "        return handleMergeHow(right_ds, merge_how, interactive);\n",
    "      except: return handleMergeHow(right_ds, merge_how, interactive);\n",
    "\n",
    "\n",
    "\n",
    "  def processColumn(df, col, interactive):\n",
    "    # Check Column in Dataset \n",
    "    colExists = checkColumns(df, col)\n",
    "    noColNotInteractive = not colExists and not interactive\n",
    "    if colExists: return col\n",
    "    elif (noColNotInteractive): return False\n",
    "    else: \n",
    "        try: \n",
    "          print('Valid Column Not Given');\n",
    "          print(df.columns)\n",
    "          print(df.head())\n",
    "          print(\"Please provide a dataset column name from the list above.\");\n",
    "          col = input(\"Column Name: \" )\n",
    "          colExists = checkColumns(df, col)\n",
    "          if (colExists): return col\n",
    "          else: return processColumn(df, col, interactive);\n",
    "        except: return processColumn(df, col, interactive);\n",
    "\n",
    "\n",
    "\n",
    "\n",
    "\n",
    "\n",
    "  # Returns a DF if provided a DF or URL. False otherwise. \n",
    "  def retrieveDatasetFromUrl(df):\n",
    "    datasetExists = checkDataSetExists(df)\n",
    "    urlGiven = df and not datasetExists\n",
    "    if datasetExists: return df\n",
    "    elif ( urlGiven ):\n",
    "      try: \n",
    "        urlGiven = df\n",
    "        df = pd.read_csv( df )\n",
    "        datasetExists = checkDataSetExists(df)\n",
    "        if datasetExists: return df\n",
    "      except: return False;\n",
    "    else: return False\n",
    "\n",
    "  # If !DF and interactive, re-processDataset. False otherwise.\n",
    "  def retrieveUrlForDataset(df, interactive):\n",
    "    dsExists = checkDataSetExists(df)\n",
    "    if( dsExists ): return df\n",
    "    if ( not dsExists and not interactive): return False;\n",
    "    if ( not dsExists and interactive): \n",
    "      df = input(\"Please provide a new dataset URL: \" );\n",
    "      return processDataset(df, interactive)\n",
    "\n",
    "  # Ensures a Pandas DF is returned. \n",
    "  # If not Interactive, may return FALSE.\n",
    "  def processDataset(df, interactive):\n",
    "    # Returns a DF if provided a DF or URL. False otherwise. \n",
    "    df = retrieveDatasetFromUrl(df)\n",
    "    # If !DF and interactive, re-processDataset w/a new URL\n",
    "    df = retrieveUrlForDataset(df, interactive)\n",
    "    return df\n",
    "\n",
    "\n",
    "\n",
    "\n",
    "\n",
    "  # Check Dataset Params\n",
    "  def handleDatasetAndColumns(df, col, interactive):\n",
    "    dfStatus = colStatus = True\n",
    "    # Ensure A Dataset is being handled\n",
    "    df = processDataset(df, interactive)\n",
    "    if ( not checkDataSetExists(df) ): dfStatus = False\n",
    "\n",
    "    # Ensure A Column Exists\n",
    "    col = processColumn(df, col, interactive)\n",
    "    if ( col == False ): colStatus = False\n",
    "    return df, col, dfStatus, colStatus\n",
    "\n",
    "\n",
    "\n",
    "\n",
    "  # Ensure data types are the same\n",
    "  def coerceDtypes(left_ds, right_ds, left_col, right_col, interactive):\n",
    "    status = False\n",
    "    foreignDtype = right_ds[right_col].dtype\n",
    "    localDtype = left_ds[left_col].dtype  \n",
    "\n",
    "    localIsNumber = localDtype == 'float64' or localDtype == 'int64'\n",
    "    foreignIsNumber = foreignDtype == 'int64' or foreignDtype == 'int64'\n",
    "\n",
    "    if foreignIsNumber: right_ds[right_col] = right_ds[right_col].fillna(-1321321321321325)\n",
    "    if localIsNumber: left_ds[left_col] = left_ds[left_col].fillna(-1321321321321325)\n",
    "    \n",
    "    # Coerce one way or the other if possible\n",
    "    if localIsNumber and foreignDtype == 'object':\n",
    "      if(interactive): print('Converting Foreign Key from Object to Int' )\n",
    "      right_ds[right_col] = pd.to_numeric(right_ds[right_col], errors='coerce')\n",
    "      \n",
    "    if localDtype == 'object' and foreignIsNumber:\n",
    "      if(interactive):  print('Converting Foreign Key from Object to Int' )\n",
    "      left_ds[left_col] = pd.to_numeric(left_ds[left_col], errors='coerce')\n",
    "\n",
    "    # Coerce INTS AND FLOATS if possible        \n",
    "    if localDtype == 'int64' and foreignDtype == 'float64':\n",
    "      if(interactive): print('Converting Local Key from Int to float' )\n",
    "      right_ds[right_col] = right_ds[right_col].astype(int)\n",
    "\n",
    "    if localDtype == 'float64' and foreignDtype == 'int64':\n",
    "      if(interactive): print('Converting Local Key from float64 to Int' )\n",
    "      left_ds[left_col] = left_ds[left_col].astype(int)\n",
    "\n",
    "    foreignDtype = right_ds[right_col].dtype\n",
    "    localDtype = left_ds[left_col].dtype\n",
    "\n",
    "    # Return the data and the coerce status\n",
    "    if localDtype == foreignDtype: status = True\n",
    "    return left_ds, right_ds, status\n",
    "\n",
    "\n",
    "\n",
    "\n",
    "  # Check if the columns actually exist\n",
    "  def checkColumns(dataset, column): return {column}.issubset(dataset.columns) \n",
    "  # Check if the DataSet actually exist\n",
    "  def checkDataSetExists(df): return isinstance(df, pd.DataFrame)\n",
    "\n",
    "  # This function uses all the other functions\n",
    "  def main(left_ds, right_ds, crosswalk_ds, use_crosswalk, left_col, right_col, \n",
    "           crosswalk_left_col, crosswalk_right_col, merge_how, interactive):\n",
    "    \n",
    "    if(interactive):print('\\n Handling Left Dataset');\n",
    "    left_ds, left_col, dfStatus, colStatus = handleDatasetAndColumns(left_ds, left_col, interactive)\n",
    "    if ( dfStatus and colStatus and interactive):\n",
    "      print('Left Dataset and Columns are Valid');\n",
    "    elif( not (dfStatus and colStatus) and not interactive):\n",
    "      return 'ERROR: Error with Left Dataset and or Column'\n",
    "\n",
    "    if(interactive):print('\\n Handling Right Dataset');\n",
    "    right_ds, right_col, dfStatus, colStatus  = handleDatasetAndColumns(right_ds, right_col, interactive)\n",
    "    if ( dfStatus and colStatus and interactive):\n",
    "      print('Right Dataset and Columns are Valid');\n",
    "    elif( not (dfStatus and colStatus) and not interactive):\n",
    "      return 'ERROR: Error with Right Dataset and or Column'\n",
    "\n",
    "    if(interactive):print('\\n Checking the merge_how Parameter');\n",
    "    merge_how = handleMergeHow(right_ds, merge_how, interactive)\n",
    "    if ( merge_how and interactive): print('merge_how operator is Valid', merge_how)\n",
    "    elif( not  merge_how and not interactive ): return 'ERROR: Error with merge_how Paramter'\n",
    "\n",
    "    # Returns true if a DF. False if URL\n",
    "    crosswalkSupplied = checkDataSetExists(crosswalk_ds)\n",
    "    if not crosswalkSupplied and isinstance(crosswalk_ds, str): crosswalkSupplied = True\n",
    "    if (interactive and use_crosswalk):\n",
    "      if(interactive): print('\\n Checking the Crosswalk Parameter');\n",
    "      if(not crosswalkSupplied):  \n",
    "        use_crosswalk = input(\"Are you using a crosswalk? 'True' or 'False': \" )\n",
    "        use_crosswalk = use_crosswalk == \"True\"\n",
    "    else: use_crosswalk = crosswalkSupplied\n",
    "\n",
    "    # If a user is using a crosswalk, then assess match for left-cw, and right-cw.\n",
    "    if( use_crosswalk ): \n",
    "      # This will load our dataset if provided as a url.\n",
    "      if(interactive):print('\\n Handling Crosswalk Left Dataset Loading');\n",
    "      crosswalk_ds_discard, crosswalk_left_col, dfStatus, colStatus = handleDatasetAndColumns(crosswalk_ds, crosswalk_left_col, interactive)\n",
    "      # the first Item is our Dataset, which we discard the first time this data is called, kept the second.\n",
    "      if(interactive):print('\\n Handling Crosswalk Right Dataset Loading');\n",
    "      crosswalk_ds, crosswalk_right_col, dfStatus, colStatus = handleDatasetAndColumns(crosswalk_ds, crosswalk_right_col, interactive)\n",
    "      if(interactive):print('\\n Assessment Completed');\n",
    "\n",
    "      if(interactive): print('\\n Ensuring Left->Crosswalk compatability')\n",
    "      left_ds, crosswalk_ds, status = coerceDtypes(left_ds, crosswalk_ds, left_col, crosswalk_left_col, interactive);\n",
    "      if(interactive): print('\\n Ensuring Crosswalk->Right compatability')\n",
    "      right_ds, crosswalk_ds, status = coerceDtypes(right_ds, crosswalk_ds, right_col, crosswalk_right_col, interactive);\n",
    "    # If a user is not using a crswk, then assess match for left-right.\n",
    "    else:\n",
    "      if(interactive): print('\\n Ensuring Left->Right compatability')\n",
    "      left_ds, right_ds, status = coerceDtypes(left_ds, right_ds, left_col, right_col, interactive);\n",
    "\n",
    "    if( status == False and not interactive ): \n",
    "      print('ERROR: Foreign keys data types do not match'); \n",
    "      return False;\n",
    "    if( status == False and interactive ):\n",
    "      print('Could not resolve differences in data types.')\n",
    "      restart = input(\"Would you like to restart?: 'True' or 'False': \" )\n",
    "      restart = restart == \"True\"\n",
    "      if restart : return mergeDatasets()\n",
    "      else: print('GOODBYE'); return left_ds, right_ds\n",
    "\n",
    "    else:\n",
    "      if(use_crosswalk): \n",
    "        if(interactive): \n",
    "          print('PERFORMING MERGE LEFT->CROSSWALK');\n",
    "          print('left_on', crosswalk_left_col, 'right_on', crosswalk_right_col, 'how', merge_how); \n",
    "        # Perform the left-CW Merge using left_col, crosswalk_left_col then pull the crosswalk_right_col\n",
    "        left_ds = mergeOrPull(left_ds, crosswalk_ds, left_col, crosswalk_left_col, crosswalk_right_col)   \n",
    "        # Filter out columns not matched\n",
    "        left_ds = filterEmpties(left_ds, crosswalk_ds, left_col, crosswalk_left_col, crosswalk_right_col, interactive)\n",
    "        # set the new left_col as the crosswalk_right_col since it will be able to match to the right_col\n",
    "        left_col = crosswalk_right_col\n",
    "\n",
    "      # If the crosswalk was needed, it has now been integrated in to the left table.\n",
    "      # The crosswalk col corresponding to the right_col should exist in the left Table.\n",
    "      # Merge the left and right tables now.\n",
    "      \n",
    "      if(interactive):\n",
    "        print('PERFORMING MERGE LEFT->RIGHT');\n",
    "        print('left_col', left_col, 'right_col', right_col, 'how', merge_how); \n",
    "      # Perform the merge\n",
    "      left_ds = mergeOrPull(left_ds, right_ds, left_col, right_col, merge_how)   \n",
    "      # Filter out columns not matched\n",
    "      left_ds = filterEmpties(left_ds, right_ds, left_col, right_col, merge_how, interactive)\n",
    "\n",
    "    return left_ds\n",
    "\n",
    "  return main( left_ds, right_ds, crosswalk_ds, use_crosswalk, left_col, right_col, crosswalk_left_col, crosswalk_right_col, merge_how, interactive )\n"
   ]
  },
  {
   "cell_type": "markdown",
   "metadata": {},
   "source": [
    "### Function Explanation"
   ]
  },
  {
   "cell_type": "markdown",
   "metadata": {},
   "source": [
    "**Input(s):** \n",
    "- Dataset url\n",
    "- Crosswalk Url \n",
    "- Right On \n",
    "- Left On \n",
    "- How \n",
    "- New Filename \n",
    "\n",
    "**Output:** File\n",
    "\n",
    "**How it works:**\n",
    "- Read in datasets\n",
    "- Perform Merge\n",
    "\n",
    "- If the 'how' parameter is equal to ['left', 'right', 'outer', 'inner']\n",
    "- - then a merge will be performed. \n",
    "- If a column name is provided in the 'how' parameter\n",
    "- - then that single column will be pulled from the right dataset as a new column in the left_ds."
   ]
  },
  {
   "cell_type": "markdown",
   "metadata": {},
   "source": [
    "## Function Diagrams"
   ]
  },
  {
   "cell_type": "code",
   "execution_count": null,
   "metadata": {},
   "outputs": [
    {
     "data": {
      "text/html": [
       "<img src=\"https://charleskarpati.com/images/class_diagram_merge_datasets.png\">"
      ],
      "text/plain": [
       "<IPython.core.display.HTML object>"
      ]
     },
     "metadata": {
      "tags": []
     },
     "output_type": "display_data"
    }
   ],
   "source": [
    "#@title Run: Diagram the mergeDatasets()\n",
    "\n",
    "%%html\n",
    "<img src=\"https://charleskarpati.com/images/class_diagram_merge_datasets.png\">"
   ]
  },
  {
   "cell_type": "code",
   "execution_count": null,
   "metadata": {},
   "outputs": [
    {
     "data": {
      "text/html": [
       "<img src=\"https://charleskarpati.com/images/flow_chart_merge_datasets.png\">"
      ],
      "text/plain": [
       "<IPython.core.display.HTML object>"
      ]
     },
     "metadata": {
      "tags": []
     },
     "output_type": "display_data"
    }
   ],
   "source": [
    "#@title Run: mergeDatasets Flow Chart\n",
    "\n",
    "%%html\n",
    "<img src=\"https://charleskarpati.com/images/flow_chart_merge_datasets.png\">"
   ]
  },
  {
   "cell_type": "code",
   "execution_count": null,
   "metadata": {},
   "outputs": [
    {
     "data": {
      "text/html": [
       "<img src=\"https://charleskarpati.com/images/gannt_chart_merge_datasets.png\">"
      ],
      "text/plain": [
       "<IPython.core.display.HTML object>"
      ]
     },
     "metadata": {
      "tags": []
     },
     "output_type": "display_data"
    }
   ],
   "source": [
    "#@title Run: Gannt Chart  mergeDatasets()\n",
    "\n",
    "%%html\n",
    "<img src=\"https://charleskarpati.com/images/gannt_chart_merge_datasets.png\">"
   ]
  },
  {
   "cell_type": "code",
   "execution_count": null,
   "metadata": {},
   "outputs": [
    {
     "data": {
      "text/html": [
       "<img src=\"https://charleskarpati.com/images/sequence_diagram_merge_datasets.png\">"
      ],
      "text/plain": [
       "<IPython.core.display.HTML object>"
      ]
     },
     "metadata": {
      "tags": []
     },
     "output_type": "display_data"
    }
   ],
   "source": [
    "#@title Run: Sequence Diagram  mergeDatasets()\n",
    "\n",
    "%%html\n",
    "<img src=\"https://charleskarpati.com/images/sequence_diagram_merge_datasets.png\">"
   ]
  },
  {
   "cell_type": "markdown",
   "metadata": {},
   "source": [
    "## Function Examples"
   ]
  },
  {
   "cell_type": "markdown",
   "metadata": {},
   "source": [
    "#### Interactive Example 1"
   ]
  },
  {
   "cell_type": "code",
   "execution_count": null,
   "metadata": {},
   "outputs": [
    {
     "name": "stdout",
     "output_type": "stream",
     "text": [
      "\n",
      " Handling Left Dataset\n",
      "Please provide a new dataset URL: https://docs.google.com/spreadsheets/d/e/2PACX-1vSHFrRSHva1f82ZQ7Uxwf3A1phqljj1oa2duGlZDM1vLtrm1GI5yHmpVX2ilTfMHQ/pub?gid=601362340&single=true&output=csv\n",
      "Please provide a new dataset URL: https://docs.google.com/spreadsheets/d/e/2PACX-1vREwwa_s8Ix39OYGnnS_wA8flOoEkU7reIV4o3ZhlwYhLXhpNEvnOia_uHUDBvnFptkLLHHlaQNvsQE/pub?output=csv\n",
      "Valid Column Not Given\n",
      "Index(['TRACT2010', 'GEOID2010', 'CSA2010'], dtype='object')\n",
      "   TRACT2010    GEOID2010              CSA2010\n",
      "0      10100  24510010100               Canton\n",
      "1      10200  24510010200  Patterson Park N...\n",
      "2      10300  24510010300               Canton\n",
      "3      10400  24510010400               Canton\n",
      "4      10500  24510010500          Fells Point\n",
      "Please provide a dataset column name from the list above.\n",
      "Column Name: TRACT2010\n",
      "Left Dataset and Columns are Valid\n",
      "\n",
      " Handling Right Dataset\n",
      "Right Dataset and Columns are Valid\n",
      "\n",
      " Checking the merge_how Parameter\n",
      "merge_how operator is Valid left\n",
      "\n",
      " Checking the Crosswalk Parameter\n",
      "Are you using a crosswalk? 'True' or 'False': False\n",
      "\n",
      " Ensuring Left->Right compatability\n",
      "PERFORMING MERGE LEFT->RIGHT\n",
      "left_col TRACT2010 right_col TRACT2010 how left\n"
     ]
    },
    {
     "name": "stderr",
     "output_type": "stream",
     "text": [
      "/usr/local/lib/python3.6/dist-packages/pandas/core/ops/__init__.py:1115: FutureWarning: elementwise comparison failed; returning scalar instead, but in the future will perform elementwise comparison\n",
      "  result = method(y)\n"
     ]
    }
   ],
   "source": [
    "# Table: FDIC Baltimore Banks\n",
    "# Columns: Bank Name, Address(es), Census Tract\n",
    "left_ds = 'https://docs.google.com/spreadsheets/d/e/2PACX-1vSHFrRSHva1f82ZQ7Uxwf3A1phqljj1oa2duGlZDM1vLtrm1GI5yHmpVX2ilTfMHQ/pub?gid=601362340&single=true&output=csv'\n",
    "left_col = 'Census Tract'\n",
    "\n",
    "# Table: Crosswalk Census Communities\n",
    "# 'TRACT2010', 'GEOID2010', 'CSA2010'\n",
    "right_ds = 'https://docs.google.com/spreadsheets/d/e/2PACX-1vREwwa_s8Ix39OYGnnS_wA8flOoEkU7reIV4o3ZhlwYhLXhpNEvnOia_uHUDBvnFptkLLHHlaQNvsQE/pub?output=csv'\n",
    "right_col='TRACT2010'\n",
    "\n",
    "\n",
    "crosswalk_ds, \n",
    "use_crosswalk, \n",
    "crosswalk_left_col, \n",
    "crosswalk_right_col, \n",
    "\n",
    "merge_how = 'outer'\n",
    "interactive = True\n",
    "use_crosswalk = True\n",
    "\n",
    "merged_df = mergeDatasets( left_ds=left_ds, left_col=left_col, \n",
    "              right_ds=right_ds, right_col=right_col, \n",
    "              merge_how='left', interactive =True, use_crosswalk=use_crosswalk )"
   ]
  },
  {
   "cell_type": "code",
   "execution_count": null,
   "metadata": {},
   "outputs": [
    {
     "data": {
      "text/html": [
       "<div>\n",
       "<style scoped>\n",
       "    .dataframe tbody tr th:only-of-type {\n",
       "        vertical-align: middle;\n",
       "    }\n",
       "\n",
       "    .dataframe tbody tr th {\n",
       "        vertical-align: top;\n",
       "    }\n",
       "\n",
       "    .dataframe thead th {\n",
       "        text-align: right;\n",
       "    }\n",
       "</style>\n",
       "<table border=\"1\" class=\"dataframe\">\n",
       "  <thead>\n",
       "    <tr style=\"text-align: right;\">\n",
       "      <th></th>\n",
       "      <th>TRACT2010</th>\n",
       "      <th>GEOID2010_x</th>\n",
       "      <th>CSA2010_x</th>\n",
       "      <th>GEOID2010_y</th>\n",
       "      <th>CSA2010_y</th>\n",
       "    </tr>\n",
       "  </thead>\n",
       "  <tbody>\n",
       "    <tr>\n",
       "      <th>0</th>\n",
       "      <td>10100</td>\n",
       "      <td>24510010100</td>\n",
       "      <td>Canton</td>\n",
       "      <td>24510010100</td>\n",
       "      <td>Canton</td>\n",
       "    </tr>\n",
       "    <tr>\n",
       "      <th>1</th>\n",
       "      <td>10200</td>\n",
       "      <td>24510010200</td>\n",
       "      <td>Patterson Park N...</td>\n",
       "      <td>24510010200</td>\n",
       "      <td>Patterson Park N...</td>\n",
       "    </tr>\n",
       "    <tr>\n",
       "      <th>2</th>\n",
       "      <td>10300</td>\n",
       "      <td>24510010300</td>\n",
       "      <td>Canton</td>\n",
       "      <td>24510010300</td>\n",
       "      <td>Canton</td>\n",
       "    </tr>\n",
       "    <tr>\n",
       "      <th>3</th>\n",
       "      <td>10400</td>\n",
       "      <td>24510010400</td>\n",
       "      <td>Canton</td>\n",
       "      <td>24510010400</td>\n",
       "      <td>Canton</td>\n",
       "    </tr>\n",
       "    <tr>\n",
       "      <th>4</th>\n",
       "      <td>10500</td>\n",
       "      <td>24510010500</td>\n",
       "      <td>Fells Point</td>\n",
       "      <td>24510010500</td>\n",
       "      <td>Fells Point</td>\n",
       "    </tr>\n",
       "  </tbody>\n",
       "</table>\n",
       "</div>"
      ],
      "text/plain": [
       "   TRACT2010  GEOID2010_x            CSA2010_x  GEOID2010_y            CSA2010_y\n",
       "0      10100  24510010100               Canton  24510010100               Canton\n",
       "1      10200  24510010200  Patterson Park N...  24510010200  Patterson Park N...\n",
       "2      10300  24510010300               Canton  24510010300               Canton\n",
       "3      10400  24510010400               Canton  24510010400               Canton\n",
       "4      10500  24510010500          Fells Point  24510010500          Fells Point"
      ]
     },
     "execution_count": null,
     "metadata": {
      "tags": []
     },
     "output_type": "execute_result"
    }
   ],
   "source": [
    "merged_df.head()"
   ]
  },
  {
   "cell_type": "markdown",
   "metadata": {},
   "source": [
    "#### Example 1.5 ) Get CSA and Geometry with a Crosswalk."
   ]
  },
  {
   "cell_type": "code",
   "execution_count": null,
   "metadata": {},
   "outputs": [],
   "source": [
    "# Primary Table\n",
    "# Description: I created a public dataset from a google xlsx sheet 'Bank Addresses and Census Tract' from a workbook of the same name.\n",
    "# Table: FDIC Baltimore Banks\n",
    "# Columns: Bank Name, Address(es), Census Tract\n",
    "left_ds = 'https://docs.google.com/spreadsheets/d/e/2PACX-1vSHFrRSHva1f82ZQ7Uxwf3A1phqljj1oa2duGlZDM1vLtrm1GI5yHmpVX2ilTfMHQ/pub?gid=601362340&single=true&output=csv'\n",
    "left_col = 'Census Tract'\n",
    "\n",
    "# Alternate Primary Table\n",
    "# Description: Same workbook, different Sheet: 'Branches per tract' \n",
    "# Columns: Census Tract, Number branches per tract\n",
    "# left_ds = 'https://docs.google.com/spreadsheets/d/e/2PACX-1vSHFrRSHva1f82ZQ7Uxwf3A1phqljj1oa2duGlZDM1vLtrm1GI5yHmpVX2ilTfMHQ/pub?gid=1698745725&single=true&output=csv'\n",
    "# lef_col = 'Number branches per tract'\n",
    "\n",
    "# Crosswalk Table\n",
    "# Table: Crosswalk Census Communities\n",
    "# 'TRACT2010', 'GEOID2010', 'CSA2010'\n",
    "crosswalk_ds = 'https://docs.google.com/spreadsheets/d/e/2PACX-1vREwwa_s8Ix39OYGnnS_wA8flOoEkU7reIV4o3ZhlwYhLXhpNEvnOia_uHUDBvnFptkLLHHlaQNvsQE/pub?output=csv'\n",
    "use_crosswalk = True\n",
    "crosswalk_left_col = 'TRACT2010'\n",
    "crosswalk_right_col = 'GEOID2010'\n",
    "\n",
    "# Secondary Table\n",
    "# Table: Baltimore Boundaries\n",
    "# 'TRACTCE10', 'GEOID10', 'CSA', 'NAME10', 'Tract', 'geometry'\n",
    "right_ds = 'https://docs.google.com/spreadsheets/d/e/2PACX-1vTPKW6YOHPFvkw3FM3m5y67-Aa5ZlrM0Ee1Fb57wlGuldr99sEvVWnkej30FXhSb3j8o9gr8izq2ZRP/pub?output=csv'\n",
    "right_col ='GEOID10'\n",
    "\n",
    "merge_how = 'geometry'\n",
    "interactive = True\n",
    "merge_how = 'outer'\n",
    "\n",
    "merged_df = mergeDatasets( left_ds=left_ds, left_col=left_col, \n",
    "              use_crosswalk=use_crosswalk, crosswalk_ds=crosswalk_ds,\n",
    "              crosswalk_left_col = crosswalk_left_col, crosswalk_right_col = crosswalk_right_col,\n",
    "              right_ds=right_ds, right_col=right_col, \n",
    "              merge_how=merge_how, interactive = interactive )\n",
    "\n",
    "merged_df.head()"
   ]
  },
  {
   "cell_type": "markdown",
   "metadata": {},
   "source": [
    "Here we can save the data so that it may be used in later tutorials. "
   ]
  },
  {
   "cell_type": "code",
   "execution_count": null,
   "metadata": {},
   "outputs": [],
   "source": [
    "string = 'test_save_data_with_geom_and_csa'\n",
    "merged_df.to_csv(string+'.csv', encoding=\"utf-8\", index=False, quoting=csv.QUOTE_ALL)"
   ]
  },
  {
   "cell_type": "markdown",
   "metadata": {},
   "source": [
    "\n",
    "Download data by: \n",
    "\n",
    "- Clicking the 'Files' tab in the left hand menu of this screen. Locate your file within the file explorer that appears directly under the 'Files' tab button once clicked. Right click the file in the file explorer and select the 'download' option from the dropdown.  "
   ]
  },
  {
   "cell_type": "markdown",
   "metadata": {},
   "source": [
    "\n",
    "In the next tutorial you will learn how to load this data as a geospatial dataset so that it may be mapped and mapping functionalities may be applied to it.\n"
   ]
  },
  {
   "cell_type": "markdown",
   "metadata": {},
   "source": [
    "You can upload this data into the next tutorial in one of two ways.\n",
    "\n",
    "1) \n",
    "- uploading the saved file to google Drive and connecting to your drive path\n",
    "\n",
    "OR. \n",
    "\n",
    "2) \n",
    "- 'by first downloading the dataset as directed above, and then navigating to the next tutorial. Go to their page and:\n",
    "- Uploading data using an file 'upload' button accessible within the 'Files' tab in the left hand menu of this screen. The next tutorial will teach you how to load this data so that it may be mapped."
   ]
  },
  {
   "cell_type": "markdown",
   "metadata": {},
   "source": [
    "#### Interactive Example 2"
   ]
  },
  {
   "cell_type": "code",
   "execution_count": null,
   "metadata": {},
   "outputs": [],
   "source": [
    "# When the prompts come up input the values not included from Interactive Example 1 and you will get the same output.\n",
    "# This is to demonstrate that not all parameters must be known prior to executing the function.\n",
    "\n",
    "mergeDatasets( left_ds=left_ds, left_col=left_col, right_ds=right_ds, interactive =True )"
   ]
  },
  {
   "cell_type": "code",
   "execution_count": null,
   "metadata": {},
   "outputs": [],
   "source": [
    "mergedDataset = mergeDatasets( left_ds=left_ds, left_col=left_col, use_crosswalk=use_crosswalk, right_ds=right_ds, right_col=right_col, merge_how = merge_how, interactive = interactive )"
   ]
  },
  {
   "cell_type": "code",
   "execution_count": null,
   "metadata": {},
   "outputs": [],
   "source": [
    "mergedDataset.dtypes"
   ]
  },
  {
   "cell_type": "markdown",
   "metadata": {},
   "source": [
    "#### Interactive Run Alone"
   ]
  },
  {
   "cell_type": "code",
   "execution_count": null,
   "metadata": {},
   "outputs": [],
   "source": [
    "mergeDatasets()"
   ]
  },
  {
   "cell_type": "markdown",
   "metadata": {},
   "source": [
    "#### Preconfigured Example 1"
   ]
  },
  {
   "cell_type": "code",
   "execution_count": null,
   "metadata": {},
   "outputs": [],
   "source": [
    "# Census Crosswalk\n",
    "# 'TRACT2010', 'GEOID2010', 'CSA2010'\n",
    "left_ds = 'https://docs.google.com/spreadsheets/d/e/2PACX-1vREwwa_s8Ix39OYGnnS_wA8flOoEkU7reIV4o3ZhlwYhLXhpNEvnOia_uHUDBvnFptkLLHHlaQNvsQE/pub?output=csv'\n",
    "\n",
    "# Baltimore Boundaries\n",
    "# 'TRACTCE10', 'GEOID10', 'CSA', 'NAME10', 'Tract', 'geometry'\n",
    "right_ds = 'https://docs.google.com/spreadsheets/d/e/2PACX-1vTPKW6YOHPFvkw3FM3m5y67-Aa5ZlrM0Ee1Fb57wlGuldr99sEvVWnkej30FXhSb3j8o9gr8izq2ZRP/pub?output=csv'\n",
    "# The Left DS Cols will map to the first three Right DS Cols listed\n",
    "left_col = 'GEOID2010'\n",
    "right_col = 'GEOID10'\n",
    "merge_how = 'outer'\n",
    "interactive = True"
   ]
  },
  {
   "cell_type": "code",
   "execution_count": null,
   "metadata": {},
   "outputs": [],
   "source": [
    "mergeDatasets( left_ds=left_ds, left_col=left_col, right_ds=right_ds, right_col=right_col, merge_how = merge_how, interactive = interactive )"
   ]
  }
 ],
 "metadata": {
  "kernelspec": {
   "display_name": "Python 3",
   "name": "python3"
  }
 },
 "nbformat": 4,
 "nbformat_minor": 0
}
